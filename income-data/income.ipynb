{
 "cells": [
  {
   "cell_type": "code",
   "execution_count": 2,
   "metadata": {},
   "outputs": [],
   "source": [
    "#https://www.kaggle.com/chaman7/census-income-prediction\n",
    "import numpy as np\n",
    "import pandas as pd\n",
    "import matplotlib.pyplot as plt\n",
    "import seaborn as sns\n"
   ]
  },
  {
   "cell_type": "markdown",
   "metadata": {},
   "source": [
    "# load data"
   ]
  },
  {
   "cell_type": "code",
   "execution_count": 3,
   "metadata": {},
   "outputs": [],
   "source": [
    "df = pd.read_csv('/home/niloofar/adult.csv')"
   ]
  },
  {
   "cell_type": "code",
   "execution_count": 4,
   "metadata": {},
   "outputs": [
    {
     "data": {
      "text/html": [
       "<div>\n",
       "<style scoped>\n",
       "    .dataframe tbody tr th:only-of-type {\n",
       "        vertical-align: middle;\n",
       "    }\n",
       "\n",
       "    .dataframe tbody tr th {\n",
       "        vertical-align: top;\n",
       "    }\n",
       "\n",
       "    .dataframe thead th {\n",
       "        text-align: right;\n",
       "    }\n",
       "</style>\n",
       "<table border=\"1\" class=\"dataframe\">\n",
       "  <thead>\n",
       "    <tr style=\"text-align: right;\">\n",
       "      <th></th>\n",
       "      <th>age</th>\n",
       "      <th>workclass</th>\n",
       "      <th>fnlwgt</th>\n",
       "      <th>education</th>\n",
       "      <th>education.num</th>\n",
       "      <th>marital.status</th>\n",
       "      <th>occupation</th>\n",
       "      <th>relationship</th>\n",
       "      <th>race</th>\n",
       "      <th>sex</th>\n",
       "      <th>capital.gain</th>\n",
       "      <th>capital.loss</th>\n",
       "      <th>hours.per.week</th>\n",
       "      <th>native.country</th>\n",
       "      <th>income</th>\n",
       "    </tr>\n",
       "  </thead>\n",
       "  <tbody>\n",
       "    <tr>\n",
       "      <th>0</th>\n",
       "      <td>90</td>\n",
       "      <td>?</td>\n",
       "      <td>77053</td>\n",
       "      <td>HS-grad</td>\n",
       "      <td>9</td>\n",
       "      <td>Widowed</td>\n",
       "      <td>?</td>\n",
       "      <td>Not-in-family</td>\n",
       "      <td>White</td>\n",
       "      <td>Female</td>\n",
       "      <td>0</td>\n",
       "      <td>4356</td>\n",
       "      <td>40</td>\n",
       "      <td>United-States</td>\n",
       "      <td>&lt;=50K</td>\n",
       "    </tr>\n",
       "    <tr>\n",
       "      <th>1</th>\n",
       "      <td>82</td>\n",
       "      <td>Private</td>\n",
       "      <td>132870</td>\n",
       "      <td>HS-grad</td>\n",
       "      <td>9</td>\n",
       "      <td>Widowed</td>\n",
       "      <td>Exec-managerial</td>\n",
       "      <td>Not-in-family</td>\n",
       "      <td>White</td>\n",
       "      <td>Female</td>\n",
       "      <td>0</td>\n",
       "      <td>4356</td>\n",
       "      <td>18</td>\n",
       "      <td>United-States</td>\n",
       "      <td>&lt;=50K</td>\n",
       "    </tr>\n",
       "    <tr>\n",
       "      <th>2</th>\n",
       "      <td>66</td>\n",
       "      <td>?</td>\n",
       "      <td>186061</td>\n",
       "      <td>Some-college</td>\n",
       "      <td>10</td>\n",
       "      <td>Widowed</td>\n",
       "      <td>?</td>\n",
       "      <td>Unmarried</td>\n",
       "      <td>Black</td>\n",
       "      <td>Female</td>\n",
       "      <td>0</td>\n",
       "      <td>4356</td>\n",
       "      <td>40</td>\n",
       "      <td>United-States</td>\n",
       "      <td>&lt;=50K</td>\n",
       "    </tr>\n",
       "    <tr>\n",
       "      <th>3</th>\n",
       "      <td>54</td>\n",
       "      <td>Private</td>\n",
       "      <td>140359</td>\n",
       "      <td>7th-8th</td>\n",
       "      <td>4</td>\n",
       "      <td>Divorced</td>\n",
       "      <td>Machine-op-inspct</td>\n",
       "      <td>Unmarried</td>\n",
       "      <td>White</td>\n",
       "      <td>Female</td>\n",
       "      <td>0</td>\n",
       "      <td>3900</td>\n",
       "      <td>40</td>\n",
       "      <td>United-States</td>\n",
       "      <td>&lt;=50K</td>\n",
       "    </tr>\n",
       "    <tr>\n",
       "      <th>4</th>\n",
       "      <td>41</td>\n",
       "      <td>Private</td>\n",
       "      <td>264663</td>\n",
       "      <td>Some-college</td>\n",
       "      <td>10</td>\n",
       "      <td>Separated</td>\n",
       "      <td>Prof-specialty</td>\n",
       "      <td>Own-child</td>\n",
       "      <td>White</td>\n",
       "      <td>Female</td>\n",
       "      <td>0</td>\n",
       "      <td>3900</td>\n",
       "      <td>40</td>\n",
       "      <td>United-States</td>\n",
       "      <td>&lt;=50K</td>\n",
       "    </tr>\n",
       "  </tbody>\n",
       "</table>\n",
       "</div>"
      ],
      "text/plain": [
       "   age workclass  fnlwgt     education  education.num marital.status  \\\n",
       "0   90         ?   77053       HS-grad              9        Widowed   \n",
       "1   82   Private  132870       HS-grad              9        Widowed   \n",
       "2   66         ?  186061  Some-college             10        Widowed   \n",
       "3   54   Private  140359       7th-8th              4       Divorced   \n",
       "4   41   Private  264663  Some-college             10      Separated   \n",
       "\n",
       "          occupation   relationship   race     sex  capital.gain  \\\n",
       "0                  ?  Not-in-family  White  Female             0   \n",
       "1    Exec-managerial  Not-in-family  White  Female             0   \n",
       "2                  ?      Unmarried  Black  Female             0   \n",
       "3  Machine-op-inspct      Unmarried  White  Female             0   \n",
       "4     Prof-specialty      Own-child  White  Female             0   \n",
       "\n",
       "   capital.loss  hours.per.week native.country income  \n",
       "0          4356              40  United-States  <=50K  \n",
       "1          4356              18  United-States  <=50K  \n",
       "2          4356              40  United-States  <=50K  \n",
       "3          3900              40  United-States  <=50K  \n",
       "4          3900              40  United-States  <=50K  "
      ]
     },
     "execution_count": 4,
     "metadata": {},
     "output_type": "execute_result"
    }
   ],
   "source": [
    "df.head()"
   ]
  },
  {
   "cell_type": "code",
   "execution_count": 5,
   "metadata": {},
   "outputs": [
    {
     "data": {
      "text/plain": [
       "(32561, 15)"
      ]
     },
     "execution_count": 5,
     "metadata": {},
     "output_type": "execute_result"
    }
   ],
   "source": [
    "df.columns\n",
    "df.shape"
   ]
  },
  {
   "cell_type": "code",
   "execution_count": 6,
   "metadata": {},
   "outputs": [
    {
     "data": {
      "text/plain": [
       "Index(['age', 'workclass', 'fnlwgt', 'education', 'education.num',\n",
       "       'marital.status', 'occupation', 'relationship', 'race', 'sex',\n",
       "       'capital.gain', 'capital.loss', 'hours.per.week', 'native.country',\n",
       "       'income'],\n",
       "      dtype='object')"
      ]
     },
     "execution_count": 6,
     "metadata": {},
     "output_type": "execute_result"
    }
   ],
   "source": [
    "df.columns"
   ]
  },
  {
   "cell_type": "code",
   "execution_count": 7,
   "metadata": {},
   "outputs": [
    {
     "data": {
      "text/plain": [
       "age                  0\n",
       "workclass         1836\n",
       "fnlwgt               0\n",
       "education            0\n",
       "education.num        0\n",
       "marital.status       0\n",
       "occupation        1843\n",
       "relationship         0\n",
       "race                 0\n",
       "sex                  0\n",
       "capital.gain         0\n",
       "capital.loss         0\n",
       "hours.per.week       0\n",
       "native.country     583\n",
       "income               0\n",
       "dtype: int64"
      ]
     },
     "execution_count": 7,
     "metadata": {},
     "output_type": "execute_result"
    }
   ],
   "source": [
    "df.isin(['?']).sum()"
   ]
  },
  {
   "cell_type": "code",
   "execution_count": 8,
   "metadata": {},
   "outputs": [
    {
     "data": {
      "text/html": [
       "<div>\n",
       "<style scoped>\n",
       "    .dataframe tbody tr th:only-of-type {\n",
       "        vertical-align: middle;\n",
       "    }\n",
       "\n",
       "    .dataframe tbody tr th {\n",
       "        vertical-align: top;\n",
       "    }\n",
       "\n",
       "    .dataframe thead th {\n",
       "        text-align: right;\n",
       "    }\n",
       "</style>\n",
       "<table border=\"1\" class=\"dataframe\">\n",
       "  <thead>\n",
       "    <tr style=\"text-align: right;\">\n",
       "      <th></th>\n",
       "      <th>age</th>\n",
       "      <th>workclass</th>\n",
       "      <th>fnlwgt</th>\n",
       "      <th>education</th>\n",
       "      <th>education.num</th>\n",
       "      <th>marital.status</th>\n",
       "      <th>occupation</th>\n",
       "      <th>relationship</th>\n",
       "      <th>race</th>\n",
       "      <th>sex</th>\n",
       "      <th>capital.gain</th>\n",
       "      <th>capital.loss</th>\n",
       "      <th>hours.per.week</th>\n",
       "      <th>native.country</th>\n",
       "      <th>income</th>\n",
       "    </tr>\n",
       "  </thead>\n",
       "  <tbody>\n",
       "    <tr>\n",
       "      <th>0</th>\n",
       "      <td>90</td>\n",
       "      <td>NaN</td>\n",
       "      <td>77053</td>\n",
       "      <td>HS-grad</td>\n",
       "      <td>9</td>\n",
       "      <td>Widowed</td>\n",
       "      <td>NaN</td>\n",
       "      <td>Not-in-family</td>\n",
       "      <td>White</td>\n",
       "      <td>Female</td>\n",
       "      <td>0</td>\n",
       "      <td>4356</td>\n",
       "      <td>40</td>\n",
       "      <td>United-States</td>\n",
       "      <td>&lt;=50K</td>\n",
       "    </tr>\n",
       "    <tr>\n",
       "      <th>1</th>\n",
       "      <td>82</td>\n",
       "      <td>Private</td>\n",
       "      <td>132870</td>\n",
       "      <td>HS-grad</td>\n",
       "      <td>9</td>\n",
       "      <td>Widowed</td>\n",
       "      <td>Exec-managerial</td>\n",
       "      <td>Not-in-family</td>\n",
       "      <td>White</td>\n",
       "      <td>Female</td>\n",
       "      <td>0</td>\n",
       "      <td>4356</td>\n",
       "      <td>18</td>\n",
       "      <td>United-States</td>\n",
       "      <td>&lt;=50K</td>\n",
       "    </tr>\n",
       "    <tr>\n",
       "      <th>2</th>\n",
       "      <td>66</td>\n",
       "      <td>NaN</td>\n",
       "      <td>186061</td>\n",
       "      <td>Some-college</td>\n",
       "      <td>10</td>\n",
       "      <td>Widowed</td>\n",
       "      <td>NaN</td>\n",
       "      <td>Unmarried</td>\n",
       "      <td>Black</td>\n",
       "      <td>Female</td>\n",
       "      <td>0</td>\n",
       "      <td>4356</td>\n",
       "      <td>40</td>\n",
       "      <td>United-States</td>\n",
       "      <td>&lt;=50K</td>\n",
       "    </tr>\n",
       "    <tr>\n",
       "      <th>3</th>\n",
       "      <td>54</td>\n",
       "      <td>Private</td>\n",
       "      <td>140359</td>\n",
       "      <td>7th-8th</td>\n",
       "      <td>4</td>\n",
       "      <td>Divorced</td>\n",
       "      <td>Machine-op-inspct</td>\n",
       "      <td>Unmarried</td>\n",
       "      <td>White</td>\n",
       "      <td>Female</td>\n",
       "      <td>0</td>\n",
       "      <td>3900</td>\n",
       "      <td>40</td>\n",
       "      <td>United-States</td>\n",
       "      <td>&lt;=50K</td>\n",
       "    </tr>\n",
       "    <tr>\n",
       "      <th>4</th>\n",
       "      <td>41</td>\n",
       "      <td>Private</td>\n",
       "      <td>264663</td>\n",
       "      <td>Some-college</td>\n",
       "      <td>10</td>\n",
       "      <td>Separated</td>\n",
       "      <td>Prof-specialty</td>\n",
       "      <td>Own-child</td>\n",
       "      <td>White</td>\n",
       "      <td>Female</td>\n",
       "      <td>0</td>\n",
       "      <td>3900</td>\n",
       "      <td>40</td>\n",
       "      <td>United-States</td>\n",
       "      <td>&lt;=50K</td>\n",
       "    </tr>\n",
       "  </tbody>\n",
       "</table>\n",
       "</div>"
      ],
      "text/plain": [
       "   age workclass  fnlwgt     education  education.num marital.status  \\\n",
       "0   90       NaN   77053       HS-grad              9        Widowed   \n",
       "1   82   Private  132870       HS-grad              9        Widowed   \n",
       "2   66       NaN  186061  Some-college             10        Widowed   \n",
       "3   54   Private  140359       7th-8th              4       Divorced   \n",
       "4   41   Private  264663  Some-college             10      Separated   \n",
       "\n",
       "          occupation   relationship   race     sex  capital.gain  \\\n",
       "0                NaN  Not-in-family  White  Female             0   \n",
       "1    Exec-managerial  Not-in-family  White  Female             0   \n",
       "2                NaN      Unmarried  Black  Female             0   \n",
       "3  Machine-op-inspct      Unmarried  White  Female             0   \n",
       "4     Prof-specialty      Own-child  White  Female             0   \n",
       "\n",
       "   capital.loss  hours.per.week native.country income  \n",
       "0          4356              40  United-States  <=50K  \n",
       "1          4356              18  United-States  <=50K  \n",
       "2          4356              40  United-States  <=50K  \n",
       "3          3900              40  United-States  <=50K  \n",
       "4          3900              40  United-States  <=50K  "
      ]
     },
     "execution_count": 8,
     "metadata": {},
     "output_type": "execute_result"
    }
   ],
   "source": [
    "df = df.replace('?', np.NaN)\n",
    "df.head()"
   ]
  },
  {
   "cell_type": "code",
   "execution_count": 9,
   "metadata": {},
   "outputs": [
    {
     "data": {
      "text/html": [
       "<div>\n",
       "<style scoped>\n",
       "    .dataframe tbody tr th:only-of-type {\n",
       "        vertical-align: middle;\n",
       "    }\n",
       "\n",
       "    .dataframe tbody tr th {\n",
       "        vertical-align: top;\n",
       "    }\n",
       "\n",
       "    .dataframe thead th {\n",
       "        text-align: right;\n",
       "    }\n",
       "</style>\n",
       "<table border=\"1\" class=\"dataframe\">\n",
       "  <thead>\n",
       "    <tr style=\"text-align: right;\">\n",
       "      <th></th>\n",
       "      <th>age</th>\n",
       "      <th>workclass</th>\n",
       "      <th>fnlwgt</th>\n",
       "      <th>education</th>\n",
       "      <th>education.num</th>\n",
       "      <th>marital.status</th>\n",
       "      <th>occupation</th>\n",
       "      <th>relationship</th>\n",
       "      <th>race</th>\n",
       "      <th>sex</th>\n",
       "      <th>capital.gain</th>\n",
       "      <th>capital.loss</th>\n",
       "      <th>hours.per.week</th>\n",
       "      <th>native.country</th>\n",
       "      <th>income</th>\n",
       "    </tr>\n",
       "  </thead>\n",
       "  <tbody>\n",
       "    <tr>\n",
       "      <th>1</th>\n",
       "      <td>82</td>\n",
       "      <td>Private</td>\n",
       "      <td>132870</td>\n",
       "      <td>HS-grad</td>\n",
       "      <td>9</td>\n",
       "      <td>Widowed</td>\n",
       "      <td>Exec-managerial</td>\n",
       "      <td>Not-in-family</td>\n",
       "      <td>White</td>\n",
       "      <td>Female</td>\n",
       "      <td>0</td>\n",
       "      <td>4356</td>\n",
       "      <td>18</td>\n",
       "      <td>United-States</td>\n",
       "      <td>&lt;=50K</td>\n",
       "    </tr>\n",
       "    <tr>\n",
       "      <th>3</th>\n",
       "      <td>54</td>\n",
       "      <td>Private</td>\n",
       "      <td>140359</td>\n",
       "      <td>7th-8th</td>\n",
       "      <td>4</td>\n",
       "      <td>Divorced</td>\n",
       "      <td>Machine-op-inspct</td>\n",
       "      <td>Unmarried</td>\n",
       "      <td>White</td>\n",
       "      <td>Female</td>\n",
       "      <td>0</td>\n",
       "      <td>3900</td>\n",
       "      <td>40</td>\n",
       "      <td>United-States</td>\n",
       "      <td>&lt;=50K</td>\n",
       "    </tr>\n",
       "    <tr>\n",
       "      <th>4</th>\n",
       "      <td>41</td>\n",
       "      <td>Private</td>\n",
       "      <td>264663</td>\n",
       "      <td>Some-college</td>\n",
       "      <td>10</td>\n",
       "      <td>Separated</td>\n",
       "      <td>Prof-specialty</td>\n",
       "      <td>Own-child</td>\n",
       "      <td>White</td>\n",
       "      <td>Female</td>\n",
       "      <td>0</td>\n",
       "      <td>3900</td>\n",
       "      <td>40</td>\n",
       "      <td>United-States</td>\n",
       "      <td>&lt;=50K</td>\n",
       "    </tr>\n",
       "    <tr>\n",
       "      <th>5</th>\n",
       "      <td>34</td>\n",
       "      <td>Private</td>\n",
       "      <td>216864</td>\n",
       "      <td>HS-grad</td>\n",
       "      <td>9</td>\n",
       "      <td>Divorced</td>\n",
       "      <td>Other-service</td>\n",
       "      <td>Unmarried</td>\n",
       "      <td>White</td>\n",
       "      <td>Female</td>\n",
       "      <td>0</td>\n",
       "      <td>3770</td>\n",
       "      <td>45</td>\n",
       "      <td>United-States</td>\n",
       "      <td>&lt;=50K</td>\n",
       "    </tr>\n",
       "    <tr>\n",
       "      <th>6</th>\n",
       "      <td>38</td>\n",
       "      <td>Private</td>\n",
       "      <td>150601</td>\n",
       "      <td>10th</td>\n",
       "      <td>6</td>\n",
       "      <td>Separated</td>\n",
       "      <td>Adm-clerical</td>\n",
       "      <td>Unmarried</td>\n",
       "      <td>White</td>\n",
       "      <td>Male</td>\n",
       "      <td>0</td>\n",
       "      <td>3770</td>\n",
       "      <td>40</td>\n",
       "      <td>United-States</td>\n",
       "      <td>&lt;=50K</td>\n",
       "    </tr>\n",
       "  </tbody>\n",
       "</table>\n",
       "</div>"
      ],
      "text/plain": [
       "   age workclass  fnlwgt     education  education.num marital.status  \\\n",
       "1   82   Private  132870       HS-grad              9        Widowed   \n",
       "3   54   Private  140359       7th-8th              4       Divorced   \n",
       "4   41   Private  264663  Some-college             10      Separated   \n",
       "5   34   Private  216864       HS-grad              9       Divorced   \n",
       "6   38   Private  150601          10th              6      Separated   \n",
       "\n",
       "          occupation   relationship   race     sex  capital.gain  \\\n",
       "1    Exec-managerial  Not-in-family  White  Female             0   \n",
       "3  Machine-op-inspct      Unmarried  White  Female             0   \n",
       "4     Prof-specialty      Own-child  White  Female             0   \n",
       "5      Other-service      Unmarried  White  Female             0   \n",
       "6       Adm-clerical      Unmarried  White    Male             0   \n",
       "\n",
       "   capital.loss  hours.per.week native.country income  \n",
       "1          4356              18  United-States  <=50K  \n",
       "3          3900              40  United-States  <=50K  \n",
       "4          3900              40  United-States  <=50K  \n",
       "5          3770              45  United-States  <=50K  \n",
       "6          3770              40  United-States  <=50K  "
      ]
     },
     "execution_count": 9,
     "metadata": {},
     "output_type": "execute_result"
    }
   ],
   "source": [
    "df = df.dropna()\n",
    "df.head()"
   ]
  },
  {
   "cell_type": "code",
   "execution_count": 10,
   "metadata": {},
   "outputs": [
    {
     "data": {
      "text/plain": [
       "(30162, 15)"
      ]
     },
     "execution_count": 10,
     "metadata": {},
     "output_type": "execute_result"
    }
   ],
   "source": [
    "df.shape"
   ]
  },
  {
   "cell_type": "code",
   "execution_count": 11,
   "metadata": {},
   "outputs": [
    {
     "data": {
      "text/plain": [
       "<=50K    22654\n",
       ">50K      7508\n",
       "Name: income, dtype: int64"
      ]
     },
     "execution_count": 11,
     "metadata": {},
     "output_type": "execute_result"
    }
   ],
   "source": [
    "df['income'].value_counts()"
   ]
  },
  {
   "cell_type": "code",
   "execution_count": 12,
   "metadata": {},
   "outputs": [
    {
     "data": {
      "text/plain": [
       "Male      20380\n",
       "Female     9782\n",
       "Name: sex, dtype: int64"
      ]
     },
     "execution_count": 12,
     "metadata": {},
     "output_type": "execute_result"
    }
   ],
   "source": [
    "df['sex'].value_counts()"
   ]
  },
  {
   "cell_type": "code",
   "execution_count": 13,
   "metadata": {},
   "outputs": [
    {
     "data": {
      "text/plain": [
       "<matplotlib.axes._subplots.AxesSubplot at 0x7f49c435d550>"
      ]
     },
     "execution_count": 13,
     "metadata": {},
     "output_type": "execute_result"
    },
    {
     "data": {
      "image/png": "[encoded data removed]",
      "text/plain": [
       "<Figure size 432x288 with 1 Axes>"
      ]
     },
     "metadata": {
      "needs_background": "light"
     },
     "output_type": "display_data"
    }
   ],
   "source": [
    "sns.countplot(df['sex'],hue=df['income'])"
   ]
  },
  {
   "cell_type": "code",
   "execution_count": 14,
   "metadata": {},
   "outputs": [
    {
     "data": {
      "text/plain": [
       "(array([ 0,  1,  2,  3,  4,  5,  6,  7,  8,  9, 10, 11, 12, 13]),\n",
       " <a list of 14 Text major ticklabel objects>)"
      ]
     },
     "execution_count": 14,
     "metadata": {},
     "output_type": "execute_result"
    },
    {
     "data": {
      "image/png": "[encoded data removed]",
      "text/plain": [
       "<Figure size 432x288 with 1 Axes>"
      ]
     },
     "metadata": {
      "needs_background": "light"
     },
     "output_type": "display_data"
    }
   ],
   "source": [
    "sns.countplot(df['occupation'],hue=df['income'])\n",
    "plt.xticks(rotation=90)"
   ]
  },
  {
   "cell_type": "code",
   "execution_count": 15,
   "metadata": {},
   "outputs": [],
   "source": [
    "df['income']=df['income'].map({'<=50K': 0, '>50K': 1})"
   ]
  },
  {
   "cell_type": "code",
   "execution_count": 16,
   "metadata": {},
   "outputs": [
    {
     "data": {
      "text/plain": [
       "<matplotlib.axes._subplots.AxesSubplot at 0x7f49c230c550>"
      ]
     },
     "execution_count": 16,
     "metadata": {},
     "output_type": "execute_result"
    },
    {
     "data": {
      "image/png": "[encoded data removed]",
      "text/plain": [
       "<Figure size 432x288 with 1 Axes>"
      ]
     },
     "metadata": {
      "needs_background": "light"
     },
     "output_type": "display_data"
    }
   ],
   "source": [
    "sns.barplot(x=\"education.num\",y=\"income\",data=df)"
   ]
  },
  {
   "cell_type": "code",
   "execution_count": 17,
   "metadata": {},
   "outputs": [
    {
     "data": {
      "text/plain": [
       "(array([ 0,  1,  2,  3,  4,  5,  6,  7,  8,  9, 10, 11, 12, 13, 14, 15]),\n",
       " <a list of 16 Text major ticklabel objects>)"
      ]
     },
     "execution_count": 17,
     "metadata": {},
     "output_type": "execute_result"
    },
    {
     "data": {
      "image/png": "[encoded data removed]",
      "text/plain": [
       "<Figure size 432x288 with 1 Axes>"
      ]
     },
     "metadata": {
      "needs_background": "light"
     },
     "output_type": "display_data"
    }
   ],
   "source": [
    "sns.barplot(x=\"education\",y=\"income\",data=df)\n",
    "plt.xticks(rotation=90)"
   ]
  },
  {
   "cell_type": "code",
   "execution_count": 18,
   "metadata": {},
   "outputs": [],
   "source": [
    "from sklearn.preprocessing import LabelEncoder\n",
    "le = LabelEncoder()\n",
    "for col in df.columns:\n",
    "    if df[col].dtypes == 'object':\n",
    "        df[col] = le.fit_transform(df[col])\n"
   ]
  },
  {
   "cell_type": "code",
   "execution_count": 19,
   "metadata": {},
   "outputs": [
    {
     "data": {
      "text/html": [
       "<div>\n",
       "<style scoped>\n",
       "    .dataframe tbody tr th:only-of-type {\n",
       "        vertical-align: middle;\n",
       "    }\n",
       "\n",
       "    .dataframe tbody tr th {\n",
       "        vertical-align: top;\n",
       "    }\n",
       "\n",
       "    .dataframe thead th {\n",
       "        text-align: right;\n",
       "    }\n",
       "</style>\n",
       "<table border=\"1\" class=\"dataframe\">\n",
       "  <thead>\n",
       "    <tr style=\"text-align: right;\">\n",
       "      <th></th>\n",
       "      <th>age</th>\n",
       "      <th>workclass</th>\n",
       "      <th>fnlwgt</th>\n",
       "      <th>education</th>\n",
       "      <th>education.num</th>\n",
       "      <th>marital.status</th>\n",
       "      <th>occupation</th>\n",
       "      <th>relationship</th>\n",
       "      <th>race</th>\n",
       "      <th>sex</th>\n",
       "      <th>capital.gain</th>\n",
       "      <th>capital.loss</th>\n",
       "      <th>hours.per.week</th>\n",
       "      <th>native.country</th>\n",
       "      <th>income</th>\n",
       "    </tr>\n",
       "  </thead>\n",
       "  <tbody>\n",
       "    <tr>\n",
       "      <th>1</th>\n",
       "      <td>82</td>\n",
       "      <td>2</td>\n",
       "      <td>132870</td>\n",
       "      <td>11</td>\n",
       "      <td>9</td>\n",
       "      <td>6</td>\n",
       "      <td>3</td>\n",
       "      <td>1</td>\n",
       "      <td>4</td>\n",
       "      <td>0</td>\n",
       "      <td>0</td>\n",
       "      <td>4356</td>\n",
       "      <td>18</td>\n",
       "      <td>38</td>\n",
       "      <td>0</td>\n",
       "    </tr>\n",
       "    <tr>\n",
       "      <th>3</th>\n",
       "      <td>54</td>\n",
       "      <td>2</td>\n",
       "      <td>140359</td>\n",
       "      <td>5</td>\n",
       "      <td>4</td>\n",
       "      <td>0</td>\n",
       "      <td>6</td>\n",
       "      <td>4</td>\n",
       "      <td>4</td>\n",
       "      <td>0</td>\n",
       "      <td>0</td>\n",
       "      <td>3900</td>\n",
       "      <td>40</td>\n",
       "      <td>38</td>\n",
       "      <td>0</td>\n",
       "    </tr>\n",
       "    <tr>\n",
       "      <th>4</th>\n",
       "      <td>41</td>\n",
       "      <td>2</td>\n",
       "      <td>264663</td>\n",
       "      <td>15</td>\n",
       "      <td>10</td>\n",
       "      <td>5</td>\n",
       "      <td>9</td>\n",
       "      <td>3</td>\n",
       "      <td>4</td>\n",
       "      <td>0</td>\n",
       "      <td>0</td>\n",
       "      <td>3900</td>\n",
       "      <td>40</td>\n",
       "      <td>38</td>\n",
       "      <td>0</td>\n",
       "    </tr>\n",
       "    <tr>\n",
       "      <th>5</th>\n",
       "      <td>34</td>\n",
       "      <td>2</td>\n",
       "      <td>216864</td>\n",
       "      <td>11</td>\n",
       "      <td>9</td>\n",
       "      <td>0</td>\n",
       "      <td>7</td>\n",
       "      <td>4</td>\n",
       "      <td>4</td>\n",
       "      <td>0</td>\n",
       "      <td>0</td>\n",
       "      <td>3770</td>\n",
       "      <td>45</td>\n",
       "      <td>38</td>\n",
       "      <td>0</td>\n",
       "    </tr>\n",
       "    <tr>\n",
       "      <th>6</th>\n",
       "      <td>38</td>\n",
       "      <td>2</td>\n",
       "      <td>150601</td>\n",
       "      <td>0</td>\n",
       "      <td>6</td>\n",
       "      <td>5</td>\n",
       "      <td>0</td>\n",
       "      <td>4</td>\n",
       "      <td>4</td>\n",
       "      <td>1</td>\n",
       "      <td>0</td>\n",
       "      <td>3770</td>\n",
       "      <td>40</td>\n",
       "      <td>38</td>\n",
       "      <td>0</td>\n",
       "    </tr>\n",
       "  </tbody>\n",
       "</table>\n",
       "</div>"
      ],
      "text/plain": [
       "   age  workclass  fnlwgt  education  education.num  marital.status  \\\n",
       "1   82          2  132870         11              9               6   \n",
       "3   54          2  140359          5              4               0   \n",
       "4   41          2  264663         15             10               5   \n",
       "5   34          2  216864         11              9               0   \n",
       "6   38          2  150601          0              6               5   \n",
       "\n",
       "   occupation  relationship  race  sex  capital.gain  capital.loss  \\\n",
       "1           3             1     4    0             0          4356   \n",
       "3           6             4     4    0             0          3900   \n",
       "4           9             3     4    0             0          3900   \n",
       "5           7             4     4    0             0          3770   \n",
       "6           0             4     4    1             0          3770   \n",
       "\n",
       "   hours.per.week  native.country  income  \n",
       "1              18              38       0  \n",
       "3              40              38       0  \n",
       "4              40              38       0  \n",
       "5              45              38       0  \n",
       "6              40              38       0  "
      ]
     },
     "execution_count": 19,
     "metadata": {},
     "output_type": "execute_result"
    }
   ],
   "source": [
    "df.head()"
   ]
  },
  {
   "cell_type": "code",
   "execution_count": 20,
   "metadata": {},
   "outputs": [
    {
     "data": {
      "text/plain": [
       "<matplotlib.axes._subplots.AxesSubplot at 0x7f49c08cbc88>"
      ]
     },
     "execution_count": 20,
     "metadata": {},
     "output_type": "execute_result"
    },
    {
     "data": {
      "image/png": "[encoded data removed]",
      "text/plain": [
       "<Figure size 1440x864 with 2 Axes>"
      ]
     },
     "metadata": {
      "needs_background": "light"
     },
     "output_type": "display_data"
    }
   ],
   "source": [
    "corrmat = df.corr()\n",
    "plt.figure(figsize=(20,12))\n",
    "sns.heatmap(corrmat, annot=True, cmap='coolwarm')"
   ]
  },
  {
   "cell_type": "code",
   "execution_count": 20,
   "metadata": {},
   "outputs": [
    {
     "name": "stdout",
     "output_type": "stream",
     "text": [
      "(21113, 14)\n"
     ]
    }
   ],
   "source": [
    "X = df.iloc[:,0:-1]\n",
    "y = df.iloc[:,-1]\n",
    "from sklearn.model_selection import train_test_split\n",
    "X_train, X_test, y_train, y_test = train_test_split(X, y, test_size = 0.30, random_state = 42)\n",
    "\n",
    "X_train_np = np.array(X_train)\n",
    "X_test_np = np.array(X_test)\n",
    "y_train_np = np.array(y_train)\n",
    "y_test_np = np.array(y_test)\n",
    "print(X_train.shape)"
   ]
  },
  {
   "cell_type": "code",
   "execution_count": 143,
   "metadata": {},
   "outputs": [],
   "source": [
    "from sklearn.preprocessing import StandardScaler\n",
    "sc = StandardScaler()\n",
    "X_train = pd.DataFrame(sc.fit_transform(X_train))\n",
    "X_test = pd.DataFrame(sc.transform(X_test))"
   ]
  },
  {
   "cell_type": "markdown",
   "metadata": {},
   "source": [
    "# Normal Accuracy"
   ]
  },
  {
   "cell_type": "code",
   "execution_count": 367,
   "metadata": {},
   "outputs": [
    {
     "name": "stdout",
     "output_type": "stream",
     "text": [
      "Logistic Regression: 81.83224665708919\n"
     ]
    }
   ],
   "source": [
    "from sklearn.linear_model import LogisticRegression\n",
    "from sklearn.metrics import accuracy_score\n",
    "model = LogisticRegression()\n",
    "model.fit(X_train, y_train)\n",
    "\n",
    "y_pred = model.predict(X_test)\n",
    "acc = accuracy_score(y_test, y_pred)\n",
    "print('Logistic Regression:', acc * 100)"
   ]
  },
  {
   "cell_type": "code",
   "execution_count": 368,
   "metadata": {},
   "outputs": [
    {
     "name": "stdout",
     "output_type": "stream",
     "text": [
      "(21113, 14)\n",
      "(9049,)\n",
      "(9049,)\n"
     ]
    }
   ],
   "source": [
    "print(X_train.shape)\n",
    "genders = X_test_np[:,9]\n",
    "print(genders.shape)\n",
    "print(y_pred.shape)"
   ]
  },
  {
   "cell_type": "code",
   "execution_count": 369,
   "metadata": {},
   "outputs": [
    {
     "name": "stdout",
     "output_type": "stream",
     "text": [
      "Accuracy of non-private classifier on WOMEN in validation set: 89.48672566371681\n",
      "Accuracy of non-private classifier on MEN in validation set: 78.35796915167096\n"
     ]
    }
   ],
   "source": [
    "temp1 = genders == 0\n",
    "temp2 = y_pred==y_test_np\n",
    "\n",
    "f_acc = np.sum((temp1 * temp2).astype(float))*100/np.sum(temp1)\n",
    "\n",
    "temp1 = genders == 1\n",
    "\n",
    "\n",
    "m_acc = np.sum((temp1 * temp2).astype(float))*100/np.sum(temp1)\n",
    "print('Accuracy of non-private classifier on WOMEN in validation set:', f_acc)\n",
    "print('Accuracy of non-private classifier on MEN in validation set:', m_acc)"
   ]
  },
  {
   "cell_type": "markdown",
   "metadata": {},
   "source": [
    "# DP  Accuracy"
   ]
  },
  {
   "cell_type": "code",
   "execution_count": 370,
   "metadata": {},
   "outputs": [],
   "source": [
    "(n,d) = X_test_np.shape\n",
    "from diffprivlib.models import LogisticRegression as DPLogisticRegression\n",
    "\n"
   ]
  },
  {
   "cell_type": "code",
   "execution_count": 371,
   "metadata": {},
   "outputs": [
    {
     "name": "stderr",
     "output_type": "stream",
     "text": [
      "/home/niloofar/python-environments/py36/lib/python3.6/site-packages/diffprivlib/models/logistic_regression.py:225: PrivacyLeakWarning: Differential privacy is only guaranteed for data whose rows have a 2-norm of at most 3.87298. Got 14.940570\n",
      "Translate and/or scale the data accordingly to ensure differential privacy is achieved.\n",
      "  % (self.data_norm, max_norm), PrivacyLeakWarning)\n",
      "/home/niloofar/python-environments/py36/lib/python3.6/site-packages/diffprivlib/models/logistic_regression.py:225: PrivacyLeakWarning: Differential privacy is only guaranteed for data whose rows have a 2-norm of at most 3.87298. Got 14.940570\n",
      "Translate and/or scale the data accordingly to ensure differential privacy is achieved.\n",
      "  % (self.data_norm, max_norm), PrivacyLeakWarning)\n",
      "/home/niloofar/python-environments/py36/lib/python3.6/site-packages/diffprivlib/models/logistic_regression.py:225: PrivacyLeakWarning: Differential privacy is only guaranteed for data whose rows have a 2-norm of at most 3.87298. Got 14.940570\n",
      "Translate and/or scale the data accordingly to ensure differential privacy is achieved.\n",
      "  % (self.data_norm, max_norm), PrivacyLeakWarning)\n",
      "/home/niloofar/python-environments/py36/lib/python3.6/site-packages/diffprivlib/models/logistic_regression.py:225: PrivacyLeakWarning: Differential privacy is only guaranteed for data whose rows have a 2-norm of at most 3.87298. Got 14.940570\n",
      "Translate and/or scale the data accordingly to ensure differential privacy is achieved.\n",
      "  % (self.data_norm, max_norm), PrivacyLeakWarning)\n",
      "/home/niloofar/python-environments/py36/lib/python3.6/site-packages/diffprivlib/models/logistic_regression.py:225: PrivacyLeakWarning: Differential privacy is only guaranteed for data whose rows have a 2-norm of at most 3.87298. Got 14.940570\n",
      "Translate and/or scale the data accordingly to ensure differential privacy is achieved.\n",
      "  % (self.data_norm, max_norm), PrivacyLeakWarning)\n",
      "/home/niloofar/python-environments/py36/lib/python3.6/site-packages/diffprivlib/models/logistic_regression.py:225: PrivacyLeakWarning: Differential privacy is only guaranteed for data whose rows have a 2-norm of at most 3.87298. Got 14.940570\n",
      "Translate and/or scale the data accordingly to ensure differential privacy is achieved.\n",
      "  % (self.data_norm, max_norm), PrivacyLeakWarning)\n",
      "/home/niloofar/python-environments/py36/lib/python3.6/site-packages/diffprivlib/models/logistic_regression.py:225: PrivacyLeakWarning: Differential privacy is only guaranteed for data whose rows have a 2-norm of at most 3.87298. Got 14.940570\n",
      "Translate and/or scale the data accordingly to ensure differential privacy is achieved.\n",
      "  % (self.data_norm, max_norm), PrivacyLeakWarning)\n",
      "/home/niloofar/python-environments/py36/lib/python3.6/site-packages/diffprivlib/models/logistic_regression.py:225: PrivacyLeakWarning: Differential privacy is only guaranteed for data whose rows have a 2-norm of at most 3.87298. Got 14.940570\n",
      "Translate and/or scale the data accordingly to ensure differential privacy is achieved.\n",
      "  % (self.data_norm, max_norm), PrivacyLeakWarning)\n",
      "/home/niloofar/python-environments/py36/lib/python3.6/site-packages/diffprivlib/models/logistic_regression.py:225: PrivacyLeakWarning: Differential privacy is only guaranteed for data whose rows have a 2-norm of at most 3.87298. Got 14.940570\n",
      "Translate and/or scale the data accordingly to ensure differential privacy is achieved.\n",
      "  % (self.data_norm, max_norm), PrivacyLeakWarning)\n",
      "/home/niloofar/python-environments/py36/lib/python3.6/site-packages/diffprivlib/models/logistic_regression.py:225: PrivacyLeakWarning: Differential privacy is only guaranteed for data whose rows have a 2-norm of at most 3.87298. Got 14.940570\n",
      "Translate and/or scale the data accordingly to ensure differential privacy is achieved.\n",
      "  % (self.data_norm, max_norm), PrivacyLeakWarning)\n",
      "/home/niloofar/python-environments/py36/lib/python3.6/site-packages/diffprivlib/models/logistic_regression.py:225: PrivacyLeakWarning: Differential privacy is only guaranteed for data whose rows have a 2-norm of at most 3.87298. Got 14.940570\n",
      "Translate and/or scale the data accordingly to ensure differential privacy is achieved.\n",
      "  % (self.data_norm, max_norm), PrivacyLeakWarning)\n",
      "/home/niloofar/python-environments/py36/lib/python3.6/site-packages/diffprivlib/models/logistic_regression.py:225: PrivacyLeakWarning: Differential privacy is only guaranteed for data whose rows have a 2-norm of at most 3.87298. Got 14.940570\n",
      "Translate and/or scale the data accordingly to ensure differential privacy is achieved.\n",
      "  % (self.data_norm, max_norm), PrivacyLeakWarning)\n",
      "/home/niloofar/python-environments/py36/lib/python3.6/site-packages/diffprivlib/models/logistic_regression.py:225: PrivacyLeakWarning: Differential privacy is only guaranteed for data whose rows have a 2-norm of at most 3.87298. Got 14.940570\n",
      "Translate and/or scale the data accordingly to ensure differential privacy is achieved.\n",
      "  % (self.data_norm, max_norm), PrivacyLeakWarning)\n",
      "/home/niloofar/python-environments/py36/lib/python3.6/site-packages/diffprivlib/models/logistic_regression.py:225: PrivacyLeakWarning: Differential privacy is only guaranteed for data whose rows have a 2-norm of at most 3.87298. Got 14.940570\n",
      "Translate and/or scale the data accordingly to ensure differential privacy is achieved.\n",
      "  % (self.data_norm, max_norm), PrivacyLeakWarning)\n",
      "/home/niloofar/python-environments/py36/lib/python3.6/site-packages/diffprivlib/models/logistic_regression.py:225: PrivacyLeakWarning: Differential privacy is only guaranteed for data whose rows have a 2-norm of at most 3.87298. Got 14.940570\n",
      "Translate and/or scale the data accordingly to ensure differential privacy is achieved.\n",
      "  % (self.data_norm, max_norm), PrivacyLeakWarning)\n",
      "/home/niloofar/python-environments/py36/lib/python3.6/site-packages/diffprivlib/models/logistic_regression.py:225: PrivacyLeakWarning: Differential privacy is only guaranteed for data whose rows have a 2-norm of at most 3.87298. Got 14.940570\n",
      "Translate and/or scale the data accordingly to ensure differential privacy is achieved.\n",
      "  % (self.data_norm, max_norm), PrivacyLeakWarning)\n",
      "/home/niloofar/python-environments/py36/lib/python3.6/site-packages/diffprivlib/models/logistic_regression.py:225: PrivacyLeakWarning: Differential privacy is only guaranteed for data whose rows have a 2-norm of at most 3.87298. Got 14.940570\n",
      "Translate and/or scale the data accordingly to ensure differential privacy is achieved.\n",
      "  % (self.data_norm, max_norm), PrivacyLeakWarning)\n",
      "/home/niloofar/python-environments/py36/lib/python3.6/site-packages/diffprivlib/models/logistic_regression.py:225: PrivacyLeakWarning: Differential privacy is only guaranteed for data whose rows have a 2-norm of at most 3.87298. Got 14.940570\n",
      "Translate and/or scale the data accordingly to ensure differential privacy is achieved.\n",
      "  % (self.data_norm, max_norm), PrivacyLeakWarning)\n",
      "/home/niloofar/python-environments/py36/lib/python3.6/site-packages/diffprivlib/models/logistic_regression.py:225: PrivacyLeakWarning: Differential privacy is only guaranteed for data whose rows have a 2-norm of at most 3.87298. Got 14.940570\n",
      "Translate and/or scale the data accordingly to ensure differential privacy is achieved.\n",
      "  % (self.data_norm, max_norm), PrivacyLeakWarning)\n",
      "/home/niloofar/python-environments/py36/lib/python3.6/site-packages/diffprivlib/models/logistic_regression.py:225: PrivacyLeakWarning: Differential privacy is only guaranteed for data whose rows have a 2-norm of at most 3.87298. Got 14.940570\n",
      "Translate and/or scale the data accordingly to ensure differential privacy is achieved.\n",
      "  % (self.data_norm, max_norm), PrivacyLeakWarning)\n",
      "/home/niloofar/python-environments/py36/lib/python3.6/site-packages/diffprivlib/models/logistic_regression.py:225: PrivacyLeakWarning: Differential privacy is only guaranteed for data whose rows have a 2-norm of at most 3.87298. Got 14.940570\n",
      "Translate and/or scale the data accordingly to ensure differential privacy is achieved.\n",
      "  % (self.data_norm, max_norm), PrivacyLeakWarning)\n",
      "/home/niloofar/python-environments/py36/lib/python3.6/site-packages/diffprivlib/models/logistic_regression.py:225: PrivacyLeakWarning: Differential privacy is only guaranteed for data whose rows have a 2-norm of at most 3.87298. Got 14.940570\n",
      "Translate and/or scale the data accordingly to ensure differential privacy is achieved.\n",
      "  % (self.data_norm, max_norm), PrivacyLeakWarning)\n",
      "/home/niloofar/python-environments/py36/lib/python3.6/site-packages/diffprivlib/models/logistic_regression.py:225: PrivacyLeakWarning: Differential privacy is only guaranteed for data whose rows have a 2-norm of at most 3.87298. Got 14.940570\n",
      "Translate and/or scale the data accordingly to ensure differential privacy is achieved.\n",
      "  % (self.data_norm, max_norm), PrivacyLeakWarning)\n",
      "/home/niloofar/python-environments/py36/lib/python3.6/site-packages/diffprivlib/models/logistic_regression.py:225: PrivacyLeakWarning: Differential privacy is only guaranteed for data whose rows have a 2-norm of at most 3.87298. Got 14.940570\n",
      "Translate and/or scale the data accordingly to ensure differential privacy is achieved.\n",
      "  % (self.data_norm, max_norm), PrivacyLeakWarning)\n"
     ]
    },
    {
     "name": "stderr",
     "output_type": "stream",
     "text": [
      "/home/niloofar/python-environments/py36/lib/python3.6/site-packages/diffprivlib/models/logistic_regression.py:225: PrivacyLeakWarning: Differential privacy is only guaranteed for data whose rows have a 2-norm of at most 3.87298. Got 14.940570\n",
      "Translate and/or scale the data accordingly to ensure differential privacy is achieved.\n",
      "  % (self.data_norm, max_norm), PrivacyLeakWarning)\n",
      "/home/niloofar/python-environments/py36/lib/python3.6/site-packages/diffprivlib/models/logistic_regression.py:225: PrivacyLeakWarning: Differential privacy is only guaranteed for data whose rows have a 2-norm of at most 3.87298. Got 14.940570\n",
      "Translate and/or scale the data accordingly to ensure differential privacy is achieved.\n",
      "  % (self.data_norm, max_norm), PrivacyLeakWarning)\n",
      "/home/niloofar/python-environments/py36/lib/python3.6/site-packages/diffprivlib/models/logistic_regression.py:225: PrivacyLeakWarning: Differential privacy is only guaranteed for data whose rows have a 2-norm of at most 3.87298. Got 14.940570\n",
      "Translate and/or scale the data accordingly to ensure differential privacy is achieved.\n",
      "  % (self.data_norm, max_norm), PrivacyLeakWarning)\n",
      "/home/niloofar/python-environments/py36/lib/python3.6/site-packages/diffprivlib/models/logistic_regression.py:225: PrivacyLeakWarning: Differential privacy is only guaranteed for data whose rows have a 2-norm of at most 3.87298. Got 14.940570\n",
      "Translate and/or scale the data accordingly to ensure differential privacy is achieved.\n",
      "  % (self.data_norm, max_norm), PrivacyLeakWarning)\n",
      "/home/niloofar/python-environments/py36/lib/python3.6/site-packages/diffprivlib/models/logistic_regression.py:225: PrivacyLeakWarning: Differential privacy is only guaranteed for data whose rows have a 2-norm of at most 3.87298. Got 14.940570\n",
      "Translate and/or scale the data accordingly to ensure differential privacy is achieved.\n",
      "  % (self.data_norm, max_norm), PrivacyLeakWarning)\n",
      "/home/niloofar/python-environments/py36/lib/python3.6/site-packages/diffprivlib/models/logistic_regression.py:225: PrivacyLeakWarning: Differential privacy is only guaranteed for data whose rows have a 2-norm of at most 3.87298. Got 14.940570\n",
      "Translate and/or scale the data accordingly to ensure differential privacy is achieved.\n",
      "  % (self.data_norm, max_norm), PrivacyLeakWarning)\n",
      "/home/niloofar/python-environments/py36/lib/python3.6/site-packages/diffprivlib/models/logistic_regression.py:225: PrivacyLeakWarning: Differential privacy is only guaranteed for data whose rows have a 2-norm of at most 3.87298. Got 14.940570\n",
      "Translate and/or scale the data accordingly to ensure differential privacy is achieved.\n",
      "  % (self.data_norm, max_norm), PrivacyLeakWarning)\n",
      "/home/niloofar/python-environments/py36/lib/python3.6/site-packages/diffprivlib/models/logistic_regression.py:225: PrivacyLeakWarning: Differential privacy is only guaranteed for data whose rows have a 2-norm of at most 3.87298. Got 14.940570\n",
      "Translate and/or scale the data accordingly to ensure differential privacy is achieved.\n",
      "  % (self.data_norm, max_norm), PrivacyLeakWarning)\n",
      "/home/niloofar/python-environments/py36/lib/python3.6/site-packages/diffprivlib/models/logistic_regression.py:225: PrivacyLeakWarning: Differential privacy is only guaranteed for data whose rows have a 2-norm of at most 3.87298. Got 14.940570\n",
      "Translate and/or scale the data accordingly to ensure differential privacy is achieved.\n",
      "  % (self.data_norm, max_norm), PrivacyLeakWarning)\n",
      "/home/niloofar/python-environments/py36/lib/python3.6/site-packages/diffprivlib/models/logistic_regression.py:225: PrivacyLeakWarning: Differential privacy is only guaranteed for data whose rows have a 2-norm of at most 3.87298. Got 14.940570\n",
      "Translate and/or scale the data accordingly to ensure differential privacy is achieved.\n",
      "  % (self.data_norm, max_norm), PrivacyLeakWarning)\n",
      "/home/niloofar/python-environments/py36/lib/python3.6/site-packages/diffprivlib/models/logistic_regression.py:225: PrivacyLeakWarning: Differential privacy is only guaranteed for data whose rows have a 2-norm of at most 3.87298. Got 14.940570\n",
      "Translate and/or scale the data accordingly to ensure differential privacy is achieved.\n",
      "  % (self.data_norm, max_norm), PrivacyLeakWarning)\n",
      "/home/niloofar/python-environments/py36/lib/python3.6/site-packages/diffprivlib/models/logistic_regression.py:225: PrivacyLeakWarning: Differential privacy is only guaranteed for data whose rows have a 2-norm of at most 3.87298. Got 14.940570\n",
      "Translate and/or scale the data accordingly to ensure differential privacy is achieved.\n",
      "  % (self.data_norm, max_norm), PrivacyLeakWarning)\n",
      "/home/niloofar/python-environments/py36/lib/python3.6/site-packages/diffprivlib/models/logistic_regression.py:225: PrivacyLeakWarning: Differential privacy is only guaranteed for data whose rows have a 2-norm of at most 3.87298. Got 14.940570\n",
      "Translate and/or scale the data accordingly to ensure differential privacy is achieved.\n",
      "  % (self.data_norm, max_norm), PrivacyLeakWarning)\n",
      "/home/niloofar/python-environments/py36/lib/python3.6/site-packages/diffprivlib/models/logistic_regression.py:225: PrivacyLeakWarning: Differential privacy is only guaranteed for data whose rows have a 2-norm of at most 3.87298. Got 14.940570\n",
      "Translate and/or scale the data accordingly to ensure differential privacy is achieved.\n",
      "  % (self.data_norm, max_norm), PrivacyLeakWarning)\n",
      "/home/niloofar/python-environments/py36/lib/python3.6/site-packages/diffprivlib/models/logistic_regression.py:225: PrivacyLeakWarning: Differential privacy is only guaranteed for data whose rows have a 2-norm of at most 3.87298. Got 14.940570\n",
      "Translate and/or scale the data accordingly to ensure differential privacy is achieved.\n",
      "  % (self.data_norm, max_norm), PrivacyLeakWarning)\n",
      "/home/niloofar/python-environments/py36/lib/python3.6/site-packages/diffprivlib/models/logistic_regression.py:225: PrivacyLeakWarning: Differential privacy is only guaranteed for data whose rows have a 2-norm of at most 3.87298. Got 14.940570\n",
      "Translate and/or scale the data accordingly to ensure differential privacy is achieved.\n",
      "  % (self.data_norm, max_norm), PrivacyLeakWarning)\n",
      "/home/niloofar/python-environments/py36/lib/python3.6/site-packages/diffprivlib/models/logistic_regression.py:225: PrivacyLeakWarning: Differential privacy is only guaranteed for data whose rows have a 2-norm of at most 3.87298. Got 14.940570\n",
      "Translate and/or scale the data accordingly to ensure differential privacy is achieved.\n",
      "  % (self.data_norm, max_norm), PrivacyLeakWarning)\n",
      "/home/niloofar/python-environments/py36/lib/python3.6/site-packages/diffprivlib/models/logistic_regression.py:225: PrivacyLeakWarning: Differential privacy is only guaranteed for data whose rows have a 2-norm of at most 3.87298. Got 14.940570\n",
      "Translate and/or scale the data accordingly to ensure differential privacy is achieved.\n",
      "  % (self.data_norm, max_norm), PrivacyLeakWarning)\n",
      "/home/niloofar/python-environments/py36/lib/python3.6/site-packages/diffprivlib/models/logistic_regression.py:225: PrivacyLeakWarning: Differential privacy is only guaranteed for data whose rows have a 2-norm of at most 3.87298. Got 14.940570\n",
      "Translate and/or scale the data accordingly to ensure differential privacy is achieved.\n",
      "  % (self.data_norm, max_norm), PrivacyLeakWarning)\n",
      "/home/niloofar/python-environments/py36/lib/python3.6/site-packages/diffprivlib/models/logistic_regression.py:225: PrivacyLeakWarning: Differential privacy is only guaranteed for data whose rows have a 2-norm of at most 3.87298. Got 14.940570\n",
      "Translate and/or scale the data accordingly to ensure differential privacy is achieved.\n",
      "  % (self.data_norm, max_norm), PrivacyLeakWarning)\n",
      "/home/niloofar/python-environments/py36/lib/python3.6/site-packages/diffprivlib/models/logistic_regression.py:225: PrivacyLeakWarning: Differential privacy is only guaranteed for data whose rows have a 2-norm of at most 3.87298. Got 14.940570\n",
      "Translate and/or scale the data accordingly to ensure differential privacy is achieved.\n",
      "  % (self.data_norm, max_norm), PrivacyLeakWarning)\n",
      "/home/niloofar/python-environments/py36/lib/python3.6/site-packages/diffprivlib/models/logistic_regression.py:225: PrivacyLeakWarning: Differential privacy is only guaranteed for data whose rows have a 2-norm of at most 3.87298. Got 14.940570\n",
      "Translate and/or scale the data accordingly to ensure differential privacy is achieved.\n",
      "  % (self.data_norm, max_norm), PrivacyLeakWarning)\n"
     ]
    },
    {
     "name": "stderr",
     "output_type": "stream",
     "text": [
      "/home/niloofar/python-environments/py36/lib/python3.6/site-packages/diffprivlib/models/logistic_regression.py:225: PrivacyLeakWarning: Differential privacy is only guaranteed for data whose rows have a 2-norm of at most 3.87298. Got 14.940570\n",
      "Translate and/or scale the data accordingly to ensure differential privacy is achieved.\n",
      "  % (self.data_norm, max_norm), PrivacyLeakWarning)\n",
      "/home/niloofar/python-environments/py36/lib/python3.6/site-packages/diffprivlib/models/logistic_regression.py:225: PrivacyLeakWarning: Differential privacy is only guaranteed for data whose rows have a 2-norm of at most 3.87298. Got 14.940570\n",
      "Translate and/or scale the data accordingly to ensure differential privacy is achieved.\n",
      "  % (self.data_norm, max_norm), PrivacyLeakWarning)\n",
      "/home/niloofar/python-environments/py36/lib/python3.6/site-packages/diffprivlib/models/logistic_regression.py:225: PrivacyLeakWarning: Differential privacy is only guaranteed for data whose rows have a 2-norm of at most 3.87298. Got 14.940570\n",
      "Translate and/or scale the data accordingly to ensure differential privacy is achieved.\n",
      "  % (self.data_norm, max_norm), PrivacyLeakWarning)\n",
      "/home/niloofar/python-environments/py36/lib/python3.6/site-packages/diffprivlib/models/logistic_regression.py:225: PrivacyLeakWarning: Differential privacy is only guaranteed for data whose rows have a 2-norm of at most 3.87298. Got 14.940570\n",
      "Translate and/or scale the data accordingly to ensure differential privacy is achieved.\n",
      "  % (self.data_norm, max_norm), PrivacyLeakWarning)\n"
     ]
    },
    {
     "name": "stdout",
     "output_type": "stream",
     "text": [
      "Accuracy of non-private classifier on WOMEN in validation set: 89.55115044247785\n",
      "Accuracy of non-private classifier on MEN in validation set: 78.22300771208225\n",
      "Accuracy of private logistic regression (on validation set): 81.75953143993812%\n"
     ]
    }
   ],
   "source": [
    "acc = 0\n",
    "f_acc = 0\n",
    "m_acc = 0\n",
    "for i in range(50):\n",
    "    \n",
    "    modelDP = DPLogisticRegression(epsilon= 1, max_iter=1000, tol=1e-5,  data_norm=np.sqrt(d+1))\n",
    "    modelDP.fit(X_train, y_train)\n",
    "    y_predDP = modelDP.predict(X_test)\n",
    "    acc += np.mean((y_predDP ==y_test).astype(float))*100\n",
    "    \n",
    "    temp1 = genders == 0\n",
    "    temp2 = y_predDP==y_test_np\n",
    "    f_acc += np.sum((temp1 * temp2).astype(float))*100/np.sum(temp1)\n",
    "    temp1 = genders == 1\n",
    "    m_acc += np.sum((temp1 * temp2).astype(float))*100/np.sum(temp1)\n",
    "print('Accuracy of non-private classifier on WOMEN in validation set:', f_acc/50)\n",
    "print('Accuracy of non-private classifier on MEN in validation set:', m_acc/50)\n",
    "print('Accuracy of private logistic regression (on validation set): {}%'.format(acc/50))"
   ]
  },
  {
   "cell_type": "code",
   "execution_count": 375,
   "metadata": {},
   "outputs": [
    {
     "name": "stdout",
     "output_type": "stream",
     "text": [
      "Difference in demographic parity for NON-Private classifier is -0.1770354551038515\n",
      "Difference in demographic parity for DP (Private) classifier is -0.17342778169574813\n"
     ]
    }
   ],
   "source": [
    "f_1 = np.sum((y_pred== 1)[f_valid_indices].astype(float))\n",
    "f_all = len(f_valid_indices)\n",
    "\n",
    "m_1 = np.sum((y_pred== 1)[m_valid_indices].astype(float))\n",
    "m_all = len(m_valid_indices)\n",
    "\n",
    "print('Difference in demographic parity for NON-Private classifier is', (f_1/f_all - m_1/m_all))\n",
    "\n",
    "f_1_DP = np.sum((y_predDP== 1)[f_valid_indices].astype(float))\n",
    "f_all = len(f_valid_indices)\n",
    "\n",
    "m_1_DP = np.sum((y_predDP== 1)[m_valid_indices].astype(float))\n",
    "m_all = len(m_valid_indices)\n",
    "\n",
    "print('Difference in demographic parity for DP (Private) classifier is', (f_1_DP/f_all - m_1_DP/m_all))"
   ]
  },
  {
   "cell_type": "code",
   "execution_count": null,
   "metadata": {},
   "outputs": [],
   "source": []
  },
  {
   "cell_type": "code",
   "execution_count": 376,
   "metadata": {},
   "outputs": [
    {
     "name": "stdout",
     "output_type": "stream",
     "text": [
      "71.0 335.0 972.0 1960.0\n",
      "Difference in Equal opportunity for NON-Private classifier is -0.28397806883947607\n"
     ]
    }
   ],
   "source": [
    "temp1 = (y_pred == 1)\n",
    "temp2 = (y_test_np == 1)\n",
    "f_1_real1 = np.sum((temp1&temp2)[f_valid_indices].astype(float))\n",
    "f_real1 = np.sum((y_test_np==1)[f_valid_indices].astype(float))\n",
    "\n",
    "m_1_real1 = np.sum((temp1&temp2)[m_valid_indices].astype(float))\n",
    "m_real1 = np.sum((y_test_np==1)[m_valid_indices].astype(float))\n",
    "\n",
    "print(f_1_real1, f_real1, m_1_real1, m_real1)\n",
    "\n",
    "print('Difference in Equal opportunity for NON-Private classifier is', (f_1_real1/f_real1 - m_1_real1/m_real1))"
   ]
  },
  {
   "cell_type": "code",
   "execution_count": 377,
   "metadata": {},
   "outputs": [
    {
     "name": "stdout",
     "output_type": "stream",
     "text": [
      "83.0 335.0 975.0 1960.0\n",
      "Difference in Equal opportunity for Private classifier is -0.249687785561986\n"
     ]
    }
   ],
   "source": [
    "temp1 = (y_predDP == 1)\n",
    "temp2 = (y_test_np == 1)\n",
    "f_1_real1 = np.sum((temp1&temp2)[f_valid_indices].astype(float))\n",
    "f_real1 = np.sum((y_test_np==1)[f_valid_indices].astype(float))\n",
    "\n",
    "m_1_real1 = np.sum((temp1&temp2)[m_valid_indices].astype(float))\n",
    "m_real1 = np.sum((y_test_np==1)[m_valid_indices].astype(float))\n",
    "\n",
    "print(f_1_real1, f_real1, m_1_real1, m_real1)\n",
    "\n",
    "print('Difference in Equal opportunity for Private classifier is', (f_1_real1/f_real1 - m_1_real1/m_real1))"
   ]
  },
  {
   "cell_type": "code",
   "execution_count": null,
   "metadata": {},
   "outputs": [],
   "source": []
  },
  {
   "cell_type": "markdown",
   "metadata": {},
   "source": [
    "# Gaussian NB"
   ]
  },
  {
   "cell_type": "code",
   "execution_count": 339,
   "metadata": {},
   "outputs": [
    {
     "name": "stdout",
     "output_type": "stream",
     "text": [
      "Accuracy of non-private logistic regression (on validation set): 79.64415957564371%\n"
     ]
    }
   ],
   "source": [
    "from sklearn.naive_bayes import GaussianNB\n",
    "import diffprivlib.models as models\n",
    "gnb = GaussianNB()\n",
    "y_pred = gnb.fit(X_train, y_train).predict(X_test)\n",
    "acc = np.mean((y_pred==y_test).astype(float))*100\n",
    "print('Accuracy of non-private logistic regression (on validation set): {}%'.format(acc))"
   ]
  },
  {
   "cell_type": "code",
   "execution_count": 340,
   "metadata": {},
   "outputs": [
    {
     "name": "stdout",
     "output_type": "stream",
     "text": [
      "Accuracy of non-private classifier on WOMEN in validation set: 89.52212389380531\n",
      "Accuracy of non-private classifier on MEN in validation set: 75.16066838046272\n"
     ]
    }
   ],
   "source": [
    "temp1 = genders == 0\n",
    "temp2 = y_pred==y_test_np\n",
    "\n",
    "f_acc = np.sum((temp1 * temp2).astype(float))*100/np.sum(temp1)\n",
    "\n",
    "temp1 = genders == 1\n",
    "\n",
    "\n",
    "m_acc = np.sum((temp1 * temp2).astype(float))*100/np.sum(temp1)\n",
    "print('Accuracy of non-private classifier on WOMEN in validation set:', f_acc)\n",
    "print('Accuracy of non-private classifier on MEN in validation set:', m_acc)"
   ]
  },
  {
   "cell_type": "code",
   "execution_count": 341,
   "metadata": {},
   "outputs": [
    {
     "name": "stdout",
     "output_type": "stream",
     "text": [
      "Accuracy of private logistic regression (on validation set): 75.66581942756105%\n"
     ]
    }
   ],
   "source": [
    "gnbDP = models.GaussianNB(epsilon=0.5, bounds=[(1,10),(1,10),(1,10),(1,10),(1,10),(1,10),(1,10),(1,10),(1,10),(1,10),(1,10),(1,10),(1,10),(1,10)])\n",
    "predsDP = gnbDP.fit(X_train, y_train).predict(X_test)\n",
    "\n",
    "y_predDP = gnbDP.predict(X_test)\n",
    "acc = np.mean((y_predDP==y_test).astype(float))*100\n",
    "print('Accuracy of private logistic regression (on validation set): {}%'.format(acc))"
   ]
  },
  {
   "cell_type": "code",
   "execution_count": 342,
   "metadata": {},
   "outputs": [
    {
     "name": "stdout",
     "output_type": "stream",
     "text": [
      "2825\n",
      "6224\n",
      "Accuracy of non-private classifier on WOMEN in validation set: 86.47787610619469\n",
      "Accuracy of non-private classifier on MEN in validation set: 70.75835475578405\n"
     ]
    }
   ],
   "source": [
    "temp1 = genders == 0\n",
    "temp2 = y_predDP==y_test_np\n",
    "f_acc = np.sum((temp1 * temp2).astype(float))*100/np.sum(temp1)\n",
    "print(np.sum(temp1))\n",
    "temp1 = genders == 1\n",
    "m_acc = np.sum((temp1 * temp2).astype(float))*100/np.sum(temp1)\n",
    "print(np.sum(temp1))\n",
    "print('Accuracy of non-private classifier on WOMEN in validation set:', f_acc)\n",
    "print('Accuracy of non-private classifier on MEN in validation set:', m_acc)"
   ]
  },
  {
   "cell_type": "markdown",
   "metadata": {},
   "source": [
    "# remove gender"
   ]
  },
  {
   "cell_type": "code",
   "execution_count": 378,
   "metadata": {},
   "outputs": [
    {
     "name": "stdout",
     "output_type": "stream",
     "text": [
      "(21113, 13)\n"
     ]
    }
   ],
   "source": [
    "print(X_train_no.shape)"
   ]
  },
  {
   "cell_type": "code",
   "execution_count": 379,
   "metadata": {},
   "outputs": [
    {
     "name": "stdout",
     "output_type": "stream",
     "text": [
      "Logistic Regression: 81.65543153939662\n"
     ]
    }
   ],
   "source": [
    "X_train_no = X_train.drop(9,axis=1)\n",
    "X_test_no = X_test.drop(9, axis=1)\n",
    "\n",
    "model = LogisticRegression()\n",
    "model.fit(X_train_no, y_train)\n",
    "\n",
    "y_pred = model.predict(X_test_no)\n",
    "acc = accuracy_score(y_test, y_pred)\n",
    "print('Logistic Regression:', acc * 100)"
   ]
  },
  {
   "cell_type": "code",
   "execution_count": 380,
   "metadata": {},
   "outputs": [
    {
     "name": "stdout",
     "output_type": "stream",
     "text": [
      "Accuracy of non-private classifier on WOMEN in validation set: 88.7433628318584\n",
      "Accuracy of non-private classifier on MEN in validation set: 78.43830334190231\n"
     ]
    }
   ],
   "source": [
    "temp1 = genders == 0\n",
    "temp2 = y_pred==y_test_np\n",
    "\n",
    "f_acc = np.sum((temp1 * temp2).astype(float))*100/np.sum(temp1)\n",
    "\n",
    "temp1 = genders == 1\n",
    "\n",
    "\n",
    "m_acc = np.sum((temp1 * temp2).astype(float))*100/np.sum(temp1)\n",
    "print('Accuracy of non-private classifier on WOMEN in validation set:', f_acc)\n",
    "print('Accuracy of non-private classifier on MEN in validation set:', m_acc)"
   ]
  },
  {
   "cell_type": "code",
   "execution_count": 386,
   "metadata": {},
   "outputs": [
    {
     "name": "stderr",
     "output_type": "stream",
     "text": [
      "/home/niloofar/python-environments/py36/lib/python3.6/site-packages/diffprivlib/models/logistic_regression.py:225: PrivacyLeakWarning: Differential privacy is only guaranteed for data whose rows have a 2-norm of at most 3.74166. Got 14.872318\n",
      "Translate and/or scale the data accordingly to ensure differential privacy is achieved.\n",
      "  % (self.data_norm, max_norm), PrivacyLeakWarning)\n",
      "/home/niloofar/python-environments/py36/lib/python3.6/site-packages/diffprivlib/models/logistic_regression.py:225: PrivacyLeakWarning: Differential privacy is only guaranteed for data whose rows have a 2-norm of at most 3.74166. Got 14.872318\n",
      "Translate and/or scale the data accordingly to ensure differential privacy is achieved.\n",
      "  % (self.data_norm, max_norm), PrivacyLeakWarning)\n",
      "/home/niloofar/python-environments/py36/lib/python3.6/site-packages/diffprivlib/models/logistic_regression.py:225: PrivacyLeakWarning: Differential privacy is only guaranteed for data whose rows have a 2-norm of at most 3.74166. Got 14.872318\n",
      "Translate and/or scale the data accordingly to ensure differential privacy is achieved.\n",
      "  % (self.data_norm, max_norm), PrivacyLeakWarning)\n",
      "/home/niloofar/python-environments/py36/lib/python3.6/site-packages/diffprivlib/models/logistic_regression.py:225: PrivacyLeakWarning: Differential privacy is only guaranteed for data whose rows have a 2-norm of at most 3.74166. Got 14.872318\n",
      "Translate and/or scale the data accordingly to ensure differential privacy is achieved.\n",
      "  % (self.data_norm, max_norm), PrivacyLeakWarning)\n",
      "/home/niloofar/python-environments/py36/lib/python3.6/site-packages/diffprivlib/models/logistic_regression.py:225: PrivacyLeakWarning: Differential privacy is only guaranteed for data whose rows have a 2-norm of at most 3.74166. Got 14.872318\n",
      "Translate and/or scale the data accordingly to ensure differential privacy is achieved.\n",
      "  % (self.data_norm, max_norm), PrivacyLeakWarning)\n",
      "/home/niloofar/python-environments/py36/lib/python3.6/site-packages/diffprivlib/models/logistic_regression.py:225: PrivacyLeakWarning: Differential privacy is only guaranteed for data whose rows have a 2-norm of at most 3.74166. Got 14.872318\n",
      "Translate and/or scale the data accordingly to ensure differential privacy is achieved.\n",
      "  % (self.data_norm, max_norm), PrivacyLeakWarning)\n",
      "/home/niloofar/python-environments/py36/lib/python3.6/site-packages/diffprivlib/models/logistic_regression.py:225: PrivacyLeakWarning: Differential privacy is only guaranteed for data whose rows have a 2-norm of at most 3.74166. Got 14.872318\n",
      "Translate and/or scale the data accordingly to ensure differential privacy is achieved.\n",
      "  % (self.data_norm, max_norm), PrivacyLeakWarning)\n",
      "/home/niloofar/python-environments/py36/lib/python3.6/site-packages/diffprivlib/models/logistic_regression.py:225: PrivacyLeakWarning: Differential privacy is only guaranteed for data whose rows have a 2-norm of at most 3.74166. Got 14.872318\n",
      "Translate and/or scale the data accordingly to ensure differential privacy is achieved.\n",
      "  % (self.data_norm, max_norm), PrivacyLeakWarning)\n",
      "/home/niloofar/python-environments/py36/lib/python3.6/site-packages/diffprivlib/models/logistic_regression.py:225: PrivacyLeakWarning: Differential privacy is only guaranteed for data whose rows have a 2-norm of at most 3.74166. Got 14.872318\n",
      "Translate and/or scale the data accordingly to ensure differential privacy is achieved.\n",
      "  % (self.data_norm, max_norm), PrivacyLeakWarning)\n",
      "/home/niloofar/python-environments/py36/lib/python3.6/site-packages/diffprivlib/models/logistic_regression.py:225: PrivacyLeakWarning: Differential privacy is only guaranteed for data whose rows have a 2-norm of at most 3.74166. Got 14.872318\n",
      "Translate and/or scale the data accordingly to ensure differential privacy is achieved.\n",
      "  % (self.data_norm, max_norm), PrivacyLeakWarning)\n",
      "/home/niloofar/python-environments/py36/lib/python3.6/site-packages/diffprivlib/models/logistic_regression.py:225: PrivacyLeakWarning: Differential privacy is only guaranteed for data whose rows have a 2-norm of at most 3.74166. Got 14.872318\n",
      "Translate and/or scale the data accordingly to ensure differential privacy is achieved.\n",
      "  % (self.data_norm, max_norm), PrivacyLeakWarning)\n",
      "/home/niloofar/python-environments/py36/lib/python3.6/site-packages/diffprivlib/models/logistic_regression.py:225: PrivacyLeakWarning: Differential privacy is only guaranteed for data whose rows have a 2-norm of at most 3.74166. Got 14.872318\n",
      "Translate and/or scale the data accordingly to ensure differential privacy is achieved.\n",
      "  % (self.data_norm, max_norm), PrivacyLeakWarning)\n",
      "/home/niloofar/python-environments/py36/lib/python3.6/site-packages/diffprivlib/models/logistic_regression.py:225: PrivacyLeakWarning: Differential privacy is only guaranteed for data whose rows have a 2-norm of at most 3.74166. Got 14.872318\n",
      "Translate and/or scale the data accordingly to ensure differential privacy is achieved.\n",
      "  % (self.data_norm, max_norm), PrivacyLeakWarning)\n",
      "/home/niloofar/python-environments/py36/lib/python3.6/site-packages/diffprivlib/models/logistic_regression.py:225: PrivacyLeakWarning: Differential privacy is only guaranteed for data whose rows have a 2-norm of at most 3.74166. Got 14.872318\n",
      "Translate and/or scale the data accordingly to ensure differential privacy is achieved.\n",
      "  % (self.data_norm, max_norm), PrivacyLeakWarning)\n",
      "/home/niloofar/python-environments/py36/lib/python3.6/site-packages/diffprivlib/models/logistic_regression.py:225: PrivacyLeakWarning: Differential privacy is only guaranteed for data whose rows have a 2-norm of at most 3.74166. Got 14.872318\n",
      "Translate and/or scale the data accordingly to ensure differential privacy is achieved.\n",
      "  % (self.data_norm, max_norm), PrivacyLeakWarning)\n",
      "/home/niloofar/python-environments/py36/lib/python3.6/site-packages/diffprivlib/models/logistic_regression.py:225: PrivacyLeakWarning: Differential privacy is only guaranteed for data whose rows have a 2-norm of at most 3.74166. Got 14.872318\n",
      "Translate and/or scale the data accordingly to ensure differential privacy is achieved.\n",
      "  % (self.data_norm, max_norm), PrivacyLeakWarning)\n",
      "/home/niloofar/python-environments/py36/lib/python3.6/site-packages/diffprivlib/models/logistic_regression.py:225: PrivacyLeakWarning: Differential privacy is only guaranteed for data whose rows have a 2-norm of at most 3.74166. Got 14.872318\n",
      "Translate and/or scale the data accordingly to ensure differential privacy is achieved.\n",
      "  % (self.data_norm, max_norm), PrivacyLeakWarning)\n",
      "/home/niloofar/python-environments/py36/lib/python3.6/site-packages/diffprivlib/models/logistic_regression.py:225: PrivacyLeakWarning: Differential privacy is only guaranteed for data whose rows have a 2-norm of at most 3.74166. Got 14.872318\n",
      "Translate and/or scale the data accordingly to ensure differential privacy is achieved.\n",
      "  % (self.data_norm, max_norm), PrivacyLeakWarning)\n",
      "/home/niloofar/python-environments/py36/lib/python3.6/site-packages/diffprivlib/models/logistic_regression.py:225: PrivacyLeakWarning: Differential privacy is only guaranteed for data whose rows have a 2-norm of at most 3.74166. Got 14.872318\n",
      "Translate and/or scale the data accordingly to ensure differential privacy is achieved.\n",
      "  % (self.data_norm, max_norm), PrivacyLeakWarning)\n",
      "/home/niloofar/python-environments/py36/lib/python3.6/site-packages/diffprivlib/models/logistic_regression.py:225: PrivacyLeakWarning: Differential privacy is only guaranteed for data whose rows have a 2-norm of at most 3.74166. Got 14.872318\n",
      "Translate and/or scale the data accordingly to ensure differential privacy is achieved.\n",
      "  % (self.data_norm, max_norm), PrivacyLeakWarning)\n",
      "/home/niloofar/python-environments/py36/lib/python3.6/site-packages/diffprivlib/models/logistic_regression.py:225: PrivacyLeakWarning: Differential privacy is only guaranteed for data whose rows have a 2-norm of at most 3.74166. Got 14.872318\n",
      "Translate and/or scale the data accordingly to ensure differential privacy is achieved.\n",
      "  % (self.data_norm, max_norm), PrivacyLeakWarning)\n",
      "/home/niloofar/python-environments/py36/lib/python3.6/site-packages/diffprivlib/models/logistic_regression.py:225: PrivacyLeakWarning: Differential privacy is only guaranteed for data whose rows have a 2-norm of at most 3.74166. Got 14.872318\n",
      "Translate and/or scale the data accordingly to ensure differential privacy is achieved.\n",
      "  % (self.data_norm, max_norm), PrivacyLeakWarning)\n",
      "/home/niloofar/python-environments/py36/lib/python3.6/site-packages/diffprivlib/models/logistic_regression.py:225: PrivacyLeakWarning: Differential privacy is only guaranteed for data whose rows have a 2-norm of at most 3.74166. Got 14.872318\n",
      "Translate and/or scale the data accordingly to ensure differential privacy is achieved.\n",
      "  % (self.data_norm, max_norm), PrivacyLeakWarning)\n"
     ]
    },
    {
     "name": "stderr",
     "output_type": "stream",
     "text": [
      "/home/niloofar/python-environments/py36/lib/python3.6/site-packages/diffprivlib/models/logistic_regression.py:225: PrivacyLeakWarning: Differential privacy is only guaranteed for data whose rows have a 2-norm of at most 3.74166. Got 14.872318\n",
      "Translate and/or scale the data accordingly to ensure differential privacy is achieved.\n",
      "  % (self.data_norm, max_norm), PrivacyLeakWarning)\n",
      "/home/niloofar/python-environments/py36/lib/python3.6/site-packages/diffprivlib/models/logistic_regression.py:225: PrivacyLeakWarning: Differential privacy is only guaranteed for data whose rows have a 2-norm of at most 3.74166. Got 14.872318\n",
      "Translate and/or scale the data accordingly to ensure differential privacy is achieved.\n",
      "  % (self.data_norm, max_norm), PrivacyLeakWarning)\n",
      "/home/niloofar/python-environments/py36/lib/python3.6/site-packages/diffprivlib/models/logistic_regression.py:225: PrivacyLeakWarning: Differential privacy is only guaranteed for data whose rows have a 2-norm of at most 3.74166. Got 14.872318\n",
      "Translate and/or scale the data accordingly to ensure differential privacy is achieved.\n",
      "  % (self.data_norm, max_norm), PrivacyLeakWarning)\n",
      "/home/niloofar/python-environments/py36/lib/python3.6/site-packages/diffprivlib/models/logistic_regression.py:225: PrivacyLeakWarning: Differential privacy is only guaranteed for data whose rows have a 2-norm of at most 3.74166. Got 14.872318\n",
      "Translate and/or scale the data accordingly to ensure differential privacy is achieved.\n",
      "  % (self.data_norm, max_norm), PrivacyLeakWarning)\n",
      "/home/niloofar/python-environments/py36/lib/python3.6/site-packages/diffprivlib/models/logistic_regression.py:225: PrivacyLeakWarning: Differential privacy is only guaranteed for data whose rows have a 2-norm of at most 3.74166. Got 14.872318\n",
      "Translate and/or scale the data accordingly to ensure differential privacy is achieved.\n",
      "  % (self.data_norm, max_norm), PrivacyLeakWarning)\n",
      "/home/niloofar/python-environments/py36/lib/python3.6/site-packages/diffprivlib/models/logistic_regression.py:225: PrivacyLeakWarning: Differential privacy is only guaranteed for data whose rows have a 2-norm of at most 3.74166. Got 14.872318\n",
      "Translate and/or scale the data accordingly to ensure differential privacy is achieved.\n",
      "  % (self.data_norm, max_norm), PrivacyLeakWarning)\n",
      "/home/niloofar/python-environments/py36/lib/python3.6/site-packages/diffprivlib/models/logistic_regression.py:225: PrivacyLeakWarning: Differential privacy is only guaranteed for data whose rows have a 2-norm of at most 3.74166. Got 14.872318\n",
      "Translate and/or scale the data accordingly to ensure differential privacy is achieved.\n",
      "  % (self.data_norm, max_norm), PrivacyLeakWarning)\n",
      "/home/niloofar/python-environments/py36/lib/python3.6/site-packages/diffprivlib/models/logistic_regression.py:225: PrivacyLeakWarning: Differential privacy is only guaranteed for data whose rows have a 2-norm of at most 3.74166. Got 14.872318\n",
      "Translate and/or scale the data accordingly to ensure differential privacy is achieved.\n",
      "  % (self.data_norm, max_norm), PrivacyLeakWarning)\n",
      "/home/niloofar/python-environments/py36/lib/python3.6/site-packages/diffprivlib/models/logistic_regression.py:225: PrivacyLeakWarning: Differential privacy is only guaranteed for data whose rows have a 2-norm of at most 3.74166. Got 14.872318\n",
      "Translate and/or scale the data accordingly to ensure differential privacy is achieved.\n",
      "  % (self.data_norm, max_norm), PrivacyLeakWarning)\n",
      "/home/niloofar/python-environments/py36/lib/python3.6/site-packages/diffprivlib/models/logistic_regression.py:225: PrivacyLeakWarning: Differential privacy is only guaranteed for data whose rows have a 2-norm of at most 3.74166. Got 14.872318\n",
      "Translate and/or scale the data accordingly to ensure differential privacy is achieved.\n",
      "  % (self.data_norm, max_norm), PrivacyLeakWarning)\n",
      "/home/niloofar/python-environments/py36/lib/python3.6/site-packages/diffprivlib/models/logistic_regression.py:225: PrivacyLeakWarning: Differential privacy is only guaranteed for data whose rows have a 2-norm of at most 3.74166. Got 14.872318\n",
      "Translate and/or scale the data accordingly to ensure differential privacy is achieved.\n",
      "  % (self.data_norm, max_norm), PrivacyLeakWarning)\n",
      "/home/niloofar/python-environments/py36/lib/python3.6/site-packages/diffprivlib/models/logistic_regression.py:225: PrivacyLeakWarning: Differential privacy is only guaranteed for data whose rows have a 2-norm of at most 3.74166. Got 14.872318\n",
      "Translate and/or scale the data accordingly to ensure differential privacy is achieved.\n",
      "  % (self.data_norm, max_norm), PrivacyLeakWarning)\n",
      "/home/niloofar/python-environments/py36/lib/python3.6/site-packages/diffprivlib/models/logistic_regression.py:225: PrivacyLeakWarning: Differential privacy is only guaranteed for data whose rows have a 2-norm of at most 3.74166. Got 14.872318\n",
      "Translate and/or scale the data accordingly to ensure differential privacy is achieved.\n",
      "  % (self.data_norm, max_norm), PrivacyLeakWarning)\n",
      "/home/niloofar/python-environments/py36/lib/python3.6/site-packages/diffprivlib/models/logistic_regression.py:225: PrivacyLeakWarning: Differential privacy is only guaranteed for data whose rows have a 2-norm of at most 3.74166. Got 14.872318\n",
      "Translate and/or scale the data accordingly to ensure differential privacy is achieved.\n",
      "  % (self.data_norm, max_norm), PrivacyLeakWarning)\n",
      "/home/niloofar/python-environments/py36/lib/python3.6/site-packages/diffprivlib/models/logistic_regression.py:225: PrivacyLeakWarning: Differential privacy is only guaranteed for data whose rows have a 2-norm of at most 3.74166. Got 14.872318\n",
      "Translate and/or scale the data accordingly to ensure differential privacy is achieved.\n",
      "  % (self.data_norm, max_norm), PrivacyLeakWarning)\n",
      "/home/niloofar/python-environments/py36/lib/python3.6/site-packages/diffprivlib/models/logistic_regression.py:225: PrivacyLeakWarning: Differential privacy is only guaranteed for data whose rows have a 2-norm of at most 3.74166. Got 14.872318\n",
      "Translate and/or scale the data accordingly to ensure differential privacy is achieved.\n",
      "  % (self.data_norm, max_norm), PrivacyLeakWarning)\n",
      "/home/niloofar/python-environments/py36/lib/python3.6/site-packages/diffprivlib/models/logistic_regression.py:225: PrivacyLeakWarning: Differential privacy is only guaranteed for data whose rows have a 2-norm of at most 3.74166. Got 14.872318\n",
      "Translate and/or scale the data accordingly to ensure differential privacy is achieved.\n",
      "  % (self.data_norm, max_norm), PrivacyLeakWarning)\n",
      "/home/niloofar/python-environments/py36/lib/python3.6/site-packages/diffprivlib/models/logistic_regression.py:225: PrivacyLeakWarning: Differential privacy is only guaranteed for data whose rows have a 2-norm of at most 3.74166. Got 14.872318\n",
      "Translate and/or scale the data accordingly to ensure differential privacy is achieved.\n",
      "  % (self.data_norm, max_norm), PrivacyLeakWarning)\n",
      "/home/niloofar/python-environments/py36/lib/python3.6/site-packages/diffprivlib/models/logistic_regression.py:225: PrivacyLeakWarning: Differential privacy is only guaranteed for data whose rows have a 2-norm of at most 3.74166. Got 14.872318\n",
      "Translate and/or scale the data accordingly to ensure differential privacy is achieved.\n",
      "  % (self.data_norm, max_norm), PrivacyLeakWarning)\n",
      "/home/niloofar/python-environments/py36/lib/python3.6/site-packages/diffprivlib/models/logistic_regression.py:225: PrivacyLeakWarning: Differential privacy is only guaranteed for data whose rows have a 2-norm of at most 3.74166. Got 14.872318\n",
      "Translate and/or scale the data accordingly to ensure differential privacy is achieved.\n",
      "  % (self.data_norm, max_norm), PrivacyLeakWarning)\n",
      "/home/niloofar/python-environments/py36/lib/python3.6/site-packages/diffprivlib/models/logistic_regression.py:225: PrivacyLeakWarning: Differential privacy is only guaranteed for data whose rows have a 2-norm of at most 3.74166. Got 14.872318\n",
      "Translate and/or scale the data accordingly to ensure differential privacy is achieved.\n",
      "  % (self.data_norm, max_norm), PrivacyLeakWarning)\n",
      "/home/niloofar/python-environments/py36/lib/python3.6/site-packages/diffprivlib/models/logistic_regression.py:225: PrivacyLeakWarning: Differential privacy is only guaranteed for data whose rows have a 2-norm of at most 3.74166. Got 14.872318\n",
      "Translate and/or scale the data accordingly to ensure differential privacy is achieved.\n",
      "  % (self.data_norm, max_norm), PrivacyLeakWarning)\n",
      "/home/niloofar/python-environments/py36/lib/python3.6/site-packages/diffprivlib/models/logistic_regression.py:225: PrivacyLeakWarning: Differential privacy is only guaranteed for data whose rows have a 2-norm of at most 3.74166. Got 14.872318\n",
      "Translate and/or scale the data accordingly to ensure differential privacy is achieved.\n",
      "  % (self.data_norm, max_norm), PrivacyLeakWarning)\n"
     ]
    },
    {
     "name": "stderr",
     "output_type": "stream",
     "text": [
      "/home/niloofar/python-environments/py36/lib/python3.6/site-packages/diffprivlib/models/logistic_regression.py:225: PrivacyLeakWarning: Differential privacy is only guaranteed for data whose rows have a 2-norm of at most 3.74166. Got 14.872318\n",
      "Translate and/or scale the data accordingly to ensure differential privacy is achieved.\n",
      "  % (self.data_norm, max_norm), PrivacyLeakWarning)\n",
      "/home/niloofar/python-environments/py36/lib/python3.6/site-packages/diffprivlib/models/logistic_regression.py:225: PrivacyLeakWarning: Differential privacy is only guaranteed for data whose rows have a 2-norm of at most 3.74166. Got 14.872318\n",
      "Translate and/or scale the data accordingly to ensure differential privacy is achieved.\n",
      "  % (self.data_norm, max_norm), PrivacyLeakWarning)\n",
      "/home/niloofar/python-environments/py36/lib/python3.6/site-packages/diffprivlib/models/logistic_regression.py:225: PrivacyLeakWarning: Differential privacy is only guaranteed for data whose rows have a 2-norm of at most 3.74166. Got 14.872318\n",
      "Translate and/or scale the data accordingly to ensure differential privacy is achieved.\n",
      "  % (self.data_norm, max_norm), PrivacyLeakWarning)\n",
      "/home/niloofar/python-environments/py36/lib/python3.6/site-packages/diffprivlib/models/logistic_regression.py:225: PrivacyLeakWarning: Differential privacy is only guaranteed for data whose rows have a 2-norm of at most 3.74166. Got 14.872318\n",
      "Translate and/or scale the data accordingly to ensure differential privacy is achieved.\n",
      "  % (self.data_norm, max_norm), PrivacyLeakWarning)\n"
     ]
    },
    {
     "name": "stdout",
     "output_type": "stream",
     "text": [
      "Accuracy of non-private classifier on WOMEN in validation set: 68.45522123893805\n",
      "Accuracy of non-private classifier on MEN in validation set: 63.0318123393316\n",
      "Accuracy of private logistic regression (on validation set): 64.72494198253952%\n"
     ]
    }
   ],
   "source": [
    "acc = 0\n",
    "f_acc = 0\n",
    "m_acc = 0\n",
    "for i in range(50):\n",
    "    \n",
    "    modelDP = DPLogisticRegression(epsilon= 0.02, max_iter=1000, tol=1e-5,  data_norm=np.sqrt(d))\n",
    "    modelDP.fit(X_train_no, y_train)\n",
    "    y_predDP = modelDP.predict(X_test_no)\n",
    "    acc += np.mean((y_predDP ==y_test).astype(float))*100\n",
    "    \n",
    "    temp1 = genders == 0\n",
    "    temp2 = y_predDP==y_test_np\n",
    "    f_acc += np.sum((temp1 * temp2).astype(float))*100/np.sum(temp1)\n",
    "    temp1 = genders == 1\n",
    "    m_acc += np.sum((temp1 * temp2).astype(float))*100/np.sum(temp1)\n",
    "print('Accuracy of non-private classifier on WOMEN in validation set:', f_acc/50)\n",
    "print('Accuracy of non-private classifier on MEN in validation set:', m_acc/50)\n",
    "print('Accuracy of private logistic regression (on validation set): {}%'.format(acc/50))"
   ]
  },
  {
   "cell_type": "code",
   "execution_count": 382,
   "metadata": {},
   "outputs": [],
   "source": [
    "n = len(y_test)\n",
    "f_valid_indices = [i for i in range(n) if X_test_np[i,9] == 0]\n",
    "m_valid_indices = [i for i in range(n) if X_test_np[i,9] == 1]"
   ]
  },
  {
   "cell_type": "code",
   "execution_count": 383,
   "metadata": {},
   "outputs": [
    {
     "name": "stdout",
     "output_type": "stream",
     "text": [
      "Difference in demographic parity for NON-Private classifier is -0.1432669426939964\n",
      "Difference in demographic parity for DP (Private) classifier is -0.14616153286166025\n"
     ]
    }
   ],
   "source": [
    "f_1 = np.sum((y_pred== 1)[f_valid_indices].astype(float))\n",
    "f_all = len(f_valid_indices)\n",
    "\n",
    "m_1 = np.sum((y_pred== 1)[m_valid_indices].astype(float))\n",
    "m_all = len(m_valid_indices)\n",
    "\n",
    "print('Difference in demographic parity for NON-Private classifier is', (f_1/f_all - m_1/m_all))\n",
    "\n",
    "f_1_DP = np.sum((y_predDP== 1)[f_valid_indices].astype(float))\n",
    "f_all = len(f_valid_indices)\n",
    "\n",
    "m_1_DP = np.sum((y_predDP== 1)[m_valid_indices].astype(float))\n",
    "m_all = len(m_valid_indices)\n",
    "\n",
    "print('Difference in demographic parity for DP (Private) classifier is', (f_1_DP/f_all - m_1_DP/m_all))"
   ]
  },
  {
   "cell_type": "code",
   "execution_count": 384,
   "metadata": {},
   "outputs": [
    {
     "name": "stdout",
     "output_type": "stream",
     "text": [
      "88.0 335.0 930.0 1960.0\n",
      "Difference in Equal opportunity for NON-Private classifier is -0.21180322875418828\n"
     ]
    }
   ],
   "source": [
    "temp1 = (y_pred == 1)\n",
    "temp2 = (y_test_np == 1)\n",
    "f_1_real1 = np.sum((temp1&temp2)[f_valid_indices].astype(float))\n",
    "f_real1 = np.sum((y_test_np==1)[f_valid_indices].astype(float))\n",
    "\n",
    "m_1_real1 = np.sum((temp1&temp2)[m_valid_indices].astype(float))\n",
    "m_real1 = np.sum((y_test_np==1)[m_valid_indices].astype(float))\n",
    "\n",
    "print(f_1_real1, f_real1, m_1_real1, m_real1)\n",
    "\n",
    "print('Difference in Equal opportunity for NON-Private classifier is', (f_1_real1/f_real1 - m_1_real1/m_real1))"
   ]
  },
  {
   "cell_type": "code",
   "execution_count": 385,
   "metadata": {},
   "outputs": [
    {
     "name": "stdout",
     "output_type": "stream",
     "text": [
      "87.0 335.0 941.0 1960.0\n",
      "Difference in Equal opportunity for Private classifier is -0.22040054827901306\n"
     ]
    }
   ],
   "source": [
    "temp1 = (y_predDP == 1)\n",
    "temp2 = (y_test_np == 1)\n",
    "f_1_real1 = np.sum((temp1&temp2)[f_valid_indices].astype(float))\n",
    "f_real1 = np.sum((y_test_np==1)[f_valid_indices].astype(float))\n",
    "\n",
    "m_1_real1 = np.sum((temp1&temp2)[m_valid_indices].astype(float))\n",
    "m_real1 = np.sum((y_test_np==1)[m_valid_indices].astype(float))\n",
    "\n",
    "print(f_1_real1, f_real1, m_1_real1, m_real1)\n",
    "\n",
    "print('Difference in Equal opportunity for Private classifier is', (f_1_real1/f_real1 - m_1_real1/m_real1))"
   ]
  },
  {
   "cell_type": "code",
   "execution_count": 392,
   "metadata": {},
   "outputs": [
    {
     "name": "stdout",
     "output_type": "stream",
     "text": [
      "       age  workclass  fnlwgt  education  education.num  marital.status  \\\n",
      "1       82          2  132870         11              9               6   \n",
      "3       54          2  140359          5              4               0   \n",
      "4       41          2  264663         15             10               5   \n",
      "5       34          2  216864         11              9               0   \n",
      "6       38          2  150601          0              6               5   \n",
      "...    ...        ...     ...        ...            ...             ...   \n",
      "32556   22          2  310152         15             10               4   \n",
      "32557   27          2  257302          7             12               2   \n",
      "32558   40          2  154374         11              9               2   \n",
      "32559   58          2  151910         11              9               6   \n",
      "32560   22          2  201490         11              9               4   \n",
      "\n",
      "       occupation  relationship  race  sex  capital.gain  capital.loss  \\\n",
      "1               3             1     4    0             0          4356   \n",
      "3               6             4     4    0             0          3900   \n",
      "4               9             3     4    0             0          3900   \n",
      "5               7             4     4    0             0          3770   \n",
      "6               0             4     4    1             0          3770   \n",
      "...           ...           ...   ...  ...           ...           ...   \n",
      "32556          10             1     4    1             0             0   \n",
      "32557          12             5     4    0             0             0   \n",
      "32558           6             0     4    1             0             0   \n",
      "32559           0             4     4    0             0             0   \n",
      "32560           0             3     4    1             0             0   \n",
      "\n",
      "       hours.per.week  native.country  \n",
      "1                  18              38  \n",
      "3                  40              38  \n",
      "4                  40              38  \n",
      "5                  45              38  \n",
      "6                  40              38  \n",
      "...               ...             ...  \n",
      "32556              40              38  \n",
      "32557              38              38  \n",
      "32558              40              38  \n",
      "32559              40              38  \n",
      "32560              20              38  \n",
      "\n",
      "[30162 rows x 14 columns]\n"
     ]
    }
   ],
   "source": [
    "print(X)"
   ]
  },
  {
   "cell_type": "markdown",
   "metadata": {},
   "source": [
    "# make f minority:\n"
   ]
  },
  {
   "cell_type": "code",
   "execution_count": 42,
   "metadata": {},
   "outputs": [
    {
     "name": "stdout",
     "output_type": "stream",
     "text": [
      "(20869, 15)\n",
      "(14608, 14)\n"
     ]
    }
   ],
   "source": [
    "df_min = df.drop(df.query('sex == 0').sample(frac=.95).index)\n",
    "print(df_min.shape)\n",
    "\n",
    "\n",
    "X = df_min.iloc[:,0:-1]\n",
    "y = df_min.iloc[:,-1]\n",
    "from sklearn.model_selection import train_test_split\n",
    "X_train, X_test, y_train, y_test = train_test_split(X, y, test_size = 0.30, random_state = 42)\n",
    "\n",
    "X_train_np = np.array(X_train)\n",
    "X_test_np = np.array(X_test)\n",
    "y_train_np = np.array(y_train)\n",
    "y_test_np = np.array(y_test)\n",
    "\n",
    "print(X_train.shape)"
   ]
  },
  {
   "cell_type": "code",
   "execution_count": null,
   "metadata": {},
   "outputs": [],
   "source": []
  },
  {
   "cell_type": "code",
   "execution_count": 43,
   "metadata": {},
   "outputs": [],
   "source": [
    "n = len(y_test)\n",
    "f_valid_indices = [i for i in range(n) if X_test_np[i,9] == 0]\n",
    "m_valid_indices = [i for i in range(n) if X_test_np[i,9] == 1]"
   ]
  },
  {
   "cell_type": "code",
   "execution_count": 44,
   "metadata": {},
   "outputs": [],
   "source": [
    "from sklearn.preprocessing import StandardScaler\n",
    "sc = StandardScaler()\n",
    "X_train = pd.DataFrame(sc.fit_transform(X_train))\n",
    "X_test = pd.DataFrame(sc.transform(X_test))"
   ]
  },
  {
   "cell_type": "markdown",
   "metadata": {},
   "source": [
    "# Normal Accuracy"
   ]
  },
  {
   "cell_type": "code",
   "execution_count": 56,
   "metadata": {},
   "outputs": [
    {
     "name": "stdout",
     "output_type": "stream",
     "text": [
      "Logistic Regression: 79.89139115157323\n"
     ]
    }
   ],
   "source": [
    "from sklearn.linear_model import LogisticRegression\n",
    "from sklearn.metrics import accuracy_score\n",
    "model = LogisticRegression()\n",
    "model.fit(X_train, y_train)\n",
    "\n",
    "y_pred = model.predict(X_test)\n",
    "acc = accuracy_score(y_test, y_pred)\n",
    "print('Logistic Regression:', acc * 100)"
   ]
  },
  {
   "cell_type": "code",
   "execution_count": 57,
   "metadata": {},
   "outputs": [
    {
     "name": "stdout",
     "output_type": "stream",
     "text": [
      "(14608, 14)\n",
      "(6261,)\n",
      "(6261,)\n"
     ]
    }
   ],
   "source": [
    "print(X_train.shape)\n",
    "genders = X_test_np[:,9]\n",
    "print(genders.shape)\n",
    "print(y_pred.shape)"
   ]
  },
  {
   "cell_type": "code",
   "execution_count": 58,
   "metadata": {},
   "outputs": [
    {
     "name": "stdout",
     "output_type": "stream",
     "text": [
      "Accuracy of non-private classifier on WOMEN in validation set: 84.9673202614379\n",
      "Accuracy of non-private classifier on MEN in validation set: 79.76424361493123\n"
     ]
    }
   ],
   "source": [
    "temp1 = genders == 0\n",
    "temp2 = y_pred==y_test_np\n",
    "\n",
    "f_acc = np.sum((temp1 * temp2).astype(float))*100/np.sum(temp1)\n",
    "\n",
    "temp1 = genders == 1\n",
    "\n",
    "\n",
    "m_acc = np.sum((temp1 * temp2).astype(float))*100/np.sum(temp1)\n",
    "print('Accuracy of non-private classifier on WOMEN in validation set:', f_acc)\n",
    "print('Accuracy of non-private classifier on MEN in validation set:', m_acc)"
   ]
  },
  {
   "cell_type": "markdown",
   "metadata": {},
   "source": [
    "# DP  Accuracy"
   ]
  },
  {
   "cell_type": "code",
   "execution_count": 59,
   "metadata": {},
   "outputs": [],
   "source": [
    "(n,d) = X_test_np.shape\n",
    "from diffprivlib.models import LogisticRegression as DPLogisticRegression\n",
    "\n"
   ]
  },
  {
   "cell_type": "code",
   "execution_count": 61,
   "metadata": {},
   "outputs": [
    {
     "name": "stderr",
     "output_type": "stream",
     "text": [
      "/home/niloofar/python-environments/py36/lib/python3.6/site-packages/diffprivlib/models/logistic_regression.py:225: PrivacyLeakWarning: Differential privacy is only guaranteed for data whose rows have a 2-norm of at most 3.87298. Got 12.813644\n",
      "Translate and/or scale the data accordingly to ensure differential privacy is achieved.\n",
      "  % (self.data_norm, max_norm), PrivacyLeakWarning)\n",
      "/home/niloofar/python-environments/py36/lib/python3.6/site-packages/diffprivlib/models/logistic_regression.py:225: PrivacyLeakWarning: Differential privacy is only guaranteed for data whose rows have a 2-norm of at most 3.87298. Got 12.813644\n",
      "Translate and/or scale the data accordingly to ensure differential privacy is achieved.\n",
      "  % (self.data_norm, max_norm), PrivacyLeakWarning)\n",
      "/home/niloofar/python-environments/py36/lib/python3.6/site-packages/diffprivlib/models/logistic_regression.py:225: PrivacyLeakWarning: Differential privacy is only guaranteed for data whose rows have a 2-norm of at most 3.87298. Got 12.813644\n",
      "Translate and/or scale the data accordingly to ensure differential privacy is achieved.\n",
      "  % (self.data_norm, max_norm), PrivacyLeakWarning)\n",
      "/home/niloofar/python-environments/py36/lib/python3.6/site-packages/diffprivlib/models/logistic_regression.py:225: PrivacyLeakWarning: Differential privacy is only guaranteed for data whose rows have a 2-norm of at most 3.87298. Got 12.813644\n",
      "Translate and/or scale the data accordingly to ensure differential privacy is achieved.\n",
      "  % (self.data_norm, max_norm), PrivacyLeakWarning)\n",
      "/home/niloofar/python-environments/py36/lib/python3.6/site-packages/diffprivlib/models/logistic_regression.py:225: PrivacyLeakWarning: Differential privacy is only guaranteed for data whose rows have a 2-norm of at most 3.87298. Got 12.813644\n",
      "Translate and/or scale the data accordingly to ensure differential privacy is achieved.\n",
      "  % (self.data_norm, max_norm), PrivacyLeakWarning)\n",
      "/home/niloofar/python-environments/py36/lib/python3.6/site-packages/diffprivlib/models/logistic_regression.py:225: PrivacyLeakWarning: Differential privacy is only guaranteed for data whose rows have a 2-norm of at most 3.87298. Got 12.813644\n",
      "Translate and/or scale the data accordingly to ensure differential privacy is achieved.\n",
      "  % (self.data_norm, max_norm), PrivacyLeakWarning)\n",
      "/home/niloofar/python-environments/py36/lib/python3.6/site-packages/diffprivlib/models/logistic_regression.py:225: PrivacyLeakWarning: Differential privacy is only guaranteed for data whose rows have a 2-norm of at most 3.87298. Got 12.813644\n",
      "Translate and/or scale the data accordingly to ensure differential privacy is achieved.\n",
      "  % (self.data_norm, max_norm), PrivacyLeakWarning)\n",
      "/home/niloofar/python-environments/py36/lib/python3.6/site-packages/diffprivlib/models/logistic_regression.py:225: PrivacyLeakWarning: Differential privacy is only guaranteed for data whose rows have a 2-norm of at most 3.87298. Got 12.813644\n",
      "Translate and/or scale the data accordingly to ensure differential privacy is achieved.\n",
      "  % (self.data_norm, max_norm), PrivacyLeakWarning)\n",
      "/home/niloofar/python-environments/py36/lib/python3.6/site-packages/diffprivlib/models/logistic_regression.py:225: PrivacyLeakWarning: Differential privacy is only guaranteed for data whose rows have a 2-norm of at most 3.87298. Got 12.813644\n",
      "Translate and/or scale the data accordingly to ensure differential privacy is achieved.\n",
      "  % (self.data_norm, max_norm), PrivacyLeakWarning)\n",
      "/home/niloofar/python-environments/py36/lib/python3.6/site-packages/diffprivlib/models/logistic_regression.py:225: PrivacyLeakWarning: Differential privacy is only guaranteed for data whose rows have a 2-norm of at most 3.87298. Got 12.813644\n",
      "Translate and/or scale the data accordingly to ensure differential privacy is achieved.\n",
      "  % (self.data_norm, max_norm), PrivacyLeakWarning)\n",
      "/home/niloofar/python-environments/py36/lib/python3.6/site-packages/diffprivlib/models/logistic_regression.py:225: PrivacyLeakWarning: Differential privacy is only guaranteed for data whose rows have a 2-norm of at most 3.87298. Got 12.813644\n",
      "Translate and/or scale the data accordingly to ensure differential privacy is achieved.\n",
      "  % (self.data_norm, max_norm), PrivacyLeakWarning)\n",
      "/home/niloofar/python-environments/py36/lib/python3.6/site-packages/diffprivlib/models/logistic_regression.py:225: PrivacyLeakWarning: Differential privacy is only guaranteed for data whose rows have a 2-norm of at most 3.87298. Got 12.813644\n",
      "Translate and/or scale the data accordingly to ensure differential privacy is achieved.\n",
      "  % (self.data_norm, max_norm), PrivacyLeakWarning)\n",
      "/home/niloofar/python-environments/py36/lib/python3.6/site-packages/diffprivlib/models/logistic_regression.py:225: PrivacyLeakWarning: Differential privacy is only guaranteed for data whose rows have a 2-norm of at most 3.87298. Got 12.813644\n",
      "Translate and/or scale the data accordingly to ensure differential privacy is achieved.\n",
      "  % (self.data_norm, max_norm), PrivacyLeakWarning)\n",
      "/home/niloofar/python-environments/py36/lib/python3.6/site-packages/diffprivlib/models/logistic_regression.py:225: PrivacyLeakWarning: Differential privacy is only guaranteed for data whose rows have a 2-norm of at most 3.87298. Got 12.813644\n",
      "Translate and/or scale the data accordingly to ensure differential privacy is achieved.\n",
      "  % (self.data_norm, max_norm), PrivacyLeakWarning)\n",
      "/home/niloofar/python-environments/py36/lib/python3.6/site-packages/diffprivlib/models/logistic_regression.py:225: PrivacyLeakWarning: Differential privacy is only guaranteed for data whose rows have a 2-norm of at most 3.87298. Got 12.813644\n",
      "Translate and/or scale the data accordingly to ensure differential privacy is achieved.\n",
      "  % (self.data_norm, max_norm), PrivacyLeakWarning)\n",
      "/home/niloofar/python-environments/py36/lib/python3.6/site-packages/diffprivlib/models/logistic_regression.py:225: PrivacyLeakWarning: Differential privacy is only guaranteed for data whose rows have a 2-norm of at most 3.87298. Got 12.813644\n",
      "Translate and/or scale the data accordingly to ensure differential privacy is achieved.\n",
      "  % (self.data_norm, max_norm), PrivacyLeakWarning)\n",
      "/home/niloofar/python-environments/py36/lib/python3.6/site-packages/diffprivlib/models/logistic_regression.py:225: PrivacyLeakWarning: Differential privacy is only guaranteed for data whose rows have a 2-norm of at most 3.87298. Got 12.813644\n",
      "Translate and/or scale the data accordingly to ensure differential privacy is achieved.\n",
      "  % (self.data_norm, max_norm), PrivacyLeakWarning)\n",
      "/home/niloofar/python-environments/py36/lib/python3.6/site-packages/diffprivlib/models/logistic_regression.py:225: PrivacyLeakWarning: Differential privacy is only guaranteed for data whose rows have a 2-norm of at most 3.87298. Got 12.813644\n",
      "Translate and/or scale the data accordingly to ensure differential privacy is achieved.\n",
      "  % (self.data_norm, max_norm), PrivacyLeakWarning)\n",
      "/home/niloofar/python-environments/py36/lib/python3.6/site-packages/diffprivlib/models/logistic_regression.py:225: PrivacyLeakWarning: Differential privacy is only guaranteed for data whose rows have a 2-norm of at most 3.87298. Got 12.813644\n",
      "Translate and/or scale the data accordingly to ensure differential privacy is achieved.\n",
      "  % (self.data_norm, max_norm), PrivacyLeakWarning)\n",
      "/home/niloofar/python-environments/py36/lib/python3.6/site-packages/diffprivlib/models/logistic_regression.py:225: PrivacyLeakWarning: Differential privacy is only guaranteed for data whose rows have a 2-norm of at most 3.87298. Got 12.813644\n",
      "Translate and/or scale the data accordingly to ensure differential privacy is achieved.\n",
      "  % (self.data_norm, max_norm), PrivacyLeakWarning)\n",
      "/home/niloofar/python-environments/py36/lib/python3.6/site-packages/diffprivlib/models/logistic_regression.py:225: PrivacyLeakWarning: Differential privacy is only guaranteed for data whose rows have a 2-norm of at most 3.87298. Got 12.813644\n",
      "Translate and/or scale the data accordingly to ensure differential privacy is achieved.\n",
      "  % (self.data_norm, max_norm), PrivacyLeakWarning)\n",
      "/home/niloofar/python-environments/py36/lib/python3.6/site-packages/diffprivlib/models/logistic_regression.py:225: PrivacyLeakWarning: Differential privacy is only guaranteed for data whose rows have a 2-norm of at most 3.87298. Got 12.813644\n",
      "Translate and/or scale the data accordingly to ensure differential privacy is achieved.\n",
      "  % (self.data_norm, max_norm), PrivacyLeakWarning)\n",
      "/home/niloofar/python-environments/py36/lib/python3.6/site-packages/diffprivlib/models/logistic_regression.py:225: PrivacyLeakWarning: Differential privacy is only guaranteed for data whose rows have a 2-norm of at most 3.87298. Got 12.813644\n",
      "Translate and/or scale the data accordingly to ensure differential privacy is achieved.\n",
      "  % (self.data_norm, max_norm), PrivacyLeakWarning)\n",
      "/home/niloofar/python-environments/py36/lib/python3.6/site-packages/diffprivlib/models/logistic_regression.py:225: PrivacyLeakWarning: Differential privacy is only guaranteed for data whose rows have a 2-norm of at most 3.87298. Got 12.813644\n",
      "Translate and/or scale the data accordingly to ensure differential privacy is achieved.\n",
      "  % (self.data_norm, max_norm), PrivacyLeakWarning)\n"
     ]
    },
    {
     "name": "stderr",
     "output_type": "stream",
     "text": [
      "/home/niloofar/python-environments/py36/lib/python3.6/site-packages/diffprivlib/models/logistic_regression.py:225: PrivacyLeakWarning: Differential privacy is only guaranteed for data whose rows have a 2-norm of at most 3.87298. Got 12.813644\n",
      "Translate and/or scale the data accordingly to ensure differential privacy is achieved.\n",
      "  % (self.data_norm, max_norm), PrivacyLeakWarning)\n",
      "/home/niloofar/python-environments/py36/lib/python3.6/site-packages/diffprivlib/models/logistic_regression.py:225: PrivacyLeakWarning: Differential privacy is only guaranteed for data whose rows have a 2-norm of at most 3.87298. Got 12.813644\n",
      "Translate and/or scale the data accordingly to ensure differential privacy is achieved.\n",
      "  % (self.data_norm, max_norm), PrivacyLeakWarning)\n",
      "/home/niloofar/python-environments/py36/lib/python3.6/site-packages/diffprivlib/models/logistic_regression.py:225: PrivacyLeakWarning: Differential privacy is only guaranteed for data whose rows have a 2-norm of at most 3.87298. Got 12.813644\n",
      "Translate and/or scale the data accordingly to ensure differential privacy is achieved.\n",
      "  % (self.data_norm, max_norm), PrivacyLeakWarning)\n",
      "/home/niloofar/python-environments/py36/lib/python3.6/site-packages/diffprivlib/models/logistic_regression.py:225: PrivacyLeakWarning: Differential privacy is only guaranteed for data whose rows have a 2-norm of at most 3.87298. Got 12.813644\n",
      "Translate and/or scale the data accordingly to ensure differential privacy is achieved.\n",
      "  % (self.data_norm, max_norm), PrivacyLeakWarning)\n",
      "/home/niloofar/python-environments/py36/lib/python3.6/site-packages/diffprivlib/models/logistic_regression.py:225: PrivacyLeakWarning: Differential privacy is only guaranteed for data whose rows have a 2-norm of at most 3.87298. Got 12.813644\n",
      "Translate and/or scale the data accordingly to ensure differential privacy is achieved.\n",
      "  % (self.data_norm, max_norm), PrivacyLeakWarning)\n",
      "/home/niloofar/python-environments/py36/lib/python3.6/site-packages/diffprivlib/models/logistic_regression.py:225: PrivacyLeakWarning: Differential privacy is only guaranteed for data whose rows have a 2-norm of at most 3.87298. Got 12.813644\n",
      "Translate and/or scale the data accordingly to ensure differential privacy is achieved.\n",
      "  % (self.data_norm, max_norm), PrivacyLeakWarning)\n",
      "/home/niloofar/python-environments/py36/lib/python3.6/site-packages/diffprivlib/models/logistic_regression.py:225: PrivacyLeakWarning: Differential privacy is only guaranteed for data whose rows have a 2-norm of at most 3.87298. Got 12.813644\n",
      "Translate and/or scale the data accordingly to ensure differential privacy is achieved.\n",
      "  % (self.data_norm, max_norm), PrivacyLeakWarning)\n",
      "/home/niloofar/python-environments/py36/lib/python3.6/site-packages/diffprivlib/models/logistic_regression.py:225: PrivacyLeakWarning: Differential privacy is only guaranteed for data whose rows have a 2-norm of at most 3.87298. Got 12.813644\n",
      "Translate and/or scale the data accordingly to ensure differential privacy is achieved.\n",
      "  % (self.data_norm, max_norm), PrivacyLeakWarning)\n",
      "/home/niloofar/python-environments/py36/lib/python3.6/site-packages/diffprivlib/models/logistic_regression.py:225: PrivacyLeakWarning: Differential privacy is only guaranteed for data whose rows have a 2-norm of at most 3.87298. Got 12.813644\n",
      "Translate and/or scale the data accordingly to ensure differential privacy is achieved.\n",
      "  % (self.data_norm, max_norm), PrivacyLeakWarning)\n",
      "/home/niloofar/python-environments/py36/lib/python3.6/site-packages/diffprivlib/models/logistic_regression.py:225: PrivacyLeakWarning: Differential privacy is only guaranteed for data whose rows have a 2-norm of at most 3.87298. Got 12.813644\n",
      "Translate and/or scale the data accordingly to ensure differential privacy is achieved.\n",
      "  % (self.data_norm, max_norm), PrivacyLeakWarning)\n",
      "/home/niloofar/python-environments/py36/lib/python3.6/site-packages/diffprivlib/models/logistic_regression.py:225: PrivacyLeakWarning: Differential privacy is only guaranteed for data whose rows have a 2-norm of at most 3.87298. Got 12.813644\n",
      "Translate and/or scale the data accordingly to ensure differential privacy is achieved.\n",
      "  % (self.data_norm, max_norm), PrivacyLeakWarning)\n",
      "/home/niloofar/python-environments/py36/lib/python3.6/site-packages/diffprivlib/models/logistic_regression.py:225: PrivacyLeakWarning: Differential privacy is only guaranteed for data whose rows have a 2-norm of at most 3.87298. Got 12.813644\n",
      "Translate and/or scale the data accordingly to ensure differential privacy is achieved.\n",
      "  % (self.data_norm, max_norm), PrivacyLeakWarning)\n",
      "/home/niloofar/python-environments/py36/lib/python3.6/site-packages/diffprivlib/models/logistic_regression.py:225: PrivacyLeakWarning: Differential privacy is only guaranteed for data whose rows have a 2-norm of at most 3.87298. Got 12.813644\n",
      "Translate and/or scale the data accordingly to ensure differential privacy is achieved.\n",
      "  % (self.data_norm, max_norm), PrivacyLeakWarning)\n",
      "/home/niloofar/python-environments/py36/lib/python3.6/site-packages/diffprivlib/models/logistic_regression.py:225: PrivacyLeakWarning: Differential privacy is only guaranteed for data whose rows have a 2-norm of at most 3.87298. Got 12.813644\n",
      "Translate and/or scale the data accordingly to ensure differential privacy is achieved.\n",
      "  % (self.data_norm, max_norm), PrivacyLeakWarning)\n",
      "/home/niloofar/python-environments/py36/lib/python3.6/site-packages/diffprivlib/models/logistic_regression.py:225: PrivacyLeakWarning: Differential privacy is only guaranteed for data whose rows have a 2-norm of at most 3.87298. Got 12.813644\n",
      "Translate and/or scale the data accordingly to ensure differential privacy is achieved.\n",
      "  % (self.data_norm, max_norm), PrivacyLeakWarning)\n",
      "/home/niloofar/python-environments/py36/lib/python3.6/site-packages/diffprivlib/models/logistic_regression.py:225: PrivacyLeakWarning: Differential privacy is only guaranteed for data whose rows have a 2-norm of at most 3.87298. Got 12.813644\n",
      "Translate and/or scale the data accordingly to ensure differential privacy is achieved.\n",
      "  % (self.data_norm, max_norm), PrivacyLeakWarning)\n",
      "/home/niloofar/python-environments/py36/lib/python3.6/site-packages/diffprivlib/models/logistic_regression.py:225: PrivacyLeakWarning: Differential privacy is only guaranteed for data whose rows have a 2-norm of at most 3.87298. Got 12.813644\n",
      "Translate and/or scale the data accordingly to ensure differential privacy is achieved.\n",
      "  % (self.data_norm, max_norm), PrivacyLeakWarning)\n",
      "/home/niloofar/python-environments/py36/lib/python3.6/site-packages/diffprivlib/models/logistic_regression.py:225: PrivacyLeakWarning: Differential privacy is only guaranteed for data whose rows have a 2-norm of at most 3.87298. Got 12.813644\n",
      "Translate and/or scale the data accordingly to ensure differential privacy is achieved.\n",
      "  % (self.data_norm, max_norm), PrivacyLeakWarning)\n",
      "/home/niloofar/python-environments/py36/lib/python3.6/site-packages/diffprivlib/models/logistic_regression.py:225: PrivacyLeakWarning: Differential privacy is only guaranteed for data whose rows have a 2-norm of at most 3.87298. Got 12.813644\n",
      "Translate and/or scale the data accordingly to ensure differential privacy is achieved.\n",
      "  % (self.data_norm, max_norm), PrivacyLeakWarning)\n",
      "/home/niloofar/python-environments/py36/lib/python3.6/site-packages/diffprivlib/models/logistic_regression.py:225: PrivacyLeakWarning: Differential privacy is only guaranteed for data whose rows have a 2-norm of at most 3.87298. Got 12.813644\n",
      "Translate and/or scale the data accordingly to ensure differential privacy is achieved.\n",
      "  % (self.data_norm, max_norm), PrivacyLeakWarning)\n",
      "/home/niloofar/python-environments/py36/lib/python3.6/site-packages/diffprivlib/models/logistic_regression.py:225: PrivacyLeakWarning: Differential privacy is only guaranteed for data whose rows have a 2-norm of at most 3.87298. Got 12.813644\n",
      "Translate and/or scale the data accordingly to ensure differential privacy is achieved.\n",
      "  % (self.data_norm, max_norm), PrivacyLeakWarning)\n",
      "/home/niloofar/python-environments/py36/lib/python3.6/site-packages/diffprivlib/models/logistic_regression.py:225: PrivacyLeakWarning: Differential privacy is only guaranteed for data whose rows have a 2-norm of at most 3.87298. Got 12.813644\n",
      "Translate and/or scale the data accordingly to ensure differential privacy is achieved.\n",
      "  % (self.data_norm, max_norm), PrivacyLeakWarning)\n",
      "/home/niloofar/python-environments/py36/lib/python3.6/site-packages/diffprivlib/models/logistic_regression.py:225: PrivacyLeakWarning: Differential privacy is only guaranteed for data whose rows have a 2-norm of at most 3.87298. Got 12.813644\n",
      "Translate and/or scale the data accordingly to ensure differential privacy is achieved.\n",
      "  % (self.data_norm, max_norm), PrivacyLeakWarning)\n",
      "/home/niloofar/python-environments/py36/lib/python3.6/site-packages/diffprivlib/models/logistic_regression.py:225: PrivacyLeakWarning: Differential privacy is only guaranteed for data whose rows have a 2-norm of at most 3.87298. Got 12.813644\n",
      "Translate and/or scale the data accordingly to ensure differential privacy is achieved.\n",
      "  % (self.data_norm, max_norm), PrivacyLeakWarning)\n",
      "/home/niloofar/python-environments/py36/lib/python3.6/site-packages/diffprivlib/models/logistic_regression.py:225: PrivacyLeakWarning: Differential privacy is only guaranteed for data whose rows have a 2-norm of at most 3.87298. Got 12.813644\n",
      "Translate and/or scale the data accordingly to ensure differential privacy is achieved.\n",
      "  % (self.data_norm, max_norm), PrivacyLeakWarning)\n"
     ]
    },
    {
     "name": "stdout",
     "output_type": "stream",
     "text": [
      "Accuracy of non-private classifier on WOMEN in validation set: 67.49019607843134\n",
      "Accuracy of non-private classifier on MEN in validation set: 69.5091683038638\n",
      "Accuracy of private logistic regression (on validation set): 69.4598306979716%\n"
     ]
    },
    {
     "name": "stderr",
     "output_type": "stream",
     "text": [
      "/home/niloofar/python-environments/py36/lib/python3.6/site-packages/diffprivlib/models/logistic_regression.py:225: PrivacyLeakWarning: Differential privacy is only guaranteed for data whose rows have a 2-norm of at most 3.87298. Got 12.813644\n",
      "Translate and/or scale the data accordingly to ensure differential privacy is achieved.\n",
      "  % (self.data_norm, max_norm), PrivacyLeakWarning)\n"
     ]
    }
   ],
   "source": [
    "acc = 0\n",
    "f_acc = 0\n",
    "m_acc = 0\n",
    "for i in range(50):\n",
    "    \n",
    "    modelDP = DPLogisticRegression(epsilon= 0.05, max_iter=1000, tol=1e-5,  data_norm=np.sqrt(d+1))\n",
    "    modelDP.fit(X_train, y_train)\n",
    "    y_predDP = modelDP.predict(X_test)\n",
    "    acc += np.mean((y_predDP ==y_test).astype(float))*100\n",
    "    \n",
    "    temp1 = genders == 0\n",
    "    temp2 = y_predDP==y_test_np\n",
    "    f_acc += np.sum((temp1 * temp2).astype(float))*100/np.sum(temp1)\n",
    "    temp1 = genders == 1\n",
    "    m_acc += np.sum((temp1 * temp2).astype(float))*100/np.sum(temp1)\n",
    "print('Accuracy of non-private classifier on WOMEN in validation set:', f_acc/50)\n",
    "print('Accuracy of non-private classifier on MEN in validation set:', m_acc/50)\n",
    "print('Accuracy of private logistic regression (on validation set): {}%'.format(acc/50))"
   ]
  },
  {
   "cell_type": "code",
   "execution_count": 62,
   "metadata": {},
   "outputs": [
    {
     "name": "stdout",
     "output_type": "stream",
     "text": [
      "Difference in demographic parity for NON-Private classifier is -0.18052184855605632\n",
      "Difference in demographic parity for DP (Private) classifier is -0.34462999345121154\n"
     ]
    }
   ],
   "source": [
    "f_1 = np.sum((y_pred== 1)[f_valid_indices].astype(float))\n",
    "f_all = len(f_valid_indices)\n",
    "\n",
    "m_1 = np.sum((y_pred== 1)[m_valid_indices].astype(float))\n",
    "m_all = len(m_valid_indices)\n",
    "\n",
    "print('Difference in demographic parity for NON-Private classifier is', (f_1/f_all - m_1/m_all))\n",
    "\n",
    "f_1_DP = np.sum((y_predDP== 1)[f_valid_indices].astype(float))\n",
    "f_all = len(f_valid_indices)\n",
    "\n",
    "m_1_DP = np.sum((y_predDP== 1)[m_valid_indices].astype(float))\n",
    "m_all = len(m_valid_indices)\n",
    "\n",
    "print('Difference in demographic parity for DP (Private) classifier is', (f_1_DP/f_all - m_1_DP/m_all))"
   ]
  },
  {
   "cell_type": "code",
   "execution_count": 63,
   "metadata": {},
   "outputs": [
    {
     "name": "stdout",
     "output_type": "stream",
     "text": [
      "153\n",
      "6108\n"
     ]
    }
   ],
   "source": [
    "print(len(f_valid_indices))\n",
    "print(len(m_valid_indices))"
   ]
  },
  {
   "cell_type": "code",
   "execution_count": 64,
   "metadata": {},
   "outputs": [
    {
     "name": "stdout",
     "output_type": "stream",
     "text": [
      "1.0 17.0 1041.0 1896.0\n",
      "Difference in Equal opportunity for NON-Private classifier is -0.4902271034996277\n"
     ]
    }
   ],
   "source": [
    "temp1 = (y_pred == 1)\n",
    "temp2 = (y_test_np == 1)\n",
    "f_1_real1 = np.sum((temp1&temp2)[f_valid_indices].astype(float))\n",
    "f_real1 = np.sum((y_test_np==1)[f_valid_indices].astype(float))\n",
    "\n",
    "m_1_real1 = np.sum((temp1&temp2)[m_valid_indices].astype(float))\n",
    "m_real1 = np.sum((y_test_np==1)[m_valid_indices].astype(float))\n",
    "\n",
    "print(f_1_real1, f_real1, m_1_real1, m_real1)\n",
    "\n",
    "print('Difference in Equal opportunity for NON-Private classifier is', (f_1_real1/f_real1 - m_1_real1/m_real1))"
   ]
  },
  {
   "cell_type": "code",
   "execution_count": 65,
   "metadata": {},
   "outputs": [
    {
     "name": "stdout",
     "output_type": "stream",
     "text": [
      "0.0 17.0 1105.0 1896.0\n",
      "Difference in Equal opportunity for Private classifier is -0.5828059071729957\n"
     ]
    }
   ],
   "source": [
    "temp1 = (y_predDP == 1)\n",
    "temp2 = (y_test_np == 1)\n",
    "f_1_real1 = np.sum((temp1&temp2)[f_valid_indices].astype(float))\n",
    "f_real1 = np.sum((y_test_np==1)[f_valid_indices].astype(float))\n",
    "\n",
    "m_1_real1 = np.sum((temp1&temp2)[m_valid_indices].astype(float))\n",
    "m_real1 = np.sum((y_test_np==1)[m_valid_indices].astype(float))\n",
    "\n",
    "print(f_1_real1, f_real1, m_1_real1, m_real1)\n",
    "\n",
    "print('Difference in Equal opportunity for Private classifier is', (f_1_real1/f_real1 - m_1_real1/m_real1))"
   ]
  },
  {
   "cell_type": "code",
   "execution_count": null,
   "metadata": {},
   "outputs": [],
   "source": []
  },
  {
   "cell_type": "code",
   "execution_count": null,
   "metadata": {},
   "outputs": [],
   "source": []
  }
 ],
 "metadata": {
  "kernelspec": {
   "display_name": "Python 3",
   "language": "python",
   "name": "python3"
  }
 },
 "nbformat": 4,
 "nbformat_minor": 4
}
