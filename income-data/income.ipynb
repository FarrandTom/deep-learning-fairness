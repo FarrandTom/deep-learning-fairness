{
 "cells": [
  {
   "cell_type": "code",
   "execution_count": 2,
   "metadata": {},
   "outputs": [],
   "source": [
    "#https://www.kaggle.com/chaman7/census-income-prediction\n",
    "import numpy as np\n",
    "import pandas as pd\n",
    "import matplotlib.pyplot as plt\n",
    "import seaborn as sns\n"
   ]
  },
  {
   "cell_type": "markdown",
   "metadata": {},
   "source": [
    "# load data"
   ]
  },
  {
   "cell_type": "code",
   "execution_count": 3,
   "metadata": {},
   "outputs": [],
   "source": [
    "df = pd.read_csv('/home/niloofar/adult.csv')"
   ]
  },
  {
   "cell_type": "code",
   "execution_count": 4,
   "metadata": {},
   "outputs": [
    {
     "data": {
      "text/html": [
       "<div>\n",
       "<style scoped>\n",
       "    .dataframe tbody tr th:only-of-type {\n",
       "        vertical-align: middle;\n",
       "    }\n",
       "\n",
       "    .dataframe tbody tr th {\n",
       "        vertical-align: top;\n",
       "    }\n",
       "\n",
       "    .dataframe thead th {\n",
       "        text-align: right;\n",
       "    }\n",
       "</style>\n",
       "<table border=\"1\" class=\"dataframe\">\n",
       "  <thead>\n",
       "    <tr style=\"text-align: right;\">\n",
       "      <th></th>\n",
       "      <th>age</th>\n",
       "      <th>workclass</th>\n",
       "      <th>fnlwgt</th>\n",
       "      <th>education</th>\n",
       "      <th>education.num</th>\n",
       "      <th>marital.status</th>\n",
       "      <th>occupation</th>\n",
       "      <th>relationship</th>\n",
       "      <th>race</th>\n",
       "      <th>sex</th>\n",
       "      <th>capital.gain</th>\n",
       "      <th>capital.loss</th>\n",
       "      <th>hours.per.week</th>\n",
       "      <th>native.country</th>\n",
       "      <th>income</th>\n",
       "    </tr>\n",
       "  </thead>\n",
       "  <tbody>\n",
       "    <tr>\n",
       "      <th>0</th>\n",
       "      <td>90</td>\n",
       "      <td>?</td>\n",
       "      <td>77053</td>\n",
       "      <td>HS-grad</td>\n",
       "      <td>9</td>\n",
       "      <td>Widowed</td>\n",
       "      <td>?</td>\n",
       "      <td>Not-in-family</td>\n",
       "      <td>White</td>\n",
       "      <td>Female</td>\n",
       "      <td>0</td>\n",
       "      <td>4356</td>\n",
       "      <td>40</td>\n",
       "      <td>United-States</td>\n",
       "      <td>&lt;=50K</td>\n",
       "    </tr>\n",
       "    <tr>\n",
       "      <th>1</th>\n",
       "      <td>82</td>\n",
       "      <td>Private</td>\n",
       "      <td>132870</td>\n",
       "      <td>HS-grad</td>\n",
       "      <td>9</td>\n",
       "      <td>Widowed</td>\n",
       "      <td>Exec-managerial</td>\n",
       "      <td>Not-in-family</td>\n",
       "      <td>White</td>\n",
       "      <td>Female</td>\n",
       "      <td>0</td>\n",
       "      <td>4356</td>\n",
       "      <td>18</td>\n",
       "      <td>United-States</td>\n",
       "      <td>&lt;=50K</td>\n",
       "    </tr>\n",
       "    <tr>\n",
       "      <th>2</th>\n",
       "      <td>66</td>\n",
       "      <td>?</td>\n",
       "      <td>186061</td>\n",
       "      <td>Some-college</td>\n",
       "      <td>10</td>\n",
       "      <td>Widowed</td>\n",
       "      <td>?</td>\n",
       "      <td>Unmarried</td>\n",
       "      <td>Black</td>\n",
       "      <td>Female</td>\n",
       "      <td>0</td>\n",
       "      <td>4356</td>\n",
       "      <td>40</td>\n",
       "      <td>United-States</td>\n",
       "      <td>&lt;=50K</td>\n",
       "    </tr>\n",
       "    <tr>\n",
       "      <th>3</th>\n",
       "      <td>54</td>\n",
       "      <td>Private</td>\n",
       "      <td>140359</td>\n",
       "      <td>7th-8th</td>\n",
       "      <td>4</td>\n",
       "      <td>Divorced</td>\n",
       "      <td>Machine-op-inspct</td>\n",
       "      <td>Unmarried</td>\n",
       "      <td>White</td>\n",
       "      <td>Female</td>\n",
       "      <td>0</td>\n",
       "      <td>3900</td>\n",
       "      <td>40</td>\n",
       "      <td>United-States</td>\n",
       "      <td>&lt;=50K</td>\n",
       "    </tr>\n",
       "    <tr>\n",
       "      <th>4</th>\n",
       "      <td>41</td>\n",
       "      <td>Private</td>\n",
       "      <td>264663</td>\n",
       "      <td>Some-college</td>\n",
       "      <td>10</td>\n",
       "      <td>Separated</td>\n",
       "      <td>Prof-specialty</td>\n",
       "      <td>Own-child</td>\n",
       "      <td>White</td>\n",
       "      <td>Female</td>\n",
       "      <td>0</td>\n",
       "      <td>3900</td>\n",
       "      <td>40</td>\n",
       "      <td>United-States</td>\n",
       "      <td>&lt;=50K</td>\n",
       "    </tr>\n",
       "  </tbody>\n",
       "</table>\n",
       "</div>"
      ],
      "text/plain": [
       "   age workclass  fnlwgt     education  education.num marital.status  \\\n",
       "0   90         ?   77053       HS-grad              9        Widowed   \n",
       "1   82   Private  132870       HS-grad              9        Widowed   \n",
       "2   66         ?  186061  Some-college             10        Widowed   \n",
       "3   54   Private  140359       7th-8th              4       Divorced   \n",
       "4   41   Private  264663  Some-college             10      Separated   \n",
       "\n",
       "          occupation   relationship   race     sex  capital.gain  \\\n",
       "0                  ?  Not-in-family  White  Female             0   \n",
       "1    Exec-managerial  Not-in-family  White  Female             0   \n",
       "2                  ?      Unmarried  Black  Female             0   \n",
       "3  Machine-op-inspct      Unmarried  White  Female             0   \n",
       "4     Prof-specialty      Own-child  White  Female             0   \n",
       "\n",
       "   capital.loss  hours.per.week native.country income  \n",
       "0          4356              40  United-States  <=50K  \n",
       "1          4356              18  United-States  <=50K  \n",
       "2          4356              40  United-States  <=50K  \n",
       "3          3900              40  United-States  <=50K  \n",
       "4          3900              40  United-States  <=50K  "
      ]
     },
     "execution_count": 4,
     "metadata": {},
     "output_type": "execute_result"
    }
   ],
   "source": [
    "df.head()"
   ]
  },
  {
   "cell_type": "code",
   "execution_count": 5,
   "metadata": {},
   "outputs": [
    {
     "data": {
      "text/plain": [
       "(32561, 15)"
      ]
     },
     "execution_count": 5,
     "metadata": {},
     "output_type": "execute_result"
    }
   ],
   "source": [
    "df.columns\n",
    "df.shape"
   ]
  },
  {
   "cell_type": "code",
   "execution_count": 6,
   "metadata": {},
   "outputs": [
    {
     "data": {
      "text/plain": [
       "Index(['age', 'workclass', 'fnlwgt', 'education', 'education.num',\n",
       "       'marital.status', 'occupation', 'relationship', 'race', 'sex',\n",
       "       'capital.gain', 'capital.loss', 'hours.per.week', 'native.country',\n",
       "       'income'],\n",
       "      dtype='object')"
      ]
     },
     "execution_count": 6,
     "metadata": {},
     "output_type": "execute_result"
    }
   ],
   "source": [
    "df.columns"
   ]
  },
  {
   "cell_type": "code",
   "execution_count": 7,
   "metadata": {},
   "outputs": [
    {
     "data": {
      "text/plain": [
       "age                  0\n",
       "workclass         1836\n",
       "fnlwgt               0\n",
       "education            0\n",
       "education.num        0\n",
       "marital.status       0\n",
       "occupation        1843\n",
       "relationship         0\n",
       "race                 0\n",
       "sex                  0\n",
       "capital.gain         0\n",
       "capital.loss         0\n",
       "hours.per.week       0\n",
       "native.country     583\n",
       "income               0\n",
       "dtype: int64"
      ]
     },
     "execution_count": 7,
     "metadata": {},
     "output_type": "execute_result"
    }
   ],
   "source": [
    "df.isin(['?']).sum()"
   ]
  },
  {
   "cell_type": "code",
   "execution_count": 8,
   "metadata": {},
   "outputs": [
    {
     "data": {
      "text/html": [
       "<div>\n",
       "<style scoped>\n",
       "    .dataframe tbody tr th:only-of-type {\n",
       "        vertical-align: middle;\n",
       "    }\n",
       "\n",
       "    .dataframe tbody tr th {\n",
       "        vertical-align: top;\n",
       "    }\n",
       "\n",
       "    .dataframe thead th {\n",
       "        text-align: right;\n",
       "    }\n",
       "</style>\n",
       "<table border=\"1\" class=\"dataframe\">\n",
       "  <thead>\n",
       "    <tr style=\"text-align: right;\">\n",
       "      <th></th>\n",
       "      <th>age</th>\n",
       "      <th>workclass</th>\n",
       "      <th>fnlwgt</th>\n",
       "      <th>education</th>\n",
       "      <th>education.num</th>\n",
       "      <th>marital.status</th>\n",
       "      <th>occupation</th>\n",
       "      <th>relationship</th>\n",
       "      <th>race</th>\n",
       "      <th>sex</th>\n",
       "      <th>capital.gain</th>\n",
       "      <th>capital.loss</th>\n",
       "      <th>hours.per.week</th>\n",
       "      <th>native.country</th>\n",
       "      <th>income</th>\n",
       "    </tr>\n",
       "  </thead>\n",
       "  <tbody>\n",
       "    <tr>\n",
       "      <th>0</th>\n",
       "      <td>90</td>\n",
       "      <td>NaN</td>\n",
       "      <td>77053</td>\n",
       "      <td>HS-grad</td>\n",
       "      <td>9</td>\n",
       "      <td>Widowed</td>\n",
       "      <td>NaN</td>\n",
       "      <td>Not-in-family</td>\n",
       "      <td>White</td>\n",
       "      <td>Female</td>\n",
       "      <td>0</td>\n",
       "      <td>4356</td>\n",
       "      <td>40</td>\n",
       "      <td>United-States</td>\n",
       "      <td>&lt;=50K</td>\n",
       "    </tr>\n",
       "    <tr>\n",
       "      <th>1</th>\n",
       "      <td>82</td>\n",
       "      <td>Private</td>\n",
       "      <td>132870</td>\n",
       "      <td>HS-grad</td>\n",
       "      <td>9</td>\n",
       "      <td>Widowed</td>\n",
       "      <td>Exec-managerial</td>\n",
       "      <td>Not-in-family</td>\n",
       "      <td>White</td>\n",
       "      <td>Female</td>\n",
       "      <td>0</td>\n",
       "      <td>4356</td>\n",
       "      <td>18</td>\n",
       "      <td>United-States</td>\n",
       "      <td>&lt;=50K</td>\n",
       "    </tr>\n",
       "    <tr>\n",
       "      <th>2</th>\n",
       "      <td>66</td>\n",
       "      <td>NaN</td>\n",
       "      <td>186061</td>\n",
       "      <td>Some-college</td>\n",
       "      <td>10</td>\n",
       "      <td>Widowed</td>\n",
       "      <td>NaN</td>\n",
       "      <td>Unmarried</td>\n",
       "      <td>Black</td>\n",
       "      <td>Female</td>\n",
       "      <td>0</td>\n",
       "      <td>4356</td>\n",
       "      <td>40</td>\n",
       "      <td>United-States</td>\n",
       "      <td>&lt;=50K</td>\n",
       "    </tr>\n",
       "    <tr>\n",
       "      <th>3</th>\n",
       "      <td>54</td>\n",
       "      <td>Private</td>\n",
       "      <td>140359</td>\n",
       "      <td>7th-8th</td>\n",
       "      <td>4</td>\n",
       "      <td>Divorced</td>\n",
       "      <td>Machine-op-inspct</td>\n",
       "      <td>Unmarried</td>\n",
       "      <td>White</td>\n",
       "      <td>Female</td>\n",
       "      <td>0</td>\n",
       "      <td>3900</td>\n",
       "      <td>40</td>\n",
       "      <td>United-States</td>\n",
       "      <td>&lt;=50K</td>\n",
       "    </tr>\n",
       "    <tr>\n",
       "      <th>4</th>\n",
       "      <td>41</td>\n",
       "      <td>Private</td>\n",
       "      <td>264663</td>\n",
       "      <td>Some-college</td>\n",
       "      <td>10</td>\n",
       "      <td>Separated</td>\n",
       "      <td>Prof-specialty</td>\n",
       "      <td>Own-child</td>\n",
       "      <td>White</td>\n",
       "      <td>Female</td>\n",
       "      <td>0</td>\n",
       "      <td>3900</td>\n",
       "      <td>40</td>\n",
       "      <td>United-States</td>\n",
       "      <td>&lt;=50K</td>\n",
       "    </tr>\n",
       "  </tbody>\n",
       "</table>\n",
       "</div>"
      ],
      "text/plain": [
       "   age workclass  fnlwgt     education  education.num marital.status  \\\n",
       "0   90       NaN   77053       HS-grad              9        Widowed   \n",
       "1   82   Private  132870       HS-grad              9        Widowed   \n",
       "2   66       NaN  186061  Some-college             10        Widowed   \n",
       "3   54   Private  140359       7th-8th              4       Divorced   \n",
       "4   41   Private  264663  Some-college             10      Separated   \n",
       "\n",
       "          occupation   relationship   race     sex  capital.gain  \\\n",
       "0                NaN  Not-in-family  White  Female             0   \n",
       "1    Exec-managerial  Not-in-family  White  Female             0   \n",
       "2                NaN      Unmarried  Black  Female             0   \n",
       "3  Machine-op-inspct      Unmarried  White  Female             0   \n",
       "4     Prof-specialty      Own-child  White  Female             0   \n",
       "\n",
       "   capital.loss  hours.per.week native.country income  \n",
       "0          4356              40  United-States  <=50K  \n",
       "1          4356              18  United-States  <=50K  \n",
       "2          4356              40  United-States  <=50K  \n",
       "3          3900              40  United-States  <=50K  \n",
       "4          3900              40  United-States  <=50K  "
      ]
     },
     "execution_count": 8,
     "metadata": {},
     "output_type": "execute_result"
    }
   ],
   "source": [
    "df = df.replace('?', np.NaN)\n",
    "df.head()"
   ]
  },
  {
   "cell_type": "code",
   "execution_count": 9,
   "metadata": {},
   "outputs": [
    {
     "data": {
      "text/html": [
       "<div>\n",
       "<style scoped>\n",
       "    .dataframe tbody tr th:only-of-type {\n",
       "        vertical-align: middle;\n",
       "    }\n",
       "\n",
       "    .dataframe tbody tr th {\n",
       "        vertical-align: top;\n",
       "    }\n",
       "\n",
       "    .dataframe thead th {\n",
       "        text-align: right;\n",
       "    }\n",
       "</style>\n",
       "<table border=\"1\" class=\"dataframe\">\n",
       "  <thead>\n",
       "    <tr style=\"text-align: right;\">\n",
       "      <th></th>\n",
       "      <th>age</th>\n",
       "      <th>workclass</th>\n",
       "      <th>fnlwgt</th>\n",
       "      <th>education</th>\n",
       "      <th>education.num</th>\n",
       "      <th>marital.status</th>\n",
       "      <th>occupation</th>\n",
       "      <th>relationship</th>\n",
       "      <th>race</th>\n",
       "      <th>sex</th>\n",
       "      <th>capital.gain</th>\n",
       "      <th>capital.loss</th>\n",
       "      <th>hours.per.week</th>\n",
       "      <th>native.country</th>\n",
       "      <th>income</th>\n",
       "    </tr>\n",
       "  </thead>\n",
       "  <tbody>\n",
       "    <tr>\n",
       "      <th>1</th>\n",
       "      <td>82</td>\n",
       "      <td>Private</td>\n",
       "      <td>132870</td>\n",
       "      <td>HS-grad</td>\n",
       "      <td>9</td>\n",
       "      <td>Widowed</td>\n",
       "      <td>Exec-managerial</td>\n",
       "      <td>Not-in-family</td>\n",
       "      <td>White</td>\n",
       "      <td>Female</td>\n",
       "      <td>0</td>\n",
       "      <td>4356</td>\n",
       "      <td>18</td>\n",
       "      <td>United-States</td>\n",
       "      <td>&lt;=50K</td>\n",
       "    </tr>\n",
       "    <tr>\n",
       "      <th>3</th>\n",
       "      <td>54</td>\n",
       "      <td>Private</td>\n",
       "      <td>140359</td>\n",
       "      <td>7th-8th</td>\n",
       "      <td>4</td>\n",
       "      <td>Divorced</td>\n",
       "      <td>Machine-op-inspct</td>\n",
       "      <td>Unmarried</td>\n",
       "      <td>White</td>\n",
       "      <td>Female</td>\n",
       "      <td>0</td>\n",
       "      <td>3900</td>\n",
       "      <td>40</td>\n",
       "      <td>United-States</td>\n",
       "      <td>&lt;=50K</td>\n",
       "    </tr>\n",
       "    <tr>\n",
       "      <th>4</th>\n",
       "      <td>41</td>\n",
       "      <td>Private</td>\n",
       "      <td>264663</td>\n",
       "      <td>Some-college</td>\n",
       "      <td>10</td>\n",
       "      <td>Separated</td>\n",
       "      <td>Prof-specialty</td>\n",
       "      <td>Own-child</td>\n",
       "      <td>White</td>\n",
       "      <td>Female</td>\n",
       "      <td>0</td>\n",
       "      <td>3900</td>\n",
       "      <td>40</td>\n",
       "      <td>United-States</td>\n",
       "      <td>&lt;=50K</td>\n",
       "    </tr>\n",
       "    <tr>\n",
       "      <th>5</th>\n",
       "      <td>34</td>\n",
       "      <td>Private</td>\n",
       "      <td>216864</td>\n",
       "      <td>HS-grad</td>\n",
       "      <td>9</td>\n",
       "      <td>Divorced</td>\n",
       "      <td>Other-service</td>\n",
       "      <td>Unmarried</td>\n",
       "      <td>White</td>\n",
       "      <td>Female</td>\n",
       "      <td>0</td>\n",
       "      <td>3770</td>\n",
       "      <td>45</td>\n",
       "      <td>United-States</td>\n",
       "      <td>&lt;=50K</td>\n",
       "    </tr>\n",
       "    <tr>\n",
       "      <th>6</th>\n",
       "      <td>38</td>\n",
       "      <td>Private</td>\n",
       "      <td>150601</td>\n",
       "      <td>10th</td>\n",
       "      <td>6</td>\n",
       "      <td>Separated</td>\n",
       "      <td>Adm-clerical</td>\n",
       "      <td>Unmarried</td>\n",
       "      <td>White</td>\n",
       "      <td>Male</td>\n",
       "      <td>0</td>\n",
       "      <td>3770</td>\n",
       "      <td>40</td>\n",
       "      <td>United-States</td>\n",
       "      <td>&lt;=50K</td>\n",
       "    </tr>\n",
       "  </tbody>\n",
       "</table>\n",
       "</div>"
      ],
      "text/plain": [
       "   age workclass  fnlwgt     education  education.num marital.status  \\\n",
       "1   82   Private  132870       HS-grad              9        Widowed   \n",
       "3   54   Private  140359       7th-8th              4       Divorced   \n",
       "4   41   Private  264663  Some-college             10      Separated   \n",
       "5   34   Private  216864       HS-grad              9       Divorced   \n",
       "6   38   Private  150601          10th              6      Separated   \n",
       "\n",
       "          occupation   relationship   race     sex  capital.gain  \\\n",
       "1    Exec-managerial  Not-in-family  White  Female             0   \n",
       "3  Machine-op-inspct      Unmarried  White  Female             0   \n",
       "4     Prof-specialty      Own-child  White  Female             0   \n",
       "5      Other-service      Unmarried  White  Female             0   \n",
       "6       Adm-clerical      Unmarried  White    Male             0   \n",
       "\n",
       "   capital.loss  hours.per.week native.country income  \n",
       "1          4356              18  United-States  <=50K  \n",
       "3          3900              40  United-States  <=50K  \n",
       "4          3900              40  United-States  <=50K  \n",
       "5          3770              45  United-States  <=50K  \n",
       "6          3770              40  United-States  <=50K  "
      ]
     },
     "execution_count": 9,
     "metadata": {},
     "output_type": "execute_result"
    }
   ],
   "source": [
    "df = df.dropna()\n",
    "df.head()"
   ]
  },
  {
   "cell_type": "code",
   "execution_count": 10,
   "metadata": {},
   "outputs": [
    {
     "data": {
      "text/plain": [
       "(30162, 15)"
      ]
     },
     "execution_count": 10,
     "metadata": {},
     "output_type": "execute_result"
    }
   ],
   "source": [
    "df.shape"
   ]
  },
  {
   "cell_type": "code",
   "execution_count": 11,
   "metadata": {},
   "outputs": [
    {
     "data": {
      "text/plain": [
       "<=50K    22654\n",
       ">50K      7508\n",
       "Name: income, dtype: int64"
      ]
     },
     "execution_count": 11,
     "metadata": {},
     "output_type": "execute_result"
    }
   ],
   "source": [
    "df['income'].value_counts()"
   ]
  },
  {
   "cell_type": "code",
   "execution_count": 12,
   "metadata": {},
   "outputs": [
    {
     "data": {
      "text/plain": [
       "Male      20380\n",
       "Female     9782\n",
       "Name: sex, dtype: int64"
      ]
     },
     "execution_count": 12,
     "metadata": {},
     "output_type": "execute_result"
    }
   ],
   "source": [
    "df['sex'].value_counts()"
   ]
  },
  {
   "cell_type": "code",
   "execution_count": 13,
   "metadata": {},
   "outputs": [
    {
     "data": {
      "text/plain": [
       "<matplotlib.axes._subplots.AxesSubplot at 0x7fdb8c9bf4a8>"
      ]
     },
     "execution_count": 13,
     "metadata": {},
     "output_type": "execute_result"
    },
    {
     "data": {
      "image/png": "[encoded data removed]",
      "text/plain": [
       "<Figure size 432x288 with 1 Axes>"
      ]
     },
     "metadata": {
      "needs_background": "light"
     },
     "output_type": "display_data"
    }
   ],
   "source": [
    "sns.countplot(df['sex'],hue=df['income'])"
   ]
  },
  {
   "cell_type": "code",
   "execution_count": 14,
   "metadata": {},
   "outputs": [
    {
     "data": {
      "text/plain": [
       "(array([ 0,  1,  2,  3,  4,  5,  6,  7,  8,  9, 10, 11, 12, 13]),\n",
       " <a list of 14 Text major ticklabel objects>)"
      ]
     },
     "execution_count": 14,
     "metadata": {},
     "output_type": "execute_result"
    },
    {
     "data": {
      "image/png": "[encoded data removed]",
      "text/plain": [
       "<Figure size 432x288 with 1 Axes>"
      ]
     },
     "metadata": {
      "needs_background": "light"
     },
     "output_type": "display_data"
    }
   ],
   "source": [
    "sns.countplot(df['occupation'],hue=df['income'])\n",
    "plt.xticks(rotation=90)"
   ]
  },
  {
   "cell_type": "code",
   "execution_count": 15,
   "metadata": {},
   "outputs": [],
   "source": [
    "df['income']=df['income'].map({'<=50K': 0, '>50K': 1})"
   ]
  },
  {
   "cell_type": "code",
   "execution_count": 16,
   "metadata": {},
   "outputs": [
    {
     "data": {
      "text/plain": [
       "<matplotlib.axes._subplots.AxesSubplot at 0x7fdb8ca097f0>"
      ]
     },
     "execution_count": 16,
     "metadata": {},
     "output_type": "execute_result"
    },
    {
     "data": {
      "image/png": "[encoded data removed]",
      "text/plain": [
       "<Figure size 432x288 with 1 Axes>"
      ]
     },
     "metadata": {
      "needs_background": "light"
     },
     "output_type": "display_data"
    }
   ],
   "source": [
    "sns.barplot(x=\"education.num\",y=\"income\",data=df)"
   ]
  },
  {
   "cell_type": "code",
   "execution_count": 17,
   "metadata": {},
   "outputs": [
    {
     "data": {
      "text/plain": [
       "(array([ 0,  1,  2,  3,  4,  5,  6,  7,  8,  9, 10, 11, 12, 13, 14, 15]),\n",
       " <a list of 16 Text major ticklabel objects>)"
      ]
     },
     "execution_count": 17,
     "metadata": {},
     "output_type": "execute_result"
    },
    {
     "data": {
      "image/png": "[encoded data removed]",
      "text/plain": [
       "<Figure size 432x288 with 1 Axes>"
      ]
     },
     "metadata": {
      "needs_background": "light"
     },
     "output_type": "display_data"
    }
   ],
   "source": [
    "sns.barplot(x=\"education\",y=\"income\",data=df)\n",
    "plt.xticks(rotation=90)"
   ]
  },
  {
   "cell_type": "code",
   "execution_count": 18,
   "metadata": {},
   "outputs": [],
   "source": [
    "from sklearn.preprocessing import LabelEncoder\n",
    "le = LabelEncoder()\n",
    "for col in df.columns:\n",
    "    if df[col].dtypes == 'object':\n",
    "        df[col] = le.fit_transform(df[col])\n"
   ]
  },
  {
   "cell_type": "code",
   "execution_count": 19,
   "metadata": {},
   "outputs": [
    {
     "data": {
      "text/html": [
       "<div>\n",
       "<style scoped>\n",
       "    .dataframe tbody tr th:only-of-type {\n",
       "        vertical-align: middle;\n",
       "    }\n",
       "\n",
       "    .dataframe tbody tr th {\n",
       "        vertical-align: top;\n",
       "    }\n",
       "\n",
       "    .dataframe thead th {\n",
       "        text-align: right;\n",
       "    }\n",
       "</style>\n",
       "<table border=\"1\" class=\"dataframe\">\n",
       "  <thead>\n",
       "    <tr style=\"text-align: right;\">\n",
       "      <th></th>\n",
       "      <th>age</th>\n",
       "      <th>workclass</th>\n",
       "      <th>fnlwgt</th>\n",
       "      <th>education</th>\n",
       "      <th>education.num</th>\n",
       "      <th>marital.status</th>\n",
       "      <th>occupation</th>\n",
       "      <th>relationship</th>\n",
       "      <th>race</th>\n",
       "      <th>sex</th>\n",
       "      <th>capital.gain</th>\n",
       "      <th>capital.loss</th>\n",
       "      <th>hours.per.week</th>\n",
       "      <th>native.country</th>\n",
       "      <th>income</th>\n",
       "    </tr>\n",
       "  </thead>\n",
       "  <tbody>\n",
       "    <tr>\n",
       "      <th>1</th>\n",
       "      <td>82</td>\n",
       "      <td>2</td>\n",
       "      <td>132870</td>\n",
       "      <td>11</td>\n",
       "      <td>9</td>\n",
       "      <td>6</td>\n",
       "      <td>3</td>\n",
       "      <td>1</td>\n",
       "      <td>4</td>\n",
       "      <td>0</td>\n",
       "      <td>0</td>\n",
       "      <td>4356</td>\n",
       "      <td>18</td>\n",
       "      <td>38</td>\n",
       "      <td>0</td>\n",
       "    </tr>\n",
       "    <tr>\n",
       "      <th>3</th>\n",
       "      <td>54</td>\n",
       "      <td>2</td>\n",
       "      <td>140359</td>\n",
       "      <td>5</td>\n",
       "      <td>4</td>\n",
       "      <td>0</td>\n",
       "      <td>6</td>\n",
       "      <td>4</td>\n",
       "      <td>4</td>\n",
       "      <td>0</td>\n",
       "      <td>0</td>\n",
       "      <td>3900</td>\n",
       "      <td>40</td>\n",
       "      <td>38</td>\n",
       "      <td>0</td>\n",
       "    </tr>\n",
       "    <tr>\n",
       "      <th>4</th>\n",
       "      <td>41</td>\n",
       "      <td>2</td>\n",
       "      <td>264663</td>\n",
       "      <td>15</td>\n",
       "      <td>10</td>\n",
       "      <td>5</td>\n",
       "      <td>9</td>\n",
       "      <td>3</td>\n",
       "      <td>4</td>\n",
       "      <td>0</td>\n",
       "      <td>0</td>\n",
       "      <td>3900</td>\n",
       "      <td>40</td>\n",
       "      <td>38</td>\n",
       "      <td>0</td>\n",
       "    </tr>\n",
       "    <tr>\n",
       "      <th>5</th>\n",
       "      <td>34</td>\n",
       "      <td>2</td>\n",
       "      <td>216864</td>\n",
       "      <td>11</td>\n",
       "      <td>9</td>\n",
       "      <td>0</td>\n",
       "      <td>7</td>\n",
       "      <td>4</td>\n",
       "      <td>4</td>\n",
       "      <td>0</td>\n",
       "      <td>0</td>\n",
       "      <td>3770</td>\n",
       "      <td>45</td>\n",
       "      <td>38</td>\n",
       "      <td>0</td>\n",
       "    </tr>\n",
       "    <tr>\n",
       "      <th>6</th>\n",
       "      <td>38</td>\n",
       "      <td>2</td>\n",
       "      <td>150601</td>\n",
       "      <td>0</td>\n",
       "      <td>6</td>\n",
       "      <td>5</td>\n",
       "      <td>0</td>\n",
       "      <td>4</td>\n",
       "      <td>4</td>\n",
       "      <td>1</td>\n",
       "      <td>0</td>\n",
       "      <td>3770</td>\n",
       "      <td>40</td>\n",
       "      <td>38</td>\n",
       "      <td>0</td>\n",
       "    </tr>\n",
       "  </tbody>\n",
       "</table>\n",
       "</div>"
      ],
      "text/plain": [
       "   age  workclass  fnlwgt  education  education.num  marital.status  \\\n",
       "1   82          2  132870         11              9               6   \n",
       "3   54          2  140359          5              4               0   \n",
       "4   41          2  264663         15             10               5   \n",
       "5   34          2  216864         11              9               0   \n",
       "6   38          2  150601          0              6               5   \n",
       "\n",
       "   occupation  relationship  race  sex  capital.gain  capital.loss  \\\n",
       "1           3             1     4    0             0          4356   \n",
       "3           6             4     4    0             0          3900   \n",
       "4           9             3     4    0             0          3900   \n",
       "5           7             4     4    0             0          3770   \n",
       "6           0             4     4    1             0          3770   \n",
       "\n",
       "   hours.per.week  native.country  income  \n",
       "1              18              38       0  \n",
       "3              40              38       0  \n",
       "4              40              38       0  \n",
       "5              45              38       0  \n",
       "6              40              38       0  "
      ]
     },
     "execution_count": 19,
     "metadata": {},
     "output_type": "execute_result"
    }
   ],
   "source": [
    "df.head()"
   ]
  },
  {
   "cell_type": "code",
   "execution_count": 20,
   "metadata": {},
   "outputs": [
    {
     "data": {
      "text/plain": [
       "<matplotlib.axes._subplots.AxesSubplot at 0x7fdb88f2cc88>"
      ]
     },
     "execution_count": 20,
     "metadata": {},
     "output_type": "execute_result"
    },
    {
     "data": {
      "image/png": "[encoded data removed]",
      "text/plain": [
       "<Figure size 1440x864 with 2 Axes>"
      ]
     },
     "metadata": {
      "needs_background": "light"
     },
     "output_type": "display_data"
    }
   ],
   "source": [
    "corrmat = df.corr()\n",
    "plt.figure(figsize=(20,12))\n",
    "sns.heatmap(corrmat, annot=True, cmap='coolwarm')"
   ]
  },
  {
   "cell_type": "code",
   "execution_count": 142,
   "metadata": {},
   "outputs": [],
   "source": [
    "X = df.iloc[:,0:-1]\n",
    "y = df.iloc[:,-1]\n",
    "from sklearn.model_selection import train_test_split\n",
    "X_train, X_test, y_train, y_test = train_test_split(X, y, test_size = 0.30, random_state = 42)\n",
    "\n",
    "X_train_np = np.array(X_train)\n",
    "X_test_np = np.array(X_test)\n",
    "y_train_np = np.array(y_train)\n",
    "y_test_np = np.array(y_test)"
   ]
  },
  {
   "cell_type": "code",
   "execution_count": 143,
   "metadata": {},
   "outputs": [],
   "source": [
    "from sklearn.preprocessing import StandardScaler\n",
    "sc = StandardScaler()\n",
    "X_train = pd.DataFrame(sc.fit_transform(X_train))\n",
    "X_test = pd.DataFrame(sc.transform(X_test))"
   ]
  },
  {
   "cell_type": "markdown",
   "metadata": {},
   "source": [
    "# Normal Accuracy"
   ]
  },
  {
   "cell_type": "code",
   "execution_count": 144,
   "metadata": {},
   "outputs": [
    {
     "name": "stdout",
     "output_type": "stream",
     "text": [
      "Logistic Regression: 81.83224665708919\n"
     ]
    }
   ],
   "source": [
    "from sklearn.linear_model import LogisticRegression\n",
    "from sklearn.metrics import accuracy_score\n",
    "model = LogisticRegression()\n",
    "model.fit(X_train, y_train)\n",
    "\n",
    "y_pred = model.predict(X_test)\n",
    "acc = accuracy_score(y_test, y_pred)\n",
    "print('Logistic Regression:', acc * 100)"
   ]
  },
  {
   "cell_type": "code",
   "execution_count": 145,
   "metadata": {},
   "outputs": [
    {
     "name": "stdout",
     "output_type": "stream",
     "text": [
      "(21113, 14)\n",
      "(9049,)\n",
      "(9049,)\n"
     ]
    }
   ],
   "source": [
    "print(X_train.shape)\n",
    "genders = X_test_np[:,9]\n",
    "print(genders.shape)\n",
    "print(y_pred.shape)"
   ]
  },
  {
   "cell_type": "code",
   "execution_count": 146,
   "metadata": {},
   "outputs": [
    {
     "name": "stdout",
     "output_type": "stream",
     "text": [
      "Accuracy of non-private classifier on WOMEN in validation set: 89.48672566371681\n",
      "Accuracy of non-private classifier on MEN in validation set: 78.35796915167096\n"
     ]
    }
   ],
   "source": [
    "temp1 = genders == 0\n",
    "temp2 = y_pred==y_test_np\n",
    "\n",
    "f_acc = np.sum((temp1 * temp2).astype(float))*100/np.sum(temp1)\n",
    "\n",
    "temp1 = genders == 1\n",
    "\n",
    "\n",
    "m_acc = np.sum((temp1 * temp2).astype(float))*100/np.sum(temp1)\n",
    "print('Accuracy of non-private classifier on WOMEN in validation set:', f_acc)\n",
    "print('Accuracy of non-private classifier on MEN in validation set:', m_acc)"
   ]
  },
  {
   "cell_type": "markdown",
   "metadata": {},
   "source": [
    "# DP  Accuracy"
   ]
  },
  {
   "cell_type": "code",
   "execution_count": 147,
   "metadata": {},
   "outputs": [],
   "source": [
    "(n,d) = X_test_np.shape\n",
    "from diffprivlib.models import LogisticRegression as DPLogisticRegression\n",
    "\n"
   ]
  },
  {
   "cell_type": "code",
   "execution_count": 189,
   "metadata": {},
   "outputs": [
    {
     "name": "stderr",
     "output_type": "stream",
     "text": [
      "/home/niloofar/python-environments/py36/lib/python3.6/site-packages/diffprivlib/models/logistic_regression.py:225: PrivacyLeakWarning: Differential privacy is only guaranteed for data whose rows have a 2-norm of at most 3.87298. Got 14.940570\n",
      "Translate and/or scale the data accordingly to ensure differential privacy is achieved.\n",
      "  % (self.data_norm, max_norm), PrivacyLeakWarning)\n",
      "/home/niloofar/python-environments/py36/lib/python3.6/site-packages/diffprivlib/models/logistic_regression.py:225: PrivacyLeakWarning: Differential privacy is only guaranteed for data whose rows have a 2-norm of at most 3.87298. Got 14.940570\n",
      "Translate and/or scale the data accordingly to ensure differential privacy is achieved.\n",
      "  % (self.data_norm, max_norm), PrivacyLeakWarning)\n",
      "/home/niloofar/python-environments/py36/lib/python3.6/site-packages/diffprivlib/models/logistic_regression.py:225: PrivacyLeakWarning: Differential privacy is only guaranteed for data whose rows have a 2-norm of at most 3.87298. Got 14.940570\n",
      "Translate and/or scale the data accordingly to ensure differential privacy is achieved.\n",
      "  % (self.data_norm, max_norm), PrivacyLeakWarning)\n",
      "/home/niloofar/python-environments/py36/lib/python3.6/site-packages/diffprivlib/models/logistic_regression.py:225: PrivacyLeakWarning: Differential privacy is only guaranteed for data whose rows have a 2-norm of at most 3.87298. Got 14.940570\n",
      "Translate and/or scale the data accordingly to ensure differential privacy is achieved.\n",
      "  % (self.data_norm, max_norm), PrivacyLeakWarning)\n",
      "/home/niloofar/python-environments/py36/lib/python3.6/site-packages/diffprivlib/models/logistic_regression.py:225: PrivacyLeakWarning: Differential privacy is only guaranteed for data whose rows have a 2-norm of at most 3.87298. Got 14.940570\n",
      "Translate and/or scale the data accordingly to ensure differential privacy is achieved.\n",
      "  % (self.data_norm, max_norm), PrivacyLeakWarning)\n",
      "/home/niloofar/python-environments/py36/lib/python3.6/site-packages/diffprivlib/models/logistic_regression.py:225: PrivacyLeakWarning: Differential privacy is only guaranteed for data whose rows have a 2-norm of at most 3.87298. Got 14.940570\n",
      "Translate and/or scale the data accordingly to ensure differential privacy is achieved.\n",
      "  % (self.data_norm, max_norm), PrivacyLeakWarning)\n",
      "/home/niloofar/python-environments/py36/lib/python3.6/site-packages/diffprivlib/models/logistic_regression.py:225: PrivacyLeakWarning: Differential privacy is only guaranteed for data whose rows have a 2-norm of at most 3.87298. Got 14.940570\n",
      "Translate and/or scale the data accordingly to ensure differential privacy is achieved.\n",
      "  % (self.data_norm, max_norm), PrivacyLeakWarning)\n",
      "/home/niloofar/python-environments/py36/lib/python3.6/site-packages/diffprivlib/models/logistic_regression.py:225: PrivacyLeakWarning: Differential privacy is only guaranteed for data whose rows have a 2-norm of at most 3.87298. Got 14.940570\n",
      "Translate and/or scale the data accordingly to ensure differential privacy is achieved.\n",
      "  % (self.data_norm, max_norm), PrivacyLeakWarning)\n",
      "/home/niloofar/python-environments/py36/lib/python3.6/site-packages/diffprivlib/models/logistic_regression.py:225: PrivacyLeakWarning: Differential privacy is only guaranteed for data whose rows have a 2-norm of at most 3.87298. Got 14.940570\n",
      "Translate and/or scale the data accordingly to ensure differential privacy is achieved.\n",
      "  % (self.data_norm, max_norm), PrivacyLeakWarning)\n",
      "/home/niloofar/python-environments/py36/lib/python3.6/site-packages/diffprivlib/models/logistic_regression.py:225: PrivacyLeakWarning: Differential privacy is only guaranteed for data whose rows have a 2-norm of at most 3.87298. Got 14.940570\n",
      "Translate and/or scale the data accordingly to ensure differential privacy is achieved.\n",
      "  % (self.data_norm, max_norm), PrivacyLeakWarning)\n",
      "/home/niloofar/python-environments/py36/lib/python3.6/site-packages/diffprivlib/models/logistic_regression.py:225: PrivacyLeakWarning: Differential privacy is only guaranteed for data whose rows have a 2-norm of at most 3.87298. Got 14.940570\n",
      "Translate and/or scale the data accordingly to ensure differential privacy is achieved.\n",
      "  % (self.data_norm, max_norm), PrivacyLeakWarning)\n",
      "/home/niloofar/python-environments/py36/lib/python3.6/site-packages/diffprivlib/models/logistic_regression.py:225: PrivacyLeakWarning: Differential privacy is only guaranteed for data whose rows have a 2-norm of at most 3.87298. Got 14.940570\n",
      "Translate and/or scale the data accordingly to ensure differential privacy is achieved.\n",
      "  % (self.data_norm, max_norm), PrivacyLeakWarning)\n",
      "/home/niloofar/python-environments/py36/lib/python3.6/site-packages/diffprivlib/models/logistic_regression.py:225: PrivacyLeakWarning: Differential privacy is only guaranteed for data whose rows have a 2-norm of at most 3.87298. Got 14.940570\n",
      "Translate and/or scale the data accordingly to ensure differential privacy is achieved.\n",
      "  % (self.data_norm, max_norm), PrivacyLeakWarning)\n",
      "/home/niloofar/python-environments/py36/lib/python3.6/site-packages/diffprivlib/models/logistic_regression.py:225: PrivacyLeakWarning: Differential privacy is only guaranteed for data whose rows have a 2-norm of at most 3.87298. Got 14.940570\n",
      "Translate and/or scale the data accordingly to ensure differential privacy is achieved.\n",
      "  % (self.data_norm, max_norm), PrivacyLeakWarning)\n",
      "/home/niloofar/python-environments/py36/lib/python3.6/site-packages/diffprivlib/models/logistic_regression.py:225: PrivacyLeakWarning: Differential privacy is only guaranteed for data whose rows have a 2-norm of at most 3.87298. Got 14.940570\n",
      "Translate and/or scale the data accordingly to ensure differential privacy is achieved.\n",
      "  % (self.data_norm, max_norm), PrivacyLeakWarning)\n",
      "/home/niloofar/python-environments/py36/lib/python3.6/site-packages/diffprivlib/models/logistic_regression.py:225: PrivacyLeakWarning: Differential privacy is only guaranteed for data whose rows have a 2-norm of at most 3.87298. Got 14.940570\n",
      "Translate and/or scale the data accordingly to ensure differential privacy is achieved.\n",
      "  % (self.data_norm, max_norm), PrivacyLeakWarning)\n",
      "/home/niloofar/python-environments/py36/lib/python3.6/site-packages/diffprivlib/models/logistic_regression.py:225: PrivacyLeakWarning: Differential privacy is only guaranteed for data whose rows have a 2-norm of at most 3.87298. Got 14.940570\n",
      "Translate and/or scale the data accordingly to ensure differential privacy is achieved.\n",
      "  % (self.data_norm, max_norm), PrivacyLeakWarning)\n",
      "/home/niloofar/python-environments/py36/lib/python3.6/site-packages/diffprivlib/models/logistic_regression.py:225: PrivacyLeakWarning: Differential privacy is only guaranteed for data whose rows have a 2-norm of at most 3.87298. Got 14.940570\n",
      "Translate and/or scale the data accordingly to ensure differential privacy is achieved.\n",
      "  % (self.data_norm, max_norm), PrivacyLeakWarning)\n",
      "/home/niloofar/python-environments/py36/lib/python3.6/site-packages/diffprivlib/models/logistic_regression.py:225: PrivacyLeakWarning: Differential privacy is only guaranteed for data whose rows have a 2-norm of at most 3.87298. Got 14.940570\n",
      "Translate and/or scale the data accordingly to ensure differential privacy is achieved.\n",
      "  % (self.data_norm, max_norm), PrivacyLeakWarning)\n",
      "/home/niloofar/python-environments/py36/lib/python3.6/site-packages/diffprivlib/models/logistic_regression.py:225: PrivacyLeakWarning: Differential privacy is only guaranteed for data whose rows have a 2-norm of at most 3.87298. Got 14.940570\n",
      "Translate and/or scale the data accordingly to ensure differential privacy is achieved.\n",
      "  % (self.data_norm, max_norm), PrivacyLeakWarning)\n",
      "/home/niloofar/python-environments/py36/lib/python3.6/site-packages/diffprivlib/models/logistic_regression.py:225: PrivacyLeakWarning: Differential privacy is only guaranteed for data whose rows have a 2-norm of at most 3.87298. Got 14.940570\n",
      "Translate and/or scale the data accordingly to ensure differential privacy is achieved.\n",
      "  % (self.data_norm, max_norm), PrivacyLeakWarning)\n",
      "/home/niloofar/python-environments/py36/lib/python3.6/site-packages/diffprivlib/models/logistic_regression.py:225: PrivacyLeakWarning: Differential privacy is only guaranteed for data whose rows have a 2-norm of at most 3.87298. Got 14.940570\n",
      "Translate and/or scale the data accordingly to ensure differential privacy is achieved.\n",
      "  % (self.data_norm, max_norm), PrivacyLeakWarning)\n",
      "/home/niloofar/python-environments/py36/lib/python3.6/site-packages/diffprivlib/models/logistic_regression.py:225: PrivacyLeakWarning: Differential privacy is only guaranteed for data whose rows have a 2-norm of at most 3.87298. Got 14.940570\n",
      "Translate and/or scale the data accordingly to ensure differential privacy is achieved.\n",
      "  % (self.data_norm, max_norm), PrivacyLeakWarning)\n",
      "/home/niloofar/python-environments/py36/lib/python3.6/site-packages/diffprivlib/models/logistic_regression.py:225: PrivacyLeakWarning: Differential privacy is only guaranteed for data whose rows have a 2-norm of at most 3.87298. Got 14.940570\n",
      "Translate and/or scale the data accordingly to ensure differential privacy is achieved.\n",
      "  % (self.data_norm, max_norm), PrivacyLeakWarning)\n"
     ]
    },
    {
     "name": "stderr",
     "output_type": "stream",
     "text": [
      "/home/niloofar/python-environments/py36/lib/python3.6/site-packages/diffprivlib/models/logistic_regression.py:225: PrivacyLeakWarning: Differential privacy is only guaranteed for data whose rows have a 2-norm of at most 3.87298. Got 14.940570\n",
      "Translate and/or scale the data accordingly to ensure differential privacy is achieved.\n",
      "  % (self.data_norm, max_norm), PrivacyLeakWarning)\n",
      "/home/niloofar/python-environments/py36/lib/python3.6/site-packages/diffprivlib/models/logistic_regression.py:225: PrivacyLeakWarning: Differential privacy is only guaranteed for data whose rows have a 2-norm of at most 3.87298. Got 14.940570\n",
      "Translate and/or scale the data accordingly to ensure differential privacy is achieved.\n",
      "  % (self.data_norm, max_norm), PrivacyLeakWarning)\n",
      "/home/niloofar/python-environments/py36/lib/python3.6/site-packages/diffprivlib/models/logistic_regression.py:225: PrivacyLeakWarning: Differential privacy is only guaranteed for data whose rows have a 2-norm of at most 3.87298. Got 14.940570\n",
      "Translate and/or scale the data accordingly to ensure differential privacy is achieved.\n",
      "  % (self.data_norm, max_norm), PrivacyLeakWarning)\n",
      "/home/niloofar/python-environments/py36/lib/python3.6/site-packages/diffprivlib/models/logistic_regression.py:225: PrivacyLeakWarning: Differential privacy is only guaranteed for data whose rows have a 2-norm of at most 3.87298. Got 14.940570\n",
      "Translate and/or scale the data accordingly to ensure differential privacy is achieved.\n",
      "  % (self.data_norm, max_norm), PrivacyLeakWarning)\n",
      "/home/niloofar/python-environments/py36/lib/python3.6/site-packages/diffprivlib/models/logistic_regression.py:225: PrivacyLeakWarning: Differential privacy is only guaranteed for data whose rows have a 2-norm of at most 3.87298. Got 14.940570\n",
      "Translate and/or scale the data accordingly to ensure differential privacy is achieved.\n",
      "  % (self.data_norm, max_norm), PrivacyLeakWarning)\n",
      "/home/niloofar/python-environments/py36/lib/python3.6/site-packages/diffprivlib/models/logistic_regression.py:225: PrivacyLeakWarning: Differential privacy is only guaranteed for data whose rows have a 2-norm of at most 3.87298. Got 14.940570\n",
      "Translate and/or scale the data accordingly to ensure differential privacy is achieved.\n",
      "  % (self.data_norm, max_norm), PrivacyLeakWarning)\n",
      "/home/niloofar/python-environments/py36/lib/python3.6/site-packages/diffprivlib/models/logistic_regression.py:225: PrivacyLeakWarning: Differential privacy is only guaranteed for data whose rows have a 2-norm of at most 3.87298. Got 14.940570\n",
      "Translate and/or scale the data accordingly to ensure differential privacy is achieved.\n",
      "  % (self.data_norm, max_norm), PrivacyLeakWarning)\n",
      "/home/niloofar/python-environments/py36/lib/python3.6/site-packages/diffprivlib/models/logistic_regression.py:225: PrivacyLeakWarning: Differential privacy is only guaranteed for data whose rows have a 2-norm of at most 3.87298. Got 14.940570\n",
      "Translate and/or scale the data accordingly to ensure differential privacy is achieved.\n",
      "  % (self.data_norm, max_norm), PrivacyLeakWarning)\n",
      "/home/niloofar/python-environments/py36/lib/python3.6/site-packages/diffprivlib/models/logistic_regression.py:225: PrivacyLeakWarning: Differential privacy is only guaranteed for data whose rows have a 2-norm of at most 3.87298. Got 14.940570\n",
      "Translate and/or scale the data accordingly to ensure differential privacy is achieved.\n",
      "  % (self.data_norm, max_norm), PrivacyLeakWarning)\n",
      "/home/niloofar/python-environments/py36/lib/python3.6/site-packages/diffprivlib/models/logistic_regression.py:225: PrivacyLeakWarning: Differential privacy is only guaranteed for data whose rows have a 2-norm of at most 3.87298. Got 14.940570\n",
      "Translate and/or scale the data accordingly to ensure differential privacy is achieved.\n",
      "  % (self.data_norm, max_norm), PrivacyLeakWarning)\n",
      "/home/niloofar/python-environments/py36/lib/python3.6/site-packages/diffprivlib/models/logistic_regression.py:225: PrivacyLeakWarning: Differential privacy is only guaranteed for data whose rows have a 2-norm of at most 3.87298. Got 14.940570\n",
      "Translate and/or scale the data accordingly to ensure differential privacy is achieved.\n",
      "  % (self.data_norm, max_norm), PrivacyLeakWarning)\n",
      "/home/niloofar/python-environments/py36/lib/python3.6/site-packages/diffprivlib/models/logistic_regression.py:225: PrivacyLeakWarning: Differential privacy is only guaranteed for data whose rows have a 2-norm of at most 3.87298. Got 14.940570\n",
      "Translate and/or scale the data accordingly to ensure differential privacy is achieved.\n",
      "  % (self.data_norm, max_norm), PrivacyLeakWarning)\n",
      "/home/niloofar/python-environments/py36/lib/python3.6/site-packages/diffprivlib/models/logistic_regression.py:225: PrivacyLeakWarning: Differential privacy is only guaranteed for data whose rows have a 2-norm of at most 3.87298. Got 14.940570\n",
      "Translate and/or scale the data accordingly to ensure differential privacy is achieved.\n",
      "  % (self.data_norm, max_norm), PrivacyLeakWarning)\n",
      "/home/niloofar/python-environments/py36/lib/python3.6/site-packages/diffprivlib/models/logistic_regression.py:225: PrivacyLeakWarning: Differential privacy is only guaranteed for data whose rows have a 2-norm of at most 3.87298. Got 14.940570\n",
      "Translate and/or scale the data accordingly to ensure differential privacy is achieved.\n",
      "  % (self.data_norm, max_norm), PrivacyLeakWarning)\n",
      "/home/niloofar/python-environments/py36/lib/python3.6/site-packages/diffprivlib/models/logistic_regression.py:225: PrivacyLeakWarning: Differential privacy is only guaranteed for data whose rows have a 2-norm of at most 3.87298. Got 14.940570\n",
      "Translate and/or scale the data accordingly to ensure differential privacy is achieved.\n",
      "  % (self.data_norm, max_norm), PrivacyLeakWarning)\n",
      "/home/niloofar/python-environments/py36/lib/python3.6/site-packages/diffprivlib/models/logistic_regression.py:225: PrivacyLeakWarning: Differential privacy is only guaranteed for data whose rows have a 2-norm of at most 3.87298. Got 14.940570\n",
      "Translate and/or scale the data accordingly to ensure differential privacy is achieved.\n",
      "  % (self.data_norm, max_norm), PrivacyLeakWarning)\n",
      "/home/niloofar/python-environments/py36/lib/python3.6/site-packages/diffprivlib/models/logistic_regression.py:225: PrivacyLeakWarning: Differential privacy is only guaranteed for data whose rows have a 2-norm of at most 3.87298. Got 14.940570\n",
      "Translate and/or scale the data accordingly to ensure differential privacy is achieved.\n",
      "  % (self.data_norm, max_norm), PrivacyLeakWarning)\n",
      "/home/niloofar/python-environments/py36/lib/python3.6/site-packages/diffprivlib/models/logistic_regression.py:225: PrivacyLeakWarning: Differential privacy is only guaranteed for data whose rows have a 2-norm of at most 3.87298. Got 14.940570\n",
      "Translate and/or scale the data accordingly to ensure differential privacy is achieved.\n",
      "  % (self.data_norm, max_norm), PrivacyLeakWarning)\n",
      "/home/niloofar/python-environments/py36/lib/python3.6/site-packages/diffprivlib/models/logistic_regression.py:225: PrivacyLeakWarning: Differential privacy is only guaranteed for data whose rows have a 2-norm of at most 3.87298. Got 14.940570\n",
      "Translate and/or scale the data accordingly to ensure differential privacy is achieved.\n",
      "  % (self.data_norm, max_norm), PrivacyLeakWarning)\n",
      "/home/niloofar/python-environments/py36/lib/python3.6/site-packages/diffprivlib/models/logistic_regression.py:225: PrivacyLeakWarning: Differential privacy is only guaranteed for data whose rows have a 2-norm of at most 3.87298. Got 14.940570\n",
      "Translate and/or scale the data accordingly to ensure differential privacy is achieved.\n",
      "  % (self.data_norm, max_norm), PrivacyLeakWarning)\n",
      "/home/niloofar/python-environments/py36/lib/python3.6/site-packages/diffprivlib/models/logistic_regression.py:225: PrivacyLeakWarning: Differential privacy is only guaranteed for data whose rows have a 2-norm of at most 3.87298. Got 14.940570\n",
      "Translate and/or scale the data accordingly to ensure differential privacy is achieved.\n",
      "  % (self.data_norm, max_norm), PrivacyLeakWarning)\n",
      "/home/niloofar/python-environments/py36/lib/python3.6/site-packages/diffprivlib/models/logistic_regression.py:225: PrivacyLeakWarning: Differential privacy is only guaranteed for data whose rows have a 2-norm of at most 3.87298. Got 14.940570\n",
      "Translate and/or scale the data accordingly to ensure differential privacy is achieved.\n",
      "  % (self.data_norm, max_norm), PrivacyLeakWarning)\n",
      "/home/niloofar/python-environments/py36/lib/python3.6/site-packages/diffprivlib/models/logistic_regression.py:225: PrivacyLeakWarning: Differential privacy is only guaranteed for data whose rows have a 2-norm of at most 3.87298. Got 14.940570\n",
      "Translate and/or scale the data accordingly to ensure differential privacy is achieved.\n",
      "  % (self.data_norm, max_norm), PrivacyLeakWarning)\n"
     ]
    },
    {
     "name": "stdout",
     "output_type": "stream",
     "text": [
      "Accuracy of non-private classifier on WOMEN in validation set: 82.24566371681416\n",
      "Accuracy of non-private classifier on MEN in validation set: 70.1008997429306\n",
      "Accuracy of private logistic regression (on validation set): 73.89236379710465%\n"
     ]
    },
    {
     "name": "stderr",
     "output_type": "stream",
     "text": [
      "/home/niloofar/python-environments/py36/lib/python3.6/site-packages/diffprivlib/models/logistic_regression.py:225: PrivacyLeakWarning: Differential privacy is only guaranteed for data whose rows have a 2-norm of at most 3.87298. Got 14.940570\n",
      "Translate and/or scale the data accordingly to ensure differential privacy is achieved.\n",
      "  % (self.data_norm, max_norm), PrivacyLeakWarning)\n",
      "/home/niloofar/python-environments/py36/lib/python3.6/site-packages/diffprivlib/models/logistic_regression.py:225: PrivacyLeakWarning: Differential privacy is only guaranteed for data whose rows have a 2-norm of at most 3.87298. Got 14.940570\n",
      "Translate and/or scale the data accordingly to ensure differential privacy is achieved.\n",
      "  % (self.data_norm, max_norm), PrivacyLeakWarning)\n",
      "/home/niloofar/python-environments/py36/lib/python3.6/site-packages/diffprivlib/models/logistic_regression.py:225: PrivacyLeakWarning: Differential privacy is only guaranteed for data whose rows have a 2-norm of at most 3.87298. Got 14.940570\n",
      "Translate and/or scale the data accordingly to ensure differential privacy is achieved.\n",
      "  % (self.data_norm, max_norm), PrivacyLeakWarning)\n"
     ]
    }
   ],
   "source": [
    "acc = 0\n",
    "f_acc = 0\n",
    "m_acc = 0\n",
    "for i in range(50):\n",
    "    \n",
    "    modelDP = DPLogisticRegression(epsilon= 0.05, max_iter=1000, tol=1e-5,  data_norm=np.sqrt(d+1))\n",
    "    modelDP.fit(X_train, y_train)\n",
    "    y_predDP = modelDP.predict(X_test)\n",
    "    acc += np.mean((y_predDP ==y_test).astype(float))*100\n",
    "    \n",
    "    temp1 = genders == 0\n",
    "    temp2 = y_predDP==y_test_np\n",
    "    f_acc += np.sum((temp1 * temp2).astype(float))*100/np.sum(temp1)\n",
    "    temp1 = genders == 1\n",
    "    m_acc += np.sum((temp1 * temp2).astype(float))*100/np.sum(temp1)\n",
    "print('Accuracy of non-private classifier on WOMEN in validation set:', f_acc/50)\n",
    "print('Accuracy of non-private classifier on MEN in validation set:', m_acc/50)\n",
    "print('Accuracy of private logistic regression (on validation set): {}%'.format(acc/50))"
   ]
  },
  {
   "cell_type": "markdown",
   "metadata": {},
   "source": [
    "# Gaussian NB"
   ]
  },
  {
   "cell_type": "code",
   "execution_count": 153,
   "metadata": {},
   "outputs": [
    {
     "name": "stdout",
     "output_type": "stream",
     "text": [
      "Accuracy of non-private logistic regression (on validation set): 79.64415957564371%\n"
     ]
    }
   ],
   "source": [
    "from sklearn.naive_bayes import GaussianNB\n",
    "import diffprivlib.models as models\n",
    "gnb = GaussianNB()\n",
    "y_pred = gnb.fit(X_train, y_train).predict(X_test)\n",
    "acc = np.mean((y_pred==y_test).astype(float))*100\n",
    "print('Accuracy of non-private logistic regression (on validation set): {}%'.format(acc))"
   ]
  },
  {
   "cell_type": "code",
   "execution_count": 182,
   "metadata": {},
   "outputs": [
    {
     "name": "stdout",
     "output_type": "stream",
     "text": [
      "Accuracy of non-private classifier on WOMEN in validation set: 89.52212389380531\n",
      "Accuracy of non-private classifier on MEN in validation set: 75.16066838046272\n"
     ]
    }
   ],
   "source": [
    "temp1 = genders == 0\n",
    "temp2 = y_pred==y_test_np\n",
    "\n",
    "f_acc = np.sum((temp1 * temp2).astype(float))*100/np.sum(temp1)\n",
    "\n",
    "temp1 = genders == 1\n",
    "\n",
    "\n",
    "m_acc = np.sum((temp1 * temp2).astype(float))*100/np.sum(temp1)\n",
    "print('Accuracy of non-private classifier on WOMEN in validation set:', f_acc)\n",
    "print('Accuracy of non-private classifier on MEN in validation set:', m_acc)"
   ]
  },
  {
   "cell_type": "code",
   "execution_count": 183,
   "metadata": {},
   "outputs": [
    {
     "name": "stdout",
     "output_type": "stream",
     "text": [
      "Accuracy of private logistic regression (on validation set): 79.32368217482595%\n"
     ]
    }
   ],
   "source": [
    "gnbDP = models.GaussianNB(epsilon=0.5, bounds=[(1,10),(1,10),(1,10),(1,10),(1,10),(1,10),(1,10),(1,10),(1,10),(1,10),(1,10),(1,10),(1,10),(1,10)])\n",
    "predsDP = gnbDP.fit(X_train, y_train).predict(X_test)\n",
    "\n",
    "y_predDP = gnbDP.predict(X_test)\n",
    "acc = np.mean((y_predDP==y_test).astype(float))*100\n",
    "print('Accuracy of private logistic regression (on validation set): {}%'.format(acc))"
   ]
  },
  {
   "cell_type": "code",
   "execution_count": 185,
   "metadata": {},
   "outputs": [
    {
     "name": "stdout",
     "output_type": "stream",
     "text": [
      "2825\n",
      "6224\n",
      "Accuracy of non-private classifier on WOMEN in validation set: 88.46017699115045\n",
      "Accuracy of non-private classifier on MEN in validation set: 75.176735218509\n"
     ]
    }
   ],
   "source": [
    "temp1 = genders == 0\n",
    "temp2 = y_predDP==y_test_np\n",
    "f_acc = np.sum((temp1 * temp2).astype(float))*100/np.sum(temp1)\n",
    "print(np.sum(temp1))\n",
    "temp1 = genders == 1\n",
    "m_acc = np.sum((temp1 * temp2).astype(float))*100/np.sum(temp1)\n",
    "print(np.sum(temp1))\n",
    "print('Accuracy of non-private classifier on WOMEN in validation set:', f_acc)\n",
    "print('Accuracy of non-private classifier on MEN in validation set:', m_acc)"
   ]
  },
  {
   "cell_type": "markdown",
   "metadata": {},
   "source": [
    "# remove gender"
   ]
  },
  {
   "cell_type": "code",
   "execution_count": 200,
   "metadata": {},
   "outputs": [
    {
     "name": "stdout",
     "output_type": "stream",
     "text": [
      "(21113, 13)\n"
     ]
    }
   ],
   "source": [
    "print(X_train_no.shape)"
   ]
  },
  {
   "cell_type": "code",
   "execution_count": 201,
   "metadata": {},
   "outputs": [
    {
     "name": "stdout",
     "output_type": "stream",
     "text": [
      "Logistic Regression: 81.65543153939662\n"
     ]
    }
   ],
   "source": [
    "X_train_no = X_train.drop(9,axis=1)\n",
    "X_test_no = X_test.drop(9, axis=1)\n",
    "\n",
    "model = LogisticRegression()\n",
    "model.fit(X_train_no, y_train)\n",
    "\n",
    "y_pred = model.predict(X_test_no)\n",
    "acc = accuracy_score(y_test, y_pred)\n",
    "print('Logistic Regression:', acc * 100)"
   ]
  },
  {
   "cell_type": "code",
   "execution_count": 202,
   "metadata": {},
   "outputs": [
    {
     "name": "stdout",
     "output_type": "stream",
     "text": [
      "Accuracy of non-private classifier on WOMEN in validation set: 88.7433628318584\n",
      "Accuracy of non-private classifier on MEN in validation set: 78.43830334190231\n"
     ]
    }
   ],
   "source": [
    "temp1 = genders == 0\n",
    "temp2 = y_pred==y_test_np\n",
    "\n",
    "f_acc = np.sum((temp1 * temp2).astype(float))*100/np.sum(temp1)\n",
    "\n",
    "temp1 = genders == 1\n",
    "\n",
    "\n",
    "m_acc = np.sum((temp1 * temp2).astype(float))*100/np.sum(temp1)\n",
    "print('Accuracy of non-private classifier on WOMEN in validation set:', f_acc)\n",
    "print('Accuracy of non-private classifier on MEN in validation set:', m_acc)"
   ]
  },
  {
   "cell_type": "code",
   "execution_count": 207,
   "metadata": {},
   "outputs": [
    {
     "name": "stderr",
     "output_type": "stream",
     "text": [
      "/home/niloofar/python-environments/py36/lib/python3.6/site-packages/diffprivlib/models/logistic_regression.py:225: PrivacyLeakWarning: Differential privacy is only guaranteed for data whose rows have a 2-norm of at most 3.87298. Got 14.872318\n",
      "Translate and/or scale the data accordingly to ensure differential privacy is achieved.\n",
      "  % (self.data_norm, max_norm), PrivacyLeakWarning)\n",
      "/home/niloofar/python-environments/py36/lib/python3.6/site-packages/diffprivlib/models/logistic_regression.py:225: PrivacyLeakWarning: Differential privacy is only guaranteed for data whose rows have a 2-norm of at most 3.87298. Got 14.872318\n",
      "Translate and/or scale the data accordingly to ensure differential privacy is achieved.\n",
      "  % (self.data_norm, max_norm), PrivacyLeakWarning)\n",
      "/home/niloofar/python-environments/py36/lib/python3.6/site-packages/diffprivlib/models/logistic_regression.py:225: PrivacyLeakWarning: Differential privacy is only guaranteed for data whose rows have a 2-norm of at most 3.87298. Got 14.872318\n",
      "Translate and/or scale the data accordingly to ensure differential privacy is achieved.\n",
      "  % (self.data_norm, max_norm), PrivacyLeakWarning)\n",
      "/home/niloofar/python-environments/py36/lib/python3.6/site-packages/diffprivlib/models/logistic_regression.py:225: PrivacyLeakWarning: Differential privacy is only guaranteed for data whose rows have a 2-norm of at most 3.87298. Got 14.872318\n",
      "Translate and/or scale the data accordingly to ensure differential privacy is achieved.\n",
      "  % (self.data_norm, max_norm), PrivacyLeakWarning)\n",
      "/home/niloofar/python-environments/py36/lib/python3.6/site-packages/diffprivlib/models/logistic_regression.py:225: PrivacyLeakWarning: Differential privacy is only guaranteed for data whose rows have a 2-norm of at most 3.87298. Got 14.872318\n",
      "Translate and/or scale the data accordingly to ensure differential privacy is achieved.\n",
      "  % (self.data_norm, max_norm), PrivacyLeakWarning)\n",
      "/home/niloofar/python-environments/py36/lib/python3.6/site-packages/diffprivlib/models/logistic_regression.py:225: PrivacyLeakWarning: Differential privacy is only guaranteed for data whose rows have a 2-norm of at most 3.87298. Got 14.872318\n",
      "Translate and/or scale the data accordingly to ensure differential privacy is achieved.\n",
      "  % (self.data_norm, max_norm), PrivacyLeakWarning)\n",
      "/home/niloofar/python-environments/py36/lib/python3.6/site-packages/diffprivlib/models/logistic_regression.py:225: PrivacyLeakWarning: Differential privacy is only guaranteed for data whose rows have a 2-norm of at most 3.87298. Got 14.872318\n",
      "Translate and/or scale the data accordingly to ensure differential privacy is achieved.\n",
      "  % (self.data_norm, max_norm), PrivacyLeakWarning)\n",
      "/home/niloofar/python-environments/py36/lib/python3.6/site-packages/diffprivlib/models/logistic_regression.py:225: PrivacyLeakWarning: Differential privacy is only guaranteed for data whose rows have a 2-norm of at most 3.87298. Got 14.872318\n",
      "Translate and/or scale the data accordingly to ensure differential privacy is achieved.\n",
      "  % (self.data_norm, max_norm), PrivacyLeakWarning)\n",
      "/home/niloofar/python-environments/py36/lib/python3.6/site-packages/diffprivlib/models/logistic_regression.py:225: PrivacyLeakWarning: Differential privacy is only guaranteed for data whose rows have a 2-norm of at most 3.87298. Got 14.872318\n",
      "Translate and/or scale the data accordingly to ensure differential privacy is achieved.\n",
      "  % (self.data_norm, max_norm), PrivacyLeakWarning)\n",
      "/home/niloofar/python-environments/py36/lib/python3.6/site-packages/diffprivlib/models/logistic_regression.py:225: PrivacyLeakWarning: Differential privacy is only guaranteed for data whose rows have a 2-norm of at most 3.87298. Got 14.872318\n",
      "Translate and/or scale the data accordingly to ensure differential privacy is achieved.\n",
      "  % (self.data_norm, max_norm), PrivacyLeakWarning)\n",
      "/home/niloofar/python-environments/py36/lib/python3.6/site-packages/diffprivlib/models/logistic_regression.py:225: PrivacyLeakWarning: Differential privacy is only guaranteed for data whose rows have a 2-norm of at most 3.87298. Got 14.872318\n",
      "Translate and/or scale the data accordingly to ensure differential privacy is achieved.\n",
      "  % (self.data_norm, max_norm), PrivacyLeakWarning)\n",
      "/home/niloofar/python-environments/py36/lib/python3.6/site-packages/diffprivlib/models/logistic_regression.py:225: PrivacyLeakWarning: Differential privacy is only guaranteed for data whose rows have a 2-norm of at most 3.87298. Got 14.872318\n",
      "Translate and/or scale the data accordingly to ensure differential privacy is achieved.\n",
      "  % (self.data_norm, max_norm), PrivacyLeakWarning)\n",
      "/home/niloofar/python-environments/py36/lib/python3.6/site-packages/diffprivlib/models/logistic_regression.py:225: PrivacyLeakWarning: Differential privacy is only guaranteed for data whose rows have a 2-norm of at most 3.87298. Got 14.872318\n",
      "Translate and/or scale the data accordingly to ensure differential privacy is achieved.\n",
      "  % (self.data_norm, max_norm), PrivacyLeakWarning)\n",
      "/home/niloofar/python-environments/py36/lib/python3.6/site-packages/diffprivlib/models/logistic_regression.py:225: PrivacyLeakWarning: Differential privacy is only guaranteed for data whose rows have a 2-norm of at most 3.87298. Got 14.872318\n",
      "Translate and/or scale the data accordingly to ensure differential privacy is achieved.\n",
      "  % (self.data_norm, max_norm), PrivacyLeakWarning)\n",
      "/home/niloofar/python-environments/py36/lib/python3.6/site-packages/diffprivlib/models/logistic_regression.py:225: PrivacyLeakWarning: Differential privacy is only guaranteed for data whose rows have a 2-norm of at most 3.87298. Got 14.872318\n",
      "Translate and/or scale the data accordingly to ensure differential privacy is achieved.\n",
      "  % (self.data_norm, max_norm), PrivacyLeakWarning)\n",
      "/home/niloofar/python-environments/py36/lib/python3.6/site-packages/diffprivlib/models/logistic_regression.py:225: PrivacyLeakWarning: Differential privacy is only guaranteed for data whose rows have a 2-norm of at most 3.87298. Got 14.872318\n",
      "Translate and/or scale the data accordingly to ensure differential privacy is achieved.\n",
      "  % (self.data_norm, max_norm), PrivacyLeakWarning)\n",
      "/home/niloofar/python-environments/py36/lib/python3.6/site-packages/diffprivlib/models/logistic_regression.py:225: PrivacyLeakWarning: Differential privacy is only guaranteed for data whose rows have a 2-norm of at most 3.87298. Got 14.872318\n",
      "Translate and/or scale the data accordingly to ensure differential privacy is achieved.\n",
      "  % (self.data_norm, max_norm), PrivacyLeakWarning)\n",
      "/home/niloofar/python-environments/py36/lib/python3.6/site-packages/diffprivlib/models/logistic_regression.py:225: PrivacyLeakWarning: Differential privacy is only guaranteed for data whose rows have a 2-norm of at most 3.87298. Got 14.872318\n",
      "Translate and/or scale the data accordingly to ensure differential privacy is achieved.\n",
      "  % (self.data_norm, max_norm), PrivacyLeakWarning)\n",
      "/home/niloofar/python-environments/py36/lib/python3.6/site-packages/diffprivlib/models/logistic_regression.py:225: PrivacyLeakWarning: Differential privacy is only guaranteed for data whose rows have a 2-norm of at most 3.87298. Got 14.872318\n",
      "Translate and/or scale the data accordingly to ensure differential privacy is achieved.\n",
      "  % (self.data_norm, max_norm), PrivacyLeakWarning)\n",
      "/home/niloofar/python-environments/py36/lib/python3.6/site-packages/diffprivlib/models/logistic_regression.py:225: PrivacyLeakWarning: Differential privacy is only guaranteed for data whose rows have a 2-norm of at most 3.87298. Got 14.872318\n",
      "Translate and/or scale the data accordingly to ensure differential privacy is achieved.\n",
      "  % (self.data_norm, max_norm), PrivacyLeakWarning)\n",
      "/home/niloofar/python-environments/py36/lib/python3.6/site-packages/diffprivlib/models/logistic_regression.py:225: PrivacyLeakWarning: Differential privacy is only guaranteed for data whose rows have a 2-norm of at most 3.87298. Got 14.872318\n",
      "Translate and/or scale the data accordingly to ensure differential privacy is achieved.\n",
      "  % (self.data_norm, max_norm), PrivacyLeakWarning)\n",
      "/home/niloofar/python-environments/py36/lib/python3.6/site-packages/diffprivlib/models/logistic_regression.py:225: PrivacyLeakWarning: Differential privacy is only guaranteed for data whose rows have a 2-norm of at most 3.87298. Got 14.872318\n",
      "Translate and/or scale the data accordingly to ensure differential privacy is achieved.\n",
      "  % (self.data_norm, max_norm), PrivacyLeakWarning)\n",
      "/home/niloofar/python-environments/py36/lib/python3.6/site-packages/diffprivlib/models/logistic_regression.py:225: PrivacyLeakWarning: Differential privacy is only guaranteed for data whose rows have a 2-norm of at most 3.87298. Got 14.872318\n",
      "Translate and/or scale the data accordingly to ensure differential privacy is achieved.\n",
      "  % (self.data_norm, max_norm), PrivacyLeakWarning)\n",
      "/home/niloofar/python-environments/py36/lib/python3.6/site-packages/diffprivlib/models/logistic_regression.py:225: PrivacyLeakWarning: Differential privacy is only guaranteed for data whose rows have a 2-norm of at most 3.87298. Got 14.872318\n",
      "Translate and/or scale the data accordingly to ensure differential privacy is achieved.\n",
      "  % (self.data_norm, max_norm), PrivacyLeakWarning)\n",
      "/home/niloofar/python-environments/py36/lib/python3.6/site-packages/diffprivlib/models/logistic_regression.py:225: PrivacyLeakWarning: Differential privacy is only guaranteed for data whose rows have a 2-norm of at most 3.87298. Got 14.872318\n",
      "Translate and/or scale the data accordingly to ensure differential privacy is achieved.\n",
      "  % (self.data_norm, max_norm), PrivacyLeakWarning)\n"
     ]
    },
    {
     "name": "stderr",
     "output_type": "stream",
     "text": [
      "/home/niloofar/python-environments/py36/lib/python3.6/site-packages/diffprivlib/models/logistic_regression.py:225: PrivacyLeakWarning: Differential privacy is only guaranteed for data whose rows have a 2-norm of at most 3.87298. Got 14.872318\n",
      "Translate and/or scale the data accordingly to ensure differential privacy is achieved.\n",
      "  % (self.data_norm, max_norm), PrivacyLeakWarning)\n",
      "/home/niloofar/python-environments/py36/lib/python3.6/site-packages/diffprivlib/models/logistic_regression.py:225: PrivacyLeakWarning: Differential privacy is only guaranteed for data whose rows have a 2-norm of at most 3.87298. Got 14.872318\n",
      "Translate and/or scale the data accordingly to ensure differential privacy is achieved.\n",
      "  % (self.data_norm, max_norm), PrivacyLeakWarning)\n",
      "/home/niloofar/python-environments/py36/lib/python3.6/site-packages/diffprivlib/models/logistic_regression.py:225: PrivacyLeakWarning: Differential privacy is only guaranteed for data whose rows have a 2-norm of at most 3.87298. Got 14.872318\n",
      "Translate and/or scale the data accordingly to ensure differential privacy is achieved.\n",
      "  % (self.data_norm, max_norm), PrivacyLeakWarning)\n",
      "/home/niloofar/python-environments/py36/lib/python3.6/site-packages/diffprivlib/models/logistic_regression.py:225: PrivacyLeakWarning: Differential privacy is only guaranteed for data whose rows have a 2-norm of at most 3.87298. Got 14.872318\n",
      "Translate and/or scale the data accordingly to ensure differential privacy is achieved.\n",
      "  % (self.data_norm, max_norm), PrivacyLeakWarning)\n",
      "/home/niloofar/python-environments/py36/lib/python3.6/site-packages/diffprivlib/models/logistic_regression.py:225: PrivacyLeakWarning: Differential privacy is only guaranteed for data whose rows have a 2-norm of at most 3.87298. Got 14.872318\n",
      "Translate and/or scale the data accordingly to ensure differential privacy is achieved.\n",
      "  % (self.data_norm, max_norm), PrivacyLeakWarning)\n",
      "/home/niloofar/python-environments/py36/lib/python3.6/site-packages/diffprivlib/models/logistic_regression.py:225: PrivacyLeakWarning: Differential privacy is only guaranteed for data whose rows have a 2-norm of at most 3.87298. Got 14.872318\n",
      "Translate and/or scale the data accordingly to ensure differential privacy is achieved.\n",
      "  % (self.data_norm, max_norm), PrivacyLeakWarning)\n",
      "/home/niloofar/python-environments/py36/lib/python3.6/site-packages/diffprivlib/models/logistic_regression.py:225: PrivacyLeakWarning: Differential privacy is only guaranteed for data whose rows have a 2-norm of at most 3.87298. Got 14.872318\n",
      "Translate and/or scale the data accordingly to ensure differential privacy is achieved.\n",
      "  % (self.data_norm, max_norm), PrivacyLeakWarning)\n",
      "/home/niloofar/python-environments/py36/lib/python3.6/site-packages/diffprivlib/models/logistic_regression.py:225: PrivacyLeakWarning: Differential privacy is only guaranteed for data whose rows have a 2-norm of at most 3.87298. Got 14.872318\n",
      "Translate and/or scale the data accordingly to ensure differential privacy is achieved.\n",
      "  % (self.data_norm, max_norm), PrivacyLeakWarning)\n",
      "/home/niloofar/python-environments/py36/lib/python3.6/site-packages/diffprivlib/models/logistic_regression.py:225: PrivacyLeakWarning: Differential privacy is only guaranteed for data whose rows have a 2-norm of at most 3.87298. Got 14.872318\n",
      "Translate and/or scale the data accordingly to ensure differential privacy is achieved.\n",
      "  % (self.data_norm, max_norm), PrivacyLeakWarning)\n",
      "/home/niloofar/python-environments/py36/lib/python3.6/site-packages/diffprivlib/models/logistic_regression.py:225: PrivacyLeakWarning: Differential privacy is only guaranteed for data whose rows have a 2-norm of at most 3.87298. Got 14.872318\n",
      "Translate and/or scale the data accordingly to ensure differential privacy is achieved.\n",
      "  % (self.data_norm, max_norm), PrivacyLeakWarning)\n",
      "/home/niloofar/python-environments/py36/lib/python3.6/site-packages/diffprivlib/models/logistic_regression.py:225: PrivacyLeakWarning: Differential privacy is only guaranteed for data whose rows have a 2-norm of at most 3.87298. Got 14.872318\n",
      "Translate and/or scale the data accordingly to ensure differential privacy is achieved.\n",
      "  % (self.data_norm, max_norm), PrivacyLeakWarning)\n",
      "/home/niloofar/python-environments/py36/lib/python3.6/site-packages/diffprivlib/models/logistic_regression.py:225: PrivacyLeakWarning: Differential privacy is only guaranteed for data whose rows have a 2-norm of at most 3.87298. Got 14.872318\n",
      "Translate and/or scale the data accordingly to ensure differential privacy is achieved.\n",
      "  % (self.data_norm, max_norm), PrivacyLeakWarning)\n",
      "/home/niloofar/python-environments/py36/lib/python3.6/site-packages/diffprivlib/models/logistic_regression.py:225: PrivacyLeakWarning: Differential privacy is only guaranteed for data whose rows have a 2-norm of at most 3.87298. Got 14.872318\n",
      "Translate and/or scale the data accordingly to ensure differential privacy is achieved.\n",
      "  % (self.data_norm, max_norm), PrivacyLeakWarning)\n",
      "/home/niloofar/python-environments/py36/lib/python3.6/site-packages/diffprivlib/models/logistic_regression.py:225: PrivacyLeakWarning: Differential privacy is only guaranteed for data whose rows have a 2-norm of at most 3.87298. Got 14.872318\n",
      "Translate and/or scale the data accordingly to ensure differential privacy is achieved.\n",
      "  % (self.data_norm, max_norm), PrivacyLeakWarning)\n",
      "/home/niloofar/python-environments/py36/lib/python3.6/site-packages/diffprivlib/models/logistic_regression.py:225: PrivacyLeakWarning: Differential privacy is only guaranteed for data whose rows have a 2-norm of at most 3.87298. Got 14.872318\n",
      "Translate and/or scale the data accordingly to ensure differential privacy is achieved.\n",
      "  % (self.data_norm, max_norm), PrivacyLeakWarning)\n",
      "/home/niloofar/python-environments/py36/lib/python3.6/site-packages/diffprivlib/models/logistic_regression.py:225: PrivacyLeakWarning: Differential privacy is only guaranteed for data whose rows have a 2-norm of at most 3.87298. Got 14.872318\n",
      "Translate and/or scale the data accordingly to ensure differential privacy is achieved.\n",
      "  % (self.data_norm, max_norm), PrivacyLeakWarning)\n",
      "/home/niloofar/python-environments/py36/lib/python3.6/site-packages/diffprivlib/models/logistic_regression.py:225: PrivacyLeakWarning: Differential privacy is only guaranteed for data whose rows have a 2-norm of at most 3.87298. Got 14.872318\n",
      "Translate and/or scale the data accordingly to ensure differential privacy is achieved.\n",
      "  % (self.data_norm, max_norm), PrivacyLeakWarning)\n",
      "/home/niloofar/python-environments/py36/lib/python3.6/site-packages/diffprivlib/models/logistic_regression.py:225: PrivacyLeakWarning: Differential privacy is only guaranteed for data whose rows have a 2-norm of at most 3.87298. Got 14.872318\n",
      "Translate and/or scale the data accordingly to ensure differential privacy is achieved.\n",
      "  % (self.data_norm, max_norm), PrivacyLeakWarning)\n",
      "/home/niloofar/python-environments/py36/lib/python3.6/site-packages/diffprivlib/models/logistic_regression.py:225: PrivacyLeakWarning: Differential privacy is only guaranteed for data whose rows have a 2-norm of at most 3.87298. Got 14.872318\n",
      "Translate and/or scale the data accordingly to ensure differential privacy is achieved.\n",
      "  % (self.data_norm, max_norm), PrivacyLeakWarning)\n",
      "/home/niloofar/python-environments/py36/lib/python3.6/site-packages/diffprivlib/models/logistic_regression.py:225: PrivacyLeakWarning: Differential privacy is only guaranteed for data whose rows have a 2-norm of at most 3.87298. Got 14.872318\n",
      "Translate and/or scale the data accordingly to ensure differential privacy is achieved.\n",
      "  % (self.data_norm, max_norm), PrivacyLeakWarning)\n",
      "/home/niloofar/python-environments/py36/lib/python3.6/site-packages/diffprivlib/models/logistic_regression.py:225: PrivacyLeakWarning: Differential privacy is only guaranteed for data whose rows have a 2-norm of at most 3.87298. Got 14.872318\n",
      "Translate and/or scale the data accordingly to ensure differential privacy is achieved.\n",
      "  % (self.data_norm, max_norm), PrivacyLeakWarning)\n",
      "/home/niloofar/python-environments/py36/lib/python3.6/site-packages/diffprivlib/models/logistic_regression.py:225: PrivacyLeakWarning: Differential privacy is only guaranteed for data whose rows have a 2-norm of at most 3.87298. Got 14.872318\n",
      "Translate and/or scale the data accordingly to ensure differential privacy is achieved.\n",
      "  % (self.data_norm, max_norm), PrivacyLeakWarning)\n",
      "/home/niloofar/python-environments/py36/lib/python3.6/site-packages/diffprivlib/models/logistic_regression.py:225: PrivacyLeakWarning: Differential privacy is only guaranteed for data whose rows have a 2-norm of at most 3.87298. Got 14.872318\n",
      "Translate and/or scale the data accordingly to ensure differential privacy is achieved.\n",
      "  % (self.data_norm, max_norm), PrivacyLeakWarning)\n",
      "/home/niloofar/python-environments/py36/lib/python3.6/site-packages/diffprivlib/models/logistic_regression.py:225: PrivacyLeakWarning: Differential privacy is only guaranteed for data whose rows have a 2-norm of at most 3.87298. Got 14.872318\n",
      "Translate and/or scale the data accordingly to ensure differential privacy is achieved.\n",
      "  % (self.data_norm, max_norm), PrivacyLeakWarning)\n",
      "/home/niloofar/python-environments/py36/lib/python3.6/site-packages/diffprivlib/models/logistic_regression.py:225: PrivacyLeakWarning: Differential privacy is only guaranteed for data whose rows have a 2-norm of at most 3.87298. Got 14.872318\n",
      "Translate and/or scale the data accordingly to ensure differential privacy is achieved.\n",
      "  % (self.data_norm, max_norm), PrivacyLeakWarning)\n"
     ]
    },
    {
     "name": "stdout",
     "output_type": "stream",
     "text": [
      "Accuracy of non-private classifier on WOMEN in validation set: 81.6637168141593\n",
      "Accuracy of non-private classifier on MEN in validation set: 72.00610539845758\n",
      "Accuracy of private logistic regression (on validation set): 75.02110730467453%\n"
     ]
    }
   ],
   "source": [
    "acc = 0\n",
    "f_acc = 0\n",
    "m_acc = 0\n",
    "for i in range(50):\n",
    "    \n",
    "    modelDP = DPLogisticRegression(epsilon= 0.05, max_iter=1000, tol=1e-5,  data_norm=np.sqrt(d+1))\n",
    "    modelDP.fit(X_train_no, y_train)\n",
    "    y_predDP = modelDP.predict(X_test_no)\n",
    "    acc += np.mean((y_predDP ==y_test).astype(float))*100\n",
    "    \n",
    "    temp1 = genders == 0\n",
    "    temp2 = y_predDP==y_test_np\n",
    "    f_acc += np.sum((temp1 * temp2).astype(float))*100/np.sum(temp1)\n",
    "    temp1 = genders == 1\n",
    "    m_acc += np.sum((temp1 * temp2).astype(float))*100/np.sum(temp1)\n",
    "print('Accuracy of non-private classifier on WOMEN in validation set:', f_acc/50)\n",
    "print('Accuracy of non-private classifier on MEN in validation set:', m_acc/50)\n",
    "print('Accuracy of private logistic regression (on validation set): {}%'.format(acc/50))"
   ]
  },
  {
   "cell_type": "code",
   "execution_count": null,
   "metadata": {},
   "outputs": [],
   "source": []
  }
 ],
 "metadata": {
  "kernelspec": {
   "display_name": "Python 3",
   "language": "python",
   "name": "python3"
  },
  "language_info": {
   "codemirror_mode": {
    "name": "ipython",
    "version": 3
   },
   "file_extension": ".py",
   "mimetype": "text/x-python",
   "name": "python",
   "nbconvert_exporter": "python",
   "pygments_lexer": "ipython3",
   "version": "3.6.10"
  }
 },
 "nbformat": 4,
 "nbformat_minor": 4
}
