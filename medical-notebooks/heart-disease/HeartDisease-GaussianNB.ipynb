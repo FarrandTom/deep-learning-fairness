{
 "cells": [
  {
   "cell_type": "code",
   "execution_count": 13,
   "metadata": {},
   "outputs": [],
   "source": [
    "import numpy as np\n",
    "from sklearn.linear_model import LogisticRegression\n",
    "from diffprivlib.models import LogisticRegression as DPLogisticRegression\n",
    "from sklearn.naive_bayes import GaussianNB\n",
    "import diffprivlib.models as models"
   ]
  },
  {
   "cell_type": "code",
   "execution_count": 2,
   "metadata": {},
   "outputs": [],
   "source": [
    "np.random.seed(0)"
   ]
  },
  {
   "cell_type": "code",
   "execution_count": 3,
   "metadata": {},
   "outputs": [],
   "source": [
    "def load_data_from_file(path='processed.cleveland.data'):\n",
    "    data = []\n",
    "    with open(path) as f:\n",
    "        for line in f.readlines():\n",
    "            if '?' in line: # just remove lines with missing data for simplicity\n",
    "                continue\n",
    "            line = line[:-1] # strip newline\n",
    "            line = line.split(',')\n",
    "            row = []\n",
    "            for item in line:\n",
    "                row.append(float(item))\n",
    "            data.append(row)\n",
    "    return np.array(data)"
   ]
  },
  {
   "cell_type": "code",
   "execution_count": 4,
   "metadata": {},
   "outputs": [],
   "source": [
    "data = load_data_from_file()"
   ]
  },
  {
   "cell_type": "markdown",
   "metadata": {},
   "source": [
    "### Attribute Information\n",
    "01: age <br/>\n",
    "02: sex (binary) <br/>\n",
    "03: chest pain type (categorical) <br/>\n",
    "04: resting blood pressure <br/>\n",
    "05: serum cholestoral in mg/dl <br/>\n",
    "06: fasting blood sugar > 120 mg/dl (binary) <br/>\n",
    "07: resting electrocardiographic results (categorical) <br/>\n",
    "08: maximum heart rate achieved  <br/>\n",
    "09: exercise induced angina (binary) <br/>\n",
    "10: ST depression induced by exercise relative to rest <br/>\n",
    "11: the slope of the peak exercise ST segment (categorical) <br/> \n",
    "12: number of major vessels (0-3) colored by flourosopy <br/>\n",
    "13: thal: 3 = normal; 6 = fixed defect; 7 = reversable defect (categorical)  <br/>\n",
    "14: diagnosis of heart disease (binary-ish) <br/>"
   ]
  },
  {
   "cell_type": "code",
   "execution_count": 5,
   "metadata": {},
   "outputs": [],
   "source": [
    "X = data[:,:13]\n",
    "y = data[:,-1]\n",
    "y[y>0]=1 # binarize\n",
    "(n,d) = X.shape\n",
    "# transform categorical attributes into one-hot-encoded\n",
    "cat_to_one_hot = {\n",
    "    2: {\n",
    "        1: [1,0,0,0],\n",
    "        2: [0,1,0,0],\n",
    "        3: [0,0,1,0],\n",
    "        4: [0,0,0,1],\n",
    "    },\n",
    "    6: {\n",
    "        0: [1,0,0],\n",
    "        1: [0,1,0],\n",
    "        2: [0,0,1],\n",
    "    },\n",
    "    10: {\n",
    "        1: [1,0,0],\n",
    "        2: [0,1,0],\n",
    "        3: [0,0,1],\n",
    "    },\n",
    "    12: {\n",
    "        3: [1,0,0],\n",
    "        6: [0,1,0],\n",
    "        7: [0,0,1],\n",
    "    },\n",
    "}\n",
    "new_X = []\n",
    "for i in range(n):\n",
    "    row = []\n",
    "    for j in range(d):\n",
    "        if j in cat_to_one_hot.keys():\n",
    "            mapping = cat_to_one_hot[j]\n",
    "            val = mapping[X[i][j]]\n",
    "            for elt in val:\n",
    "                row.append(elt)\n",
    "        else:\n",
    "            row.append(X[i][j])\n",
    "    new_X.append(row)\n",
    "X = np.array(new_X)\n",
    "# scale each feature to [0,1]\n",
    "(n,d) = X.shape\n",
    "col_mins = np.min(X, axis=0)\n",
    "col_maxs = np.max(X, axis=0)\n",
    "X = (X - col_mins) / (col_maxs - col_mins)"
   ]
  },
  {
   "cell_type": "code",
   "execution_count": 41,
   "metadata": {},
   "outputs": [],
   "source": [
    "indices = np.array(range(n))\n",
    "np.random.seed(5678)\n",
    "np.random.shuffle(indices)\n",
    "sz = int(n * 0.2)\n",
    "train_ind = indices[:sz]\n",
    "validation_ind = indices[sz:2*sz]\n",
    "test_ind = indices[2*sz:]"
   ]
  },
  {
   "cell_type": "code",
   "execution_count": 42,
   "metadata": {},
   "outputs": [],
   "source": [
    "X_train = X[train_ind]\n",
    "y_train = y[train_ind]\n",
    "X_valid = X[validation_ind]\n",
    "y_valid = y[validation_ind]\n",
    "X_test = X[test_ind]\n",
    "y_test = y[test_ind]"
   ]
  },
  {
   "cell_type": "code",
   "execution_count": 43,
   "metadata": {},
   "outputs": [
    {
     "name": "stdout",
     "output_type": "stream",
     "text": [
      "49.2% of patients in the training set have heart disease and 50.8% do not.\n"
     ]
    }
   ],
   "source": [
    "percent_positive = round(np.mean(y_train)*100,1)\n",
    "percent_negative = 100-percent_positive\n",
    "print('{}% of patients in the training set have heart disease and {}% do not.'.format(percent_positive, percent_negative))"
   ]
  },
  {
   "cell_type": "code",
   "execution_count": 44,
   "metadata": {},
   "outputs": [
    {
     "name": "stdout",
     "output_type": "stream",
     "text": [
      "(59, 22)\n",
      "(59, 22)\n",
      "(179, 22)\n"
     ]
    }
   ],
   "source": [
    "print(X_train.shape)\n",
    "print(X_valid.shape)\n",
    "print(X_test.shape)"
   ]
  },
  {
   "cell_type": "markdown",
   "metadata": {},
   "source": [
    "### Train Classifiers"
   ]
  },
  {
   "cell_type": "code",
   "execution_count": 45,
   "metadata": {},
   "outputs": [
    {
     "name": "stdout",
     "output_type": "stream",
     "text": [
      "Accuracy of non-private logistic regression (on validation set): 81.35593220338984%\n"
     ]
    }
   ],
   "source": [
    "gnb = GaussianNB()\n",
    "preds = gnb.fit(X_train, y_train).predict(X_valid)\n",
    "acc = np.mean((preds==y_valid).astype(float))*100\n",
    "print('Accuracy of non-private logistic regression (on validation set): {}%'.format(acc))"
   ]
  },
  {
   "cell_type": "code",
   "execution_count": 111,
   "metadata": {},
   "outputs": [
    {
     "name": "stdout",
     "output_type": "stream",
     "text": [
      "Accuracy of private logistic regression (on validation set): 77.96610169491525%\n"
     ]
    }
   ],
   "source": [
    "gnbDP = models.GaussianNB(epsilon=100, bounds=[(1,10),(1,10),(1,10),(1,10),(1,10),(1,10),(1,10),(1,10),(1,10),(1,10),(1,10),(1,10),(1,10),(1,10),(1,10),(1,10),(1,10),(1,10),(1,10),(1,10),(1,10),(1,10)])\n",
    "predsDP = gnbDP.fit(X_train, y_train).predict(X_test)\n",
    "\n",
    "predsDP = gnbDP.predict(X_valid)\n",
    "acc = np.mean((predsDP==y_valid).astype(float))*100\n",
    "print('Accuracy of private logistic regression (on validation set): {}%'.format(acc))"
   ]
  },
  {
   "cell_type": "markdown",
   "metadata": {},
   "source": [
    "### Accuracy Breakdown by Sex"
   ]
  },
  {
   "cell_type": "code",
   "execution_count": 115,
   "metadata": {},
   "outputs": [],
   "source": [
    "n = len(y_valid)\n",
    "f_valid_indices = [i for i in range(n) if X_valid[i,1] == 0]\n",
    "m_valid_indices = [i for i in range(n) if X_valid[i,1] == 1]"
   ]
  },
  {
   "cell_type": "code",
   "execution_count": 116,
   "metadata": {},
   "outputs": [
    {
     "name": "stdout",
     "output_type": "stream",
     "text": [
      "32.20338983050847% of patients in the training set are women.\n",
      "37.28813559322034% of patients in the validation set are women.\n"
     ]
    }
   ],
   "source": [
    "print('{}% of patients in the training set are women.'.format(np.mean(X_train[:,1]==0)*100))\n",
    "print('{}% of patients in the validation set are women.'.format(np.mean(X_valid[:,1]==0)*100))"
   ]
  },
  {
   "cell_type": "code",
   "execution_count": 117,
   "metadata": {},
   "outputs": [
    {
     "name": "stdout",
     "output_type": "stream",
     "text": [
      "Accuracy of non-private classifier on WOMEN in validation set: 86.36363636363636\n",
      "Accuracy of non-private classifier on MEN in validation set: 78.37837837837837\n"
     ]
    }
   ],
   "source": [
    "f_acc = np.mean((preds==y_valid)[f_valid_indices].astype(float))*100\n",
    "m_acc = np.mean((preds==y_valid)[m_valid_indices].astype(float))*100\n",
    "print('Accuracy of non-private classifier on WOMEN in validation set:', f_acc)\n",
    "print('Accuracy of non-private classifier on MEN in validation set:', m_acc)"
   ]
  },
  {
   "cell_type": "code",
   "execution_count": 118,
   "metadata": {},
   "outputs": [
    {
     "name": "stdout",
     "output_type": "stream",
     "text": [
      "Accuracy of private classifier on WOMEN in validation set: 86.36363636363636\n",
      "Accuracy of private classifier on MEN in validation set: 72.97297297297297\n"
     ]
    }
   ],
   "source": [
    "f_acc_DP = np.mean((predsDP==y_valid)[f_valid_indices].astype(float))*100\n",
    "m_acc_DP = np.mean((predsDP==y_valid)[m_valid_indices].astype(float))*100\n",
    "print('Accuracy of private classifier on WOMEN in validation set:', f_acc_DP)\n",
    "print('Accuracy of private classifier on MEN in validation set:', m_acc_DP)"
   ]
  },
  {
   "cell_type": "code",
   "execution_count": 119,
   "metadata": {},
   "outputs": [
    {
     "name": "stdout",
     "output_type": "stream",
     "text": [
      "% accuracy reduction for WOMEN in the validation set: 0.0\n",
      "% accuracy reduction for MEN in the validation set: 5.4054054054054035\n"
     ]
    }
   ],
   "source": [
    "print('% accuracy reduction for WOMEN in the validation set:', f_acc - f_acc_DP)\n",
    "print('% accuracy reduction for MEN in the validation set:', m_acc - m_acc_DP)"
   ]
  },
  {
   "cell_type": "markdown",
   "metadata": {},
   "source": [
    "# Demographic parity"
   ]
  },
  {
   "cell_type": "code",
   "execution_count": 131,
   "metadata": {},
   "outputs": [
    {
     "name": "stdout",
     "output_type": "stream",
     "text": [
      "Difference in demographic parity for NON-Private classifier is 0.19656019656019658\n"
     ]
    }
   ],
   "source": [
    "f_1 = np.sum((preds== 1)[f_valid_indices].astype(float))\n",
    "f_all = len(f_valid_indices)\n",
    "\n",
    "m_1 = np.sum((preds== 1)[m_valid_indices].astype(float))\n",
    "m_all = len(m_valid_indices)\n",
    "\n",
    "print('Difference in demographic parity for NON-Private classifier is', np.abs(f_1/f_all - m_1/m_all))"
   ]
  },
  {
   "cell_type": "code",
   "execution_count": 133,
   "metadata": {},
   "outputs": [
    {
     "name": "stdout",
     "output_type": "stream",
     "text": [
      "Difference in demographic parity for DP (Private) classifier is 0.014742014742014753\n"
     ]
    }
   ],
   "source": [
    "f_1_DP = np.sum((predsDP== 1)[f_valid_indices].astype(float))\n",
    "f_all = len(f_valid_indices)\n",
    "\n",
    "m_1_DP = np.sum((predsDP== 1)[m_valid_indices].astype(float))\n",
    "m_all = len(m_valid_indices)\n",
    "\n",
    "print('Difference in demographic parity for DP (Private) classifier is', np.abs(f_1_DP/f_all - m_1_DP/m_all))"
   ]
  },
  {
   "cell_type": "markdown",
   "metadata": {},
   "source": [
    "# Equal Opportunity"
   ]
  },
  {
   "cell_type": "code",
   "execution_count": 142,
   "metadata": {},
   "outputs": [
    {
     "name": "stdout",
     "output_type": "stream",
     "text": [
      "4.0 7.0 13.0 20.0\n",
      "Difference in demographic parity for NON-Private classifier is 0.07857142857142863\n"
     ]
    }
   ],
   "source": [
    "temp1 = (preds== 1)\n",
    "temp2 = (y_valid == 1)\n",
    "f_1_real1 = np.sum((temp1&temp2)[f_valid_indices].astype(float))\n",
    "f_real1 = np.sum((y_valid==1)[f_valid_indices].astype(float))\n",
    "\n",
    "m_1_real1 = np.sum((temp1&temp2)[m_valid_indices].astype(float))\n",
    "m_real1 = np.sum((y_valid==1)[m_valid_indices].astype(float))\n",
    "\n",
    "print(f_1_real1, f_real1, m_1_real1, m_real1)\n",
    "\n",
    "print('Difference in demographic parity for NON-Private classifier is', np.abs(f_1_real1/f_real1 - m_1_real1/m_real1))"
   ]
  },
  {
   "cell_type": "code",
   "execution_count": 143,
   "metadata": {},
   "outputs": [
    {
     "name": "stdout",
     "output_type": "stream",
     "text": [
      "6.0 7.0 12.0 20.0\n",
      "Difference in demographic parity for NON-Private classifier is 0.2571428571428571\n"
     ]
    }
   ],
   "source": [
    "temp1 = (predsDP == 1)\n",
    "temp2 = (y_valid == 1)\n",
    "f_1_real1 = np.sum((temp1&temp2)[f_valid_indices].astype(float))\n",
    "f_real1 = np.sum((y_valid==1)[f_valid_indices].astype(float))\n",
    "\n",
    "m_1_real1 = np.sum((temp1&temp2)[m_valid_indices].astype(float))\n",
    "m_real1 = np.sum((y_valid==1)[m_valid_indices].astype(float))\n",
    "\n",
    "print(f_1_real1, f_real1, m_1_real1, m_real1)\n",
    "\n",
    "print('Difference in demographic parity for NON-Private classifier is', np.abs(f_1_real1/f_real1 - m_1_real1/m_real1))"
   ]
  },
  {
   "cell_type": "markdown",
   "metadata": {},
   "source": []
  },
  {
   "cell_type": "code",
   "execution_count": null,
   "metadata": {},
   "outputs": [],
   "source": []
  }
 ],
 "metadata": {
  "kernelspec": {
   "display_name": "Python 3",
   "language": "python",
   "name": "python3"
  },
  "language_info": {
   "codemirror_mode": {
    "name": "ipython",
    "version": 3
   },
   "file_extension": ".py",
   "mimetype": "text/x-python",
   "name": "python",
   "nbconvert_exporter": "python",
   "pygments_lexer": "ipython3",
   "version": "3.6.10"
  }
 },
 "nbformat": 4,
 "nbformat_minor": 2
}
