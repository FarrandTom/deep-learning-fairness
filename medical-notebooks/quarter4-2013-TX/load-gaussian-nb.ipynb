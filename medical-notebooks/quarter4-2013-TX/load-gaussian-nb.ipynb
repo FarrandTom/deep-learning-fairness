{
 "cells": [
  {
   "cell_type": "code",
   "execution_count": 1,
   "metadata": {},
   "outputs": [],
   "source": [
    "import pandas as pd"
   ]
  },
  {
   "cell_type": "markdown",
   "metadata": {},
   "source": [
    "# Load Data"
   ]
  },
  {
   "cell_type": "code",
   "execution_count": 2,
   "metadata": {},
   "outputs": [],
   "source": [
    "base1 = pd.read_csv(\"PUDF_base1_4q2013_tab.txt\", sep='\\t', low_memory = False)"
   ]
  },
  {
   "cell_type": "code",
   "execution_count": 3,
   "metadata": {},
   "outputs": [
    {
     "name": "stdout",
     "output_type": "stream",
     "text": [
      "(729582, 194)\n"
     ]
    }
   ],
   "source": [
    "print(base1.shape)"
   ]
  },
  {
   "cell_type": "code",
   "execution_count": 4,
   "metadata": {},
   "outputs": [],
   "source": [
    "data_top = base1.head()  \n",
    "    \n",
    "# display  \n",
    "#print(data_top  )"
   ]
  },
  {
   "cell_type": "code",
   "execution_count": 5,
   "metadata": {},
   "outputs": [
    {
     "name": "stdout",
     "output_type": "stream",
     "text": [
      "RECORD_ID\n",
      "DISCHARGE\n",
      "THCIC_ID\n",
      "PROVIDER_NAME\n",
      "TYPE_OF_ADMISSION\n",
      "SOURCE_OF_ADMISSION\n",
      "SPEC_UNIT_1\n",
      "SPEC_UNIT_2\n",
      "SPEC_UNIT_3\n",
      "SPEC_UNIT_4\n",
      "SPEC_UNIT_5\n",
      "PAT_STATE\n",
      "PAT_ZIP\n",
      "PAT_COUNTRY\n",
      "COUNTY\n",
      "PUBLIC_HEALTH_REGION\n",
      "PAT_STATUS\n",
      "SEX_CODE\n",
      "RACE\n",
      "ETHNICITY\n",
      "ADMIT_WEEKDAY\n",
      "LENGTH_OF_STAY\n",
      "PAT_AGE\n",
      "FIRST_PAYMENT_SRC\n",
      "SECONDARY_PAYMENT_SRC\n",
      "TYPE_OF_BILL\n",
      "TOTAL_CHARGES\n",
      "TOTAL_NON_COV_CHARGES\n",
      "TOTAL_CHARGES_ACCOMM\n",
      "TOTAL_NON_COV_CHARGES_ACCOMM\n",
      "TOTAL_CHARGES_ANCIL\n",
      "TOTAL_NON_COV_CHARGES_ANCIL\n",
      "POA_PROVIDER_INDICATOR\n",
      "ADMITTING_DIAGNOSIS\n",
      "PRINC_DIAG_CODE\n",
      "POA_PRINC_DIAG_CODE\n",
      "OTH_DIAG_CODE_1\n",
      "POA_OTH_DIAG_CODE_1\n",
      "OTH_DIAG_CODE_2\n",
      "POA_OTH_DIAG_CODE_2\n",
      "OTH_DIAG_CODE_3\n",
      "POA_OTH_DIAG_CODE_3\n",
      "OTH_DIAG_CODE_4\n",
      "POA_OTH_DIAG_CODE_4\n",
      "OTH_DIAG_CODE_5\n",
      "POA_OTH_DIAG_CODE_5\n",
      "OTH_DIAG_CODE_6\n",
      "POA_OTH_DIAG_CODE_6\n",
      "OTH_DIAG_CODE_7\n",
      "POA_OTH_DIAG_CODE_7\n",
      "OTH_DIAG_CODE_8\n",
      "POA_OTH_DIAG_CODE_8\n",
      "OTH_DIAG_CODE_9\n",
      "POA_OTH_DIAG_CODE_9\n",
      "OTH_DIAG_CODE_10\n",
      "POA_OTH_DIAG_CODE_10\n",
      "OTH_DIAG_CODE_11\n",
      "POA_OTH_DIAG_CODE_11\n",
      "OTH_DIAG_CODE_12\n",
      "POA_OTH_DIAG_CODE_12\n",
      "OTH_DIAG_CODE_13\n",
      "POA_OTH_DIAG_CODE_13\n",
      "OTH_DIAG_CODE_14\n",
      "POA_OTH_DIAG_CODE_14\n",
      "OTH_DIAG_CODE_15\n",
      "POA_OTH_DIAG_CODE_15\n",
      "OTH_DIAG_CODE_16\n",
      "POA_OTH_DIAG_CODE_16\n",
      "OTH_DIAG_CODE_17\n",
      "POA_OTH_DIAG_CODE_17\n",
      "OTH_DIAG_CODE_18\n",
      "POA_OTH_DIAG_CODE_18\n",
      "OTH_DIAG_CODE_19\n",
      "POA_OTH_DIAG_CODE_19\n",
      "OTH_DIAG_CODE_20\n",
      "POA_OTH_DIAG_CODE_20\n",
      "OTH_DIAG_CODE_21\n",
      "POA_OTH_DIAG_CODE_21\n",
      "OTH_DIAG_CODE_22\n",
      "POA_OTH_DIAG_CODE_22\n",
      "OTH_DIAG_CODE_23\n",
      "POA_OTH_DIAG_CODE_23\n",
      "OTH_DIAG_CODE_24\n",
      "POA_OTH_DIAG_CODE_24\n",
      "E_CODE_1\n",
      "POA_E_CODE_1\n",
      "E_CODE_2\n",
      "POA_E_CODE_2\n",
      "E_CODE_3\n",
      "POA_E_CODE_3\n",
      "E_CODE_4\n",
      "POA_E_CODE_4\n",
      "E_CODE_5\n",
      "POA_E_CODE_5\n",
      "E_CODE_6\n",
      "POA_E_CODE_6\n",
      "E_CODE_7\n",
      "POA_E_CODE_7\n",
      "E_CODE_8\n",
      "POA_E_CODE_8\n",
      "E_CODE_9\n",
      "POA_E_CODE_9\n",
      "E_CODE_10\n",
      "POA_E_CODE_10\n",
      "PRINC_SURG_PROC_CODE\n",
      "PRINC_SURG_PROC_DAY\n",
      "PRINC_ICD9_CODE\n",
      "OTH_SURG_PROC_CODE_1\n",
      "OTH_SURG_PROC_DAY_1\n",
      "OTH_ICD9_CODE_1\n",
      "OTH_SURG_PROC_CODE_2\n",
      "OTH_SURG_PROC_DAY_2\n",
      "OTH_ICD9_CODE_2\n",
      "OTH_SURG_PROC_CODE_3\n",
      "OTH_SURG_PROC_DAY_3\n",
      "OTH_ICD9_CODE_3\n",
      "OTH_SURG_PROC_CODE_4\n",
      "OTH_SURG_PROC_DAY_4\n",
      "OTH_ICD9_CODE_4\n",
      "OTH_SURG_PROC_CODE_5\n",
      "OTH_SURG_PROC_DAY_5\n",
      "OTH_ICD9_CODE_5\n",
      "OTH_SURG_PROC_CODE_6\n",
      "OTH_SURG_PROC_DAY_6\n",
      "OTH_ICD9_CODE_6\n",
      "OTH_SURG_PROC_CODE_7\n",
      "OTH_SURG_PROC_DAY_7\n",
      "OTH_ICD9_CODE_7\n",
      "OTH_SURG_PROC_CODE_8\n",
      "OTH_SURG_PROC_DAY_8\n",
      "OTH_ICD9_CODE_8\n",
      "OTH_SURG_PROC_CODE_9\n",
      "OTH_SURG_PROC_DAY_9\n",
      "OTH_ICD9_CODE_9\n",
      "OTH_SURG_PROC_CODE_10\n",
      "OTH_SURG_PROC_DAY_10\n",
      "OTH_ICD9_CODE_10\n",
      "OTH_SURG_PROC_CODE_11\n",
      "OTH_SURG_PROC_DAY_11\n",
      "OTH_ICD9_CODE_11\n",
      "OTH_SURG_PROC_CODE_12\n",
      "OTH_SURG_PROC_DAY_12\n",
      "OTH_ICD9_CODE_12\n",
      "OTH_SURG_PROC_CODE_13\n",
      "OTH_SURG_PROC_DAY_13\n",
      "OTH_ICD9_CODE_13\n",
      "OTH_SURG_PROC_CODE_14\n",
      "OTH_SURG_PROC_DAY_14\n",
      "OTH_ICD9_CODE_14\n",
      "OTH_SURG_PROC_CODE_15\n",
      "OTH_SURG_PROC_DAY_15\n",
      "OTH_ICD9_CODE_15\n",
      "OTH_SURG_PROC_CODE_16\n",
      "OTH_SURG_PROC_DAY_16\n",
      "OTH_ICD9_CODE_16\n",
      "OTH_SURG_PROC_CODE_17\n",
      "OTH_SURG_PROC_DAY_17\n",
      "OTH_ICD9_CODE_17\n",
      "OTH_SURG_PROC_CODE_18\n",
      "OTH_SURG_PROC_DAY_18\n",
      "OTH_ICD9_CODE_18\n",
      "OTH_SURG_PROC_CODE_19\n",
      "OTH_SURG_PROC_DAY_19\n",
      "OTH_ICD9_CODE_19\n",
      "OTH_SURG_PROC_CODE_20\n",
      "OTH_SURG_PROC_DAY_20\n",
      "OTH_ICD9_CODE_20\n",
      "OTH_SURG_PROC_CODE_21\n",
      "OTH_SURG_PROC_DAY_21\n",
      "OTH_ICD9_CODE_21\n",
      "OTH_SURG_PROC_CODE_22\n",
      "OTH_SURG_PROC_DAY_22\n",
      "OTH_ICD9_CODE_22\n",
      "OTH_SURG_PROC_CODE_23\n",
      "OTH_SURG_PROC_DAY_23\n",
      "OTH_ICD9_CODE_23\n",
      "OTH_SURG_PROC_CODE_24\n",
      "OTH_SURG_PROC_DAY_24\n",
      "OTH_ICD9_CODE_24\n",
      "MS_MDC\n",
      "MS_DRG\n",
      "MS_GROUPER_VERSION_NBR\n",
      "MS_GROUPER_ERROR_CODE\n",
      "APR_MDC\n",
      "APR_DRG\n",
      "RISK_MORTALITY\n",
      "ILLNESS_SEVERITY\n",
      "APR_GROUPER_VERSION_NBR\n",
      "APR_GROUPER_ERROR_CODE\n",
      "ATTENDING_PHYSICIAN_UNIF_ID\n",
      "OPERATING_PHYSICIAN_UNIF_ID\n",
      "ENCOUNTER_INDICATOR\n",
      "CERT_STATUS\n",
      "FILLER_SPACE\n"
     ]
    }
   ],
   "source": [
    "for col in base1.columns: \n",
    "    print(col) "
   ]
  },
  {
   "cell_type": "markdown",
   "metadata": {},
   "source": [
    "# Select  Subset Column"
   ]
  },
  {
   "cell_type": "code",
   "execution_count": 251,
   "metadata": {},
   "outputs": [],
   "source": [
    "base1_subset =  base1[['TYPE_OF_ADMISSION','SOURCE_OF_ADMISSION','PAT_STATUS', 'SEX_CODE','RACE','ETHNICITY','LENGTH_OF_STAY' ,'PAT_AGE']].copy()\n"
   ]
  },
  {
   "cell_type": "code",
   "execution_count": 252,
   "metadata": {},
   "outputs": [
    {
     "name": "stdout",
     "output_type": "stream",
     "text": [
      "TYPE_OF_ADMISSION\n",
      "SOURCE_OF_ADMISSION\n",
      "PAT_STATUS\n",
      "SEX_CODE\n",
      "RACE\n",
      "ETHNICITY\n",
      "LENGTH_OF_STAY\n",
      "PAT_AGE\n"
     ]
    }
   ],
   "source": [
    "for col in base1_subset.columns: \n",
    "    print(col) "
   ]
  },
  {
   "cell_type": "code",
   "execution_count": 253,
   "metadata": {},
   "outputs": [
    {
     "name": "stdout",
     "output_type": "stream",
     "text": [
      "  TYPE_OF_ADMISSION SOURCE_OF_ADMISSION PAT_STATUS SEX_CODE RACE ETHNICITY  \\\n",
      "0                 2                   8         01        F    4         1   \n",
      "1                 2                   8         01        F    4         1   \n",
      "2                 2                   8         01        F    4         2   \n",
      "3                 2                   8         01        M    3         2   \n",
      "4                 2                   8         01        M    4         2   \n",
      "\n",
      "   LENGTH_OF_STAY  PAT_AGE  \n",
      "0             4.0       10  \n",
      "1            17.0        8  \n",
      "2             5.0        9  \n",
      "3            13.0        9  \n",
      "4             4.0       13  \n"
     ]
    }
   ],
   "source": [
    "subset_top = base1_subset.head() \n",
    "print(subset_top)"
   ]
  },
  {
   "cell_type": "code",
   "execution_count": 254,
   "metadata": {},
   "outputs": [],
   "source": [
    "base1_subset['SEX_CODE'].replace('F', 1, inplace= True)\n",
    "base1_subset['SEX_CODE'].replace('M', 2, inplace = True)"
   ]
  },
  {
   "cell_type": "code",
   "execution_count": 255,
   "metadata": {},
   "outputs": [
    {
     "name": "stdout",
     "output_type": "stream",
     "text": [
      "  TYPE_OF_ADMISSION SOURCE_OF_ADMISSION PAT_STATUS SEX_CODE RACE ETHNICITY  \\\n",
      "0                 2                   8         01        1    4         1   \n",
      "1                 2                   8         01        1    4         1   \n",
      "2                 2                   8         01        1    4         2   \n",
      "3                 2                   8         01        2    3         2   \n",
      "4                 2                   8         01        2    4         2   \n",
      "\n",
      "   LENGTH_OF_STAY  PAT_AGE  \n",
      "0             4.0       10  \n",
      "1            17.0        8  \n",
      "2             5.0        9  \n",
      "3            13.0        9  \n",
      "4             4.0       13  \n"
     ]
    }
   ],
   "source": [
    "subset_top = base1_subset.head() \n",
    "print(subset_top)"
   ]
  },
  {
   "cell_type": "markdown",
   "metadata": {},
   "source": [
    "# Fit to Naive Bayes Model"
   ]
  },
  {
   "cell_type": "code",
   "execution_count": 298,
   "metadata": {},
   "outputs": [],
   "source": [
    "base1_subset =base1_subset.dropna()\n",
    "base1_subset = base1_subset[base1_subset['TYPE_OF_ADMISSION'] !='`']\n",
    "base1_subset = base1_subset[base1_subset['SOURCE_OF_ADMISSION'] !='D']\n",
    "base1_subset = base1_subset[base1_subset['SOURCE_OF_ADMISSION'] !='`']\n",
    "base1_subset = base1_subset[base1_subset['PAT_STATUS'] !='`']\n",
    "base1_subset = base1_subset[base1_subset['RACE'] !='`']\n",
    "base1_subset = base1_subset[base1_subset['RACE'] !='U']\n",
    "base1_subset = base1_subset[base1_subset['SEX_CODE'] !='U']\n",
    "base1_subset = base1_subset[base1_subset['ETHNICITY'] !='`']\n",
    "#base1_subset = base1_subset[base1_subset['ADMITTING_DIAGNOSIS'] !='U']\n",
    "#base1_subset = base1_subset[base1_subset['ADMITTING_DIAGNOSIS'] !='V3000']\n",
    "#base1_subset = base1_subset[base1_subset['PRINC_DIAG_CODE'] !='U']\n",
    "\n",
    "x = base1_subset.drop('LENGTH_OF_STAY', axis =1)\n",
    "y= base1_subset['LENGTH_OF_STAY'].astype('float32')\n"
   ]
  },
  {
   "cell_type": "code",
   "execution_count": 299,
   "metadata": {},
   "outputs": [],
   "source": [
    "import numpy as np\n",
    "from sklearn.model_selection import train_test_split\n",
    "y=np.array(y)"
   ]
  },
  {
   "cell_type": "code",
   "execution_count": 300,
   "metadata": {},
   "outputs": [
    {
     "name": "stdout",
     "output_type": "stream",
     "text": [
      "1989.0\n",
      "(662138, 8)\n"
     ]
    }
   ],
   "source": [
    "print(y.max())\n",
    "print(base1_subset.shape)"
   ]
  },
  {
   "cell_type": "markdown",
   "metadata": {},
   "source": [
    "# Turn to classification"
   ]
  },
  {
   "cell_type": "code",
   "execution_count": 301,
   "metadata": {},
   "outputs": [
    {
     "name": "stdout",
     "output_type": "stream",
     "text": [
      "(662138,)\n"
     ]
    }
   ],
   "source": [
    "print(y.shape)\n",
    "y_ = np.where(y==1, 0,y)\n",
    "y_ = np.where(y>1, 1,y_)\n",
    "y_= np.where(y>10, 2,y_)\n",
    "y_= np.where(y>100, 3,y_)\n",
    "y_= np.where(y>1000, 4,y_)\n"
   ]
  },
  {
   "cell_type": "code",
   "execution_count": 302,
   "metadata": {},
   "outputs": [
    {
     "name": "stdout",
     "output_type": "stream",
     "text": [
      "[ 4. 17.  5. ...  3.  2. 39.]\n",
      "[1. 2. 1. ... 1. 1. 2.]\n"
     ]
    }
   ],
   "source": [
    "print(y)\n",
    "print(y_)"
   ]
  },
  {
   "cell_type": "code",
   "execution_count": 303,
   "metadata": {},
   "outputs": [
    {
     "name": "stdout",
     "output_type": "stream",
     "text": [
      "[['2' '8' '01' ... '1' 4.0 10]\n",
      " ['2' '8' '01' ... '1' 17.0 8]\n",
      " ['2' '8' '01' ... '2' 5.0 9]\n",
      " ...\n",
      " ['3' '1' '01' ... '2' 3.0 15]\n",
      " ['3' '1' '01' ... '2' 2.0 18]\n",
      " ['2' '4' '01' ... '2' 39.0 17]]\n"
     ]
    }
   ],
   "source": [
    "x=np.array(base1_subset)\n",
    "print(x)\n",
    "for row in x:\n",
    "    for element in row:\n",
    "        if isinstance(element, str) and 'U' in element:\n",
    "            print(element, row)"
   ]
  },
  {
   "cell_type": "code",
   "execution_count": 331,
   "metadata": {},
   "outputs": [
    {
     "name": "stdout",
     "output_type": "stream",
     "text": [
      "(662138, 8)\n"
     ]
    }
   ],
   "source": [
    "print(x.shape)"
   ]
  },
  {
   "cell_type": "code",
   "execution_count": 304,
   "metadata": {},
   "outputs": [],
   "source": [
    "X_train, X_test, y_train, y_test = train_test_split(x, y_, test_size=0.3, random_state=0)"
   ]
  },
  {
   "cell_type": "code",
   "execution_count": 305,
   "metadata": {},
   "outputs": [],
   "source": [
    "from sklearn.naive_bayes import GaussianNB\n",
    "gnb = GaussianNB()\n",
    "y_pred = gnb.fit(X_train, y_train).predict(X_test)"
   ]
  },
  {
   "cell_type": "code",
   "execution_count": 306,
   "metadata": {},
   "outputs": [
    {
     "name": "stdout",
     "output_type": "stream",
     "text": [
      "Number of mislabeled points out of a total 198642 points : 8733\n"
     ]
    }
   ],
   "source": [
    " print(\"Number of mislabeled points out of a total %d points : %d\" % (X_test.shape[0], (y_test != y_pred).sum()))"
   ]
  },
  {
   "cell_type": "code",
   "execution_count": 318,
   "metadata": {},
   "outputs": [],
   "source": [
    "# Accuracy on women:\n",
    "women_index = np.argwhere(X_test[:,3]==1)"
   ]
  },
  {
   "cell_type": "code",
   "execution_count": 322,
   "metadata": {},
   "outputs": [
    {
     "name": "stdout",
     "output_type": "stream",
     "text": [
      "115834\n",
      "120509\n"
     ]
    }
   ],
   "source": [
    "print((y_test[women_index] == y_pred[women_index]).sum())\n",
    "print(len(women_index))"
   ]
  },
  {
   "cell_type": "code",
   "execution_count": 323,
   "metadata": {},
   "outputs": [],
   "source": [
    "# # Accuracy on men\n",
    "men_index = np.argwhere(X_test[:,3]==2)"
   ]
  },
  {
   "cell_type": "code",
   "execution_count": 324,
   "metadata": {},
   "outputs": [
    {
     "name": "stdout",
     "output_type": "stream",
     "text": [
      "74075\n",
      "78133\n"
     ]
    }
   ],
   "source": [
    "print((y_test[men_index] == y_pred[men_index]).sum())\n",
    "print(len(men_index))"
   ]
  },
  {
   "cell_type": "code",
   "execution_count": 373,
   "metadata": {},
   "outputs": [
    {
     "name": "stdout",
     "output_type": "stream",
     "text": [
      "0.9612062169630484\n",
      "0.9480629183571603\n"
     ]
    }
   ],
   "source": [
    "print(115834/120509)\n",
    "print(74075/78133)"
   ]
  },
  {
   "cell_type": "markdown",
   "metadata": {},
   "source": [
    "# differential privacy"
   ]
  },
  {
   "cell_type": "code",
   "execution_count": 360,
   "metadata": {},
   "outputs": [],
   "source": [
    "import diffprivlib.models as models"
   ]
  },
  {
   "cell_type": "code",
   "execution_count": 365,
   "metadata": {},
   "outputs": [],
   "source": [
    "clf = models.GaussianNB(epsilon=1,bounds=[(1,100),(1,100),(1,100),(1,100),(1,100),(1,100),(1,100),(1,100)])\n",
    "clf.fit(X_train, y_train)\n",
    "y_dp = clf.predict(X_test)"
   ]
  },
  {
   "cell_type": "code",
   "execution_count": 366,
   "metadata": {},
   "outputs": [
    {
     "name": "stdout",
     "output_type": "stream",
     "text": [
      "Number of mislabeled points out of a total 198642 points : 32936\n"
     ]
    }
   ],
   "source": [
    " print(\"Number of mislabeled points out of a total %d points : %d\" % (X_test.shape[0], (y_test != y_dp).sum()))"
   ]
  },
  {
   "cell_type": "code",
   "execution_count": 369,
   "metadata": {},
   "outputs": [
    {
     "name": "stdout",
     "output_type": "stream",
     "text": [
      "103674\n",
      "120509\n"
     ]
    }
   ],
   "source": [
    "women_index = np.argwhere(X_test[:,3]==1)\n",
    "print((y_test[women_index] == y_dp[women_index]).sum())\n",
    "print(len(women_index))"
   ]
  },
  {
   "cell_type": "code",
   "execution_count": 370,
   "metadata": {},
   "outputs": [
    {
     "name": "stdout",
     "output_type": "stream",
     "text": [
      "62032\n",
      "78133\n"
     ]
    }
   ],
   "source": [
    "# # Accuracy on men\n",
    "men_index = np.argwhere(X_test[:,3]==2)\n",
    "print((y_test[men_index] == y_dp[men_index]).sum())\n",
    "print(len(men_index))"
   ]
  },
  {
   "cell_type": "code",
   "execution_count": 371,
   "metadata": {},
   "outputs": [
    {
     "name": "stdout",
     "output_type": "stream",
     "text": [
      "0.8603008903899294\n",
      "0.7939283017419017\n"
     ]
    }
   ],
   "source": [
    "print(103674/120509)\n",
    "print(62032/78133)"
   ]
  },
  {
   "cell_type": "code",
   "execution_count": null,
   "metadata": {},
   "outputs": [],
   "source": []
  },
  {
   "cell_type": "code",
   "execution_count": 376,
   "metadata": {},
   "outputs": [
    {
     "name": "stdout",
     "output_type": "stream",
     "text": [
      "(281428, 1)\n"
     ]
    }
   ],
   "source": [
    "women_index = np.argwhere(X_train[:,3]==1)\n",
    "print(women_index.shape)"
   ]
  },
  {
   "cell_type": "code",
   "execution_count": 377,
   "metadata": {},
   "outputs": [
    {
     "name": "stdout",
     "output_type": "stream",
     "text": [
      "(182068, 1)\n"
     ]
    }
   ],
   "source": [
    "men_index = np.argwhere(X_train[:,3]==2)\n",
    "print(men_index.shape)"
   ]
  },
  {
   "cell_type": "code",
   "execution_count": null,
   "metadata": {},
   "outputs": [],
   "source": []
  }
 ],
 "metadata": {
  "kernelspec": {
   "display_name": "Python 3",
   "language": "python",
   "name": "python3"
  },
  "language_info": {
   "codemirror_mode": {
    "name": "ipython",
    "version": 3
   },
   "file_extension": ".py",
   "mimetype": "text/x-python",
   "name": "python",
   "nbconvert_exporter": "python",
   "pygments_lexer": "ipython3",
   "version": "3.6.10"
  }
 },
 "nbformat": 4,
 "nbformat_minor": 4
}
